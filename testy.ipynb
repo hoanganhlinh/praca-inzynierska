{
 "cells": [
  {
   "cell_type": "code",
   "execution_count": 21,
   "metadata": {},
   "outputs": [],
   "source": [
    "import pandas as pd\n",
    "import numpy as np\n",
    "import scipy\n",
    "from scipy import stats\n",
    "import matplotlib.pyplot as plt"
   ]
  },
  {
   "cell_type": "code",
   "execution_count": 8,
   "metadata": {},
   "outputs": [
    {
     "data": {
      "text/html": [
       "<div>\n",
       "<style scoped>\n",
       "    .dataframe tbody tr th:only-of-type {\n",
       "        vertical-align: middle;\n",
       "    }\n",
       "\n",
       "    .dataframe tbody tr th {\n",
       "        vertical-align: top;\n",
       "    }\n",
       "\n",
       "    .dataframe thead th {\n",
       "        text-align: right;\n",
       "    }\n",
       "</style>\n",
       "<table border=\"1\" class=\"dataframe\">\n",
       "  <thead>\n",
       "    <tr style=\"text-align: right;\">\n",
       "      <th></th>\n",
       "      <th>trip_id</th>\n",
       "      <th>arrival_time_x</th>\n",
       "      <th>departure_time_x</th>\n",
       "      <th>stop_id</th>\n",
       "      <th>stop_sequence_x</th>\n",
       "      <th>route_id</th>\n",
       "      <th>service_id</th>\n",
       "      <th>wheelchair_accessible</th>\n",
       "      <th>agency_id</th>\n",
       "      <th>route_short_name</th>\n",
       "      <th>route_long_name</th>\n",
       "      <th>route_type</th>\n",
       "      <th>arrival_time_y</th>\n",
       "      <th>departure_time_y</th>\n",
       "      <th>stop_sequence_y</th>\n",
       "      <th>diff</th>\n",
       "    </tr>\n",
       "  </thead>\n",
       "  <tbody>\n",
       "    <tr>\n",
       "      <th>0</th>\n",
       "      <td>1_020_1_0338</td>\n",
       "      <td>03:55:00</td>\n",
       "      <td>03:55:00</td>\n",
       "      <td>7091_07</td>\n",
       "      <td>1</td>\n",
       "      <td>1</td>\n",
       "      <td>1</td>\n",
       "      <td>1</td>\n",
       "      <td>ZTM</td>\n",
       "      <td>1</td>\n",
       "      <td>Annopol</td>\n",
       "      <td>0</td>\n",
       "      <td>03:55:24</td>\n",
       "      <td>03:55:24</td>\n",
       "      <td>1</td>\n",
       "      <td>24.0</td>\n",
       "    </tr>\n",
       "  </tbody>\n",
       "</table>\n",
       "</div>"
      ],
      "text/plain": [
       "        trip_id arrival_time_x departure_time_x   stop_id  stop_sequence_x  \\\n",
       "0  1_020_1_0338       03:55:00         03:55:00   7091_07                1   \n",
       "\n",
       "   route_id  service_id  wheelchair_accessible agency_id route_short_name  \\\n",
       "0         1           1                      1       ZTM                1   \n",
       "\n",
       "  route_long_name  route_type arrival_time_y departure_time_y  \\\n",
       "0         Annopol           0       03:55:24         03:55:24   \n",
       "\n",
       "   stop_sequence_y  diff  \n",
       "0                1  24.0  "
      ]
     },
     "execution_count": 8,
     "metadata": {},
     "output_type": "execute_result"
    },
    {
     "data": {
      "image/png": "[encoded data removed]",
      "text/plain": [
       "<Figure size 864x576 with 1 Axes>"
      ]
     },
     "metadata": {
      "needs_background": "light"
     },
     "output_type": "display_data"
    }
   ],
   "source": [
    "# directory = \"../dane/gtfs-drive/\"\n",
    "directory = \"../dane/gtfs-drive/\"\n",
    "filepath = directory + '2023-06-15' # konkretny plik wybieramy\n",
    "extension = \".gtfs\"\n",
    "routes_df = pd.read_csv(filepath + extension + \"/routes.txt\")\n",
    "stop_times_df = pd.read_csv(filepath + extension + \"/stop_times.txt\")\n",
    "trips_df = pd.read_csv(filepath + extension + \"/trips.txt\")\n",
    "rt_stop_times_df = pd.read_csv(filepath + '-rt.gtfs/stop_times.txt')\n",
    "merged_df = stop_times_df.merge(trips_df, on = 'trip_id').merge(routes_df, on = 'route_id').merge(rt_stop_times_df, on=['trip_id', 'stop_id'])\n",
    "merged_df['arrival_time_x'] = merged_df['arrival_time_x'].str.strip()\n",
    "merged_df['arrival_time_y'] = merged_df['arrival_time_y'].str.strip()\n",
    "\n",
    "# Create the past_midnight column\n",
    "\n",
    "merged_df['diff'] = pd.to_timedelta(merged_df['arrival_time_y'], errors='coerce') - pd.to_timedelta(merged_df['arrival_time_x'], errors='coerce')\n",
    "merged_df['diff'] = merged_df['diff'].apply(lambda x: pd.Timedelta.total_seconds(x))\n",
    "\n",
    "\n",
    "lower_quantile = merged_df['diff'].quantile(0.025)\n",
    "upper_quantile = merged_df['diff'].quantile(0.975)\n",
    "# Filter the dataframe to keep values within the 2.5% - 97.5% range\n",
    "filtered_df = merged_df[(merged_df['diff'] >= lower_quantile) & (merged_df['diff'] <= upper_quantile)]\n",
    "\n",
    "fig, ax = plt.subplots(1,1)\n",
    "fig.set_size_inches(12,8)\n",
    "filtered_df['diff'].hist(ax=ax, bins = 50)\n",
    "ax.set_title(f'histogram opóźnień z pojedynczego dnia, dane odfiltrowane, {day}', fontsize = 24)\n",
    "ax.set_xlabel('seconds', fontsize = 16)\n",
    "ax.set_ylabel('count', fontsize = 16)\n",
    "filtered_df.head(1)"
   ]
  },
  {
   "cell_type": "code",
   "execution_count": 22,
   "metadata": {},
   "outputs": [
    {
     "ename": "AttributeError",
     "evalue": "module 'scipy.stats' has no attribute 'ecdf'",
     "output_type": "error",
     "traceback": [
      "\u001b[1;31m---------------------------------------------------------------------------\u001b[0m",
      "\u001b[1;31mAttributeError\u001b[0m                            Traceback (most recent call last)",
      "\u001b[1;32md:\\school\\sem7\\inzynierka\\praca-inzynierska\\testy.ipynb Cell 3\u001b[0m line \u001b[0;36m5\n\u001b[0;32m      <a href='vscode-notebook-cell:/d%3A/school/sem7/inzynierka/praca-inzynierska/testy.ipynb#W2sZmlsZQ%3D%3D?line=2'>3</a>\u001b[0m sample \u001b[39m=\u001b[39m filtered_df[filtered_df[\u001b[39m'\u001b[39m\u001b[39mroute_short_name\u001b[39m\u001b[39m'\u001b[39m] \u001b[39m==\u001b[39m line]\n\u001b[0;32m      <a href='vscode-notebook-cell:/d%3A/school/sem7/inzynierka/praca-inzynierska/testy.ipynb#W2sZmlsZQ%3D%3D?line=3'>4</a>\u001b[0m sample \u001b[39m=\u001b[39m sample[\u001b[39m'\u001b[39m\u001b[39mdiff\u001b[39m\u001b[39m'\u001b[39m]\n\u001b[1;32m----> <a href='vscode-notebook-cell:/d%3A/school/sem7/inzynierka/praca-inzynierska/testy.ipynb#W2sZmlsZQ%3D%3D?line=4'>5</a>\u001b[0m ecdfs\u001b[39m.\u001b[39mappend(stats\u001b[39m.\u001b[39;49mecdf(sample))\n",
      "\u001b[1;31mAttributeError\u001b[0m: module 'scipy.stats' has no attribute 'ecdf'"
     ]
    }
   ],
   "source": [
    "ecdfs = []\n",
    "for line in filtered_df['route_short_name'].unique():\n",
    "    sample = filtered_df[filtered_df['route_short_name'] == line]\n",
    "    sample = sample['diff']\n",
    "    ecdfs.append(stats.ecdf(sample))"
   ]
  },
  {
   "cell_type": "code",
   "execution_count": 23,
   "metadata": {},
   "outputs": [
    {
     "ename": "ImportError",
     "evalue": "cannot import name 'ecdf' from 'scipy.stats' (C:\\Users\\mipec\\AppData\\Local\\Packages\\PythonSoftwareFoundation.Python.3.10_qbz5n2kfra8p0\\LocalCache\\local-packages\\Python310\\site-packages\\scipy\\stats\\__init__.py)",
     "output_type": "error",
     "traceback": [
      "\u001b[1;31m---------------------------------------------------------------------------\u001b[0m",
      "\u001b[1;31mImportError\u001b[0m                               Traceback (most recent call last)",
      "\u001b[1;32md:\\school\\sem7\\inzynierka\\praca-inzynierska\\testy.ipynb Cell 4\u001b[0m line \u001b[0;36m2\n\u001b[0;32m      <a href='vscode-notebook-cell:/d%3A/school/sem7/inzynierka/praca-inzynierska/testy.ipynb#X11sZmlsZQ%3D%3D?line=0'>1</a>\u001b[0m \u001b[39mfrom\u001b[39;00m \u001b[39mscipy\u001b[39;00m \u001b[39mimport\u001b[39;00m stats\n\u001b[1;32m----> <a href='vscode-notebook-cell:/d%3A/school/sem7/inzynierka/praca-inzynierska/testy.ipynb#X11sZmlsZQ%3D%3D?line=1'>2</a>\u001b[0m \u001b[39mfrom\u001b[39;00m \u001b[39mscipy\u001b[39;00m\u001b[39m.\u001b[39;00m\u001b[39mstats\u001b[39;00m \u001b[39mimport\u001b[39;00m ecdf\n",
      "\u001b[1;31mImportError\u001b[0m: cannot import name 'ecdf' from 'scipy.stats' (C:\\Users\\mipec\\AppData\\Local\\Packages\\PythonSoftwareFoundation.Python.3.10_qbz5n2kfra8p0\\LocalCache\\local-packages\\Python310\\site-packages\\scipy\\stats\\__init__.py)"
     ]
    }
   ],
   "source": [
    "from scipy import stats\n",
    "from scipy.stats import ecdf"
   ]
  }
 ],
 "metadata": {
  "kernelspec": {
   "display_name": "Python 3",
   "language": "python",
   "name": "python3"
  },
  "language_info": {
   "codemirror_mode": {
    "name": "ipython",
    "version": 3
   },
   "file_extension": ".py",
   "mimetype": "text/x-python",
   "name": "python",
   "nbconvert_exporter": "python",
   "pygments_lexer": "ipython3",
   "version": "3.10.11"
  }
 },
 "nbformat": 4,
 "nbformat_minor": 2
}
