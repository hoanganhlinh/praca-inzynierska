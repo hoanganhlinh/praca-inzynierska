{
 "cells": [
  {
   "cell_type": "markdown",
   "metadata": {},
   "source": [
    "# general info o gtfs\n",
    "| Nazwa pliku    | Wymagany           | Określa                                                                                                                                                                                             |\n",
    "|----------------|--------------------|-----------------------------------------------------------------------------------------------------------------------------------------------------------------------------------------------------|\n",
    "| agency.txt     | Wymagane           | Przewoźnicy z usługą świadczoną w tym zbiorze danych.                                                                                                                                               |\n",
    "| stops.txt      | Wymagane           | Zatrzymuje się, tam gdzie pasażerowie wsiądą lub wysiądą z pojazdu. Definiuje również stacje i wejścia do stacji.                                                                                   |\n",
    "| routes.txt     | Wymagane           | Trasy dojazdu transportem publicznym. Trasa to grupa podróży wyświetlanych pasażerom w ramach jednej usługi.                                                                                        |\n",
    "| trips.txt      | Wymagane           | Podróże na każdej trasie. Podróż to sekwencja co najmniej 2 przesiadek w określonym czasie.                                                                                                         |\n",
    "| stop_times.txt | Wymagane           | Godziny przyjazdu i odjazdu pojazdu.                                                                                                                                                                |\n",
    "| calendar.txt   | Wymagane warunkowo | Daty świadczenia usługi określone w harmonogramie tygodniowym z datami rozpoczęcia i zakończenia. Ten plik jest wymagany, chyba że w calendar_dates.txt zostały zdefiniowane wszystkie daty usługi. |"
   ]
  },
  {
   "cell_type": "markdown",
   "metadata": {},
   "source": [
    "# Agency\n",
    "\n",
    "\n",
    "| Nazwa pola      | Typ             | Wymagany           | Opis                                                                                                                                                                                                                                                                                                                                                                                                                                                  |\n",
    "|-----------------|-----------------|--------------------|-------------------------------------------------------------------------------------------------------------------------------------------------------------------------------------------------------------------------------------------------------------------------------------------------------------------------------------------------------------------------------------------------------------------------------------------------------|\n",
    "| agency_id       | Identyfikator   | Wymagane warunkowo | Wskazuje markę transportu publicznego, która jest często synonimem danego przewoźnika. Pamiętaj, że w niektórych przypadkach, np. gdy jedna agencja prowadzi kilka odrębnych usług, agencje i marki są różne. W tym dokumencie zamiast słowa „marka” używa się określenia „agencja”. Zbiór danych może zawierać dane od wielu agencji. To pole jest wymagane, jeśli zbiór danych zawiera dane wielu przewoźników. W przeciwnym razie jest opcjonalne. |\n",
    "| agency_name     | Tekst           | Wymagane           | Pełna nazwa przewoźnika.                                                                                                                                                                                                                                                                                                                                                                                                                              |\n",
    "| agency_url      | URL             | Wymagane           | Adres URL przewoźnika.                                                                                                                                                                                                                                                                                                                                                                                                                                |\n",
    "| agency_timezone | Strefa czasowa  | Wymagane           | Strefa czasowa przewoźnika. Jeśli w zbiorze danych wskazano wiele agencji, każda z nich musi mieć tę samą wartość agency_timezone.                                                                                                                                                                                                                                                                                                                    |                                                                                                                                                                                                                           |"
   ]
  },
  {
   "cell_type": "code",
   "execution_count": 165,
   "metadata": {},
   "outputs": [
    {
     "data": {
      "text/plain": [
       "Index(['agency_id', 'agency_name', 'agency_url', 'agency_timezone'], dtype='object')"
      ]
     },
     "execution_count": 165,
     "metadata": {},
     "output_type": "execute_result"
    }
   ],
   "source": [
    "agency_df.columns"
   ]
  },
  {
   "cell_type": "markdown",
   "metadata": {},
   "source": [
    "# Stops\n",
    "\n",
    "| Nazwa pola          | Typ                                             | Wymagany           | Opis                                                                                                                                                                                                                                                                                                                                                                                                                                                                                                                                                                                                                                                                                                                                                                                                                                                                                                                                               |\n",
    "|---------------------|-------------------------------------------------|--------------------|----------------------------------------------------------------------------------------------------------------------------------------------------------------------------------------------------------------------------------------------------------------------------------------------------------------------------------------------------------------------------------------------------------------------------------------------------------------------------------------------------------------------------------------------------------------------------------------------------------------------------------------------------------------------------------------------------------------------------------------------------------------------------------------------------------------------------------------------------------------------------------------------------------------------------------------------------|\n",
    "| stop_id             | Identyfikator                                   | Wymagane           | Wskazuje przystanek, stację lub przystanek.  Termin „wejście do stacji” odnosi się zarówno do wejścia na stację, jak i wyjścia do niej. Przystanki, stacje lub wejścia na stację są wspólnie nazywane lokalizacjami. Z tego samego przystanku może korzystać wiele tras.                                                                                                                                                           |\n",
    "| stop_name           | Tekst                                           | Wymagane warunkowo | Nazwa lokalizacji. Użyj nazwy, która będzie zrozumiała dla lokalnego i turystycznego terminu.  Jeśli lokalizacja to miejsce wejścia na pokład (location_type=4), stop_name powinien zawierać nazwę pokładu, którą wyświetla agencja. Może to być tylko jedna litera (na przykład w przypadku niektórych europejskich stacji międzymiastowych) lub tekst „Wjazd na wózek inwalidzki” (Nowy Jork) lub „Nagłówek krótkich pociągów” (Paryż – RER).  Wymagany warunkowo: • Wymagany w przypadku lokalizacji przystanków (location_type=0), stacji (location_type=1) lub wejścia/wyjścia (location_type=2). • Opcjonalny w przypadku lokalizacji będących ogólnymi węzłami (location_type=3).location_type=4                                                                                                                                                                                                                                            |\n",
    "| stop_lat            | Szerokość geograficzna                          | Wymagane warunkowo | Szerokość geograficzna lokalizacji.  Wymagane warunkowo: • Wymagane w przypadku lokalizacji przystanków (location_type=0), stacji (location_type=1) lub wejść/wyjścia (location_type=2). • Opcjonalne w przypadku lokalizacji, które są węzłami ogólnymi (location_type=3) lub obszarami wejścia (location_type=4).                                                                                                                                                                                                                                                                                                                                                                                                                                                                                                                                                                                                                                |\n",
    "| stop_lon            | Długość geograficzna                            | Wymagane warunkowo | Długość geograficzna lokalizacji    location_type=0location_type=1location_type=2location_type=3location_type=4                                                                                                                                                                                                                                                                                                                                                                               |\n",
    "| wheelchair_boarding | Enum                                            | Opcjonalnie        | Wskazuje, czy z danej lokalizacji można wjechać na wózek inwalidzki. Prawidłowe opcje to:  W przypadku postojów bez elementu nadrzędnego: 0 lub puste – brak informacji o przystankach. 1 – w przypadku niektórych pojazdów z tego przystanku może wsiąść się na wózku inwalidzkim. 2 – w tym miejscu nie można wejść na wózek inwalidzki.  W przypadku stacji podrzędnych: 0 lub pusta – element odziedziczy zachowanie wheelchair_boarding ze stacji nadrzędnej, jeśli została określona w nadrzędnej sekcji. 1 – dostępna jest dostępna ścieżka ze stacji lub przystanku spoza stacji. 2 – nie ma dostępnej ścieżki spoza stacji do konkretnego przystanku/platformy.  Wejścia/wyjścia: 0 lub puste – wejście w danym miejscu odziedziczy zachowanie stacji wheelchair_boarding zgodnie z ustawieniem nadrzędnym. 1 – wejście na stację jest dostępne dla niepełnosprawnych. 2 – nie ma dostępnej ścieżki dojazdowej ze stacji lub przystanków. |                                                                                                                                                                                                                                                                                                                                                                                                                                                                                                                                                                                             |"
   ]
  },
  {
   "cell_type": "code",
   "execution_count": 166,
   "metadata": {},
   "outputs": [
    {
     "data": {
      "text/plain": [
       "Index(['stop_id', 'stop_name', 'stop_lat', 'stop_lon', 'wheelchair_boarding'], dtype='object')"
      ]
     },
     "execution_count": 166,
     "metadata": {},
     "output_type": "execute_result"
    }
   ],
   "source": [
    "stops_df.columns"
   ]
  },
  {
   "cell_type": "markdown",
   "metadata": {},
   "source": [
    "# Routes\n",
    "\n",
    "| Nazwa pola          | Typ                                              | Wymagany           | Opis                                                                                                                                                                                                                                                                                                                                                                                                                                                                                                                                                                                                                                                                                                                                                                                                                                                                                                                                                                                                                                                                               |\n",
    "|---------------------|--------------------------------------------------|--------------------|------------------------------------------------------------------------------------------------------------------------------------------------------------------------------------------------------------------------------------------------------------------------------------------------------------------------------------------------------------------------------------------------------------------------------------------------------------------------------------------------------------------------------------------------------------------------------------------------------------------------------------------------------------------------------------------------------------------------------------------------------------------------------------------------------------------------------------------------------------------------------------------------------------------------------------------------------------------------------------------------------------------------------------------------------------------------------------|\n",
    "| route_id            | Identyfikator                                    | Wymagane           | Określa trasę.                                                                                                                                                                                                                                                                                                                                                                                                                                                                                                                                                                                                                                                                                                                                                                                                                                                                                                                                                                                                                                                                     |\n",
    "| agency_id           | Identyfikator odnoszący się do: agency.agency_id | Wymagane warunkowo | Agencja w przypadku określonej trasy. To pole jest wymagane, jeśli zbiór danych dostarcza trasy z więcej niż 1 agencji w agency.txt. W przeciwnym razie jest opcjonalne.                                                                                                                                                                                                                                                                                                                                                                                                                                                                                                                                                                                                                                                                                                                                                                                                                                                                                                           |\n",
    "| route_short_name    | Tekst                                            | Wymagane warunkowo | Krótka nazwa trasy. Często jest to krótki, abstrakcyjny identyfikator, taki jak „32”, „100X” lub „zielony”, który pasażerowie używają do identyfikowania trasy, ale bez podawania tego, gdzie są. Należy określić właściwość route_short_name lub route_long_name, a w razie potrzeby także obie.                                                                                                                                                                                                                                                                                                                                                                                                                                                                                                                                                                                                                                                                                                                                                                                  |\n",
    "| route_long_name     | Tekst                                            | Wymagane warunkowo | Pełna nazwa trasy. Ta nazwa jest zwykle bardziej opisowa niż route_short_name i często zawiera miejsce docelowe trasy lub przystanek. Należy określić właściwość route_short_name lub route_long_name, a w razie potrzeby także obie.                                                                                                                                                                                                                                                                                                                                                                                                                                                                                                                                                                                                                                                                                                                                                                                                                                              |\n",
    "| route_type          | Enum                                             | Wymagane           | Wskazuje rodzaj transportu użytego na trasie. Prawidłowe opcje to:  0 – tramwaj, tramwaj, kolej miejska. Dowolny system kolei miejskiej lub ulicznej w obszarze miejskim. 1 – Metro, metro. Dowolny system kolei podziemnej w obszarze miejskim. 2 – kolej. Służy do podróży międzymiastowych i dalekich. 3 – autobus. Używane w przypadku krótkich i długich tras autobusowych. 4 – prom. Służy do obsługi krótkich i długometrażowych łodzi. 5 – tramwaj linowy. Opcja używana w przypadku tramwajów kolejowych na poziomie ulicy, pod którymi biegnie kabel pod pojazdem, np. kolejka linowa w San Francisco. 6 – kolejka linowa, kolejka linowa (np. kolejka gondolowa, kolejka linowa). Transport kablowy, w którym domki, samochody, gondole lub otwarte krzesła są zawieszone za pomocą co najmniej jednego kabla. 7 – kolej linowo-terenowa. Dowolny system kolei przeznaczony do stromych podjazdów. 11 – Trolejbus. Autobusy elektryczne czerpiące energię z przewodowych przewodów za pomocą masztów. 12 – Monorail. Tor, na którym tor składa się z 1 szyny lub belki. |"
   ]
  },
  {
   "cell_type": "code",
   "execution_count": 168,
   "metadata": {},
   "outputs": [
    {
     "data": {
      "text/plain": [
       "Index(['route_id', 'agency_id', 'route_short_name', 'route_long_name',\n",
       "       'route_type'],\n",
       "      dtype='object')"
      ]
     },
     "execution_count": 168,
     "metadata": {},
     "output_type": "execute_result"
    }
   ],
   "source": [
    "routes_df.columns"
   ]
  },
  {
   "cell_type": "markdown",
   "metadata": {},
   "source": [
    "# Trips\n",
    "\n",
    "| Nazwa pola            | Typ                                                                                       | Wymagany           | Opis                                                                                                                                                                                                                                                                                                                                                                                                                                                                                                                                                                                              |\n",
    "|-----------------------|-------------------------------------------------------------------------------------------|--------------------|---------------------------------------------------------------------------------------------------------------------------------------------------------------------------------------------------------------------------------------------------------------------------------------------------------------------------------------------------------------------------------------------------------------------------------------------------------------------------------------------------------------------------------------------------------------------------------------------------|\n",
    "| route_id              | Identyfikator odnoszący się do: routes.route_id                                           | Wymagane           | Określa trasę.                                                                                                                                                                                                                                                                                                                                                                                                                                                                                                                                                                                    |\n",
    "| service_id            | Identyfikator odnoszący się do elementu calendar.service_id lub calendar_dates.service_id | Wymagane           | Określa zakres dat, w których usługa jest dostępna dla jednej lub większej liczby tras.                                                                                                                                                                                                                                                                                                                                                                                                                                                                                                           |\n",
    "| trip_id               | Identyfikator                                                                             | Wymagane           | Określa podróż.                                                                                                                                                                                                                                                                                                                                                                                                                                                                                                                                                                                   |\n",
    "| wheelchair_accessible | Enum                                                                                      | Opcjonalnie        | Wskazuje dostępność dla osób na wózkach inwalidzkich. Prawidłowe opcje to:  0 lub pusta – brak informacji o dostępności dla danej podróży. 1 – pojazd używany podczas tej podróży może pomieścić co najmniej 1 pasażera. 2 – w trakcie tej podróży nie można jechać na wózku inwalidzkim.                                                                                                                                                                                                                                                                                                         |"
   ]
  },
  {
   "cell_type": "code",
   "execution_count": 169,
   "metadata": {},
   "outputs": [
    {
     "data": {
      "text/plain": [
       "Index(['route_id', 'service_id', 'trip_id', 'wheelchair_accessible'], dtype='object')"
      ]
     },
     "execution_count": 169,
     "metadata": {},
     "output_type": "execute_result"
    }
   ],
   "source": [
    "trips_df.columns"
   ]
  },
  {
   "cell_type": "markdown",
   "metadata": {},
   "source": [
    "# Stoptimes\n",
    "\n",
    "| Nazwa pola          | Typ                                             | Wymagany           | Opis                                                                                                                                                                                                                                                                                                                                                                                                                                                                                                                                                                                                                                                                                                                                                                                                                                                                                                                                                                                                                 |\n",
    "|---------------------|-------------------------------------------------|--------------------|----------------------------------------------------------------------------------------------------------------------------------------------------------------------------------------------------------------------------------------------------------------------------------------------------------------------------------------------------------------------------------------------------------------------------------------------------------------------------------------------------------------------------------------------------------------------------------------------------------------------------------------------------------------------------------------------------------------------------------------------------------------------------------------------------------------------------------------------------------------------------------------------------------------------------------------------------------------------------------------------------------------------|\n",
    "| trip_id             | Identyfikator odnoszący się do: trips.trip_id   | Wymagane           | Określa podróż.                                                                                                                                                                                                                                                                                                                                                                                                                                                                                                                                                                                                                                                                                                                                                                                                                                                                                                                                                                                                      |\n",
    "| arrival_time        | Godzina                                         | Wymagane warunkowo | Godzina przyjazdu w określonym miejscu na trasie konkretnego przejazdu. Jeśli nie ma różnych godzin przyjazdu i odjazdu, wpisz tę samą wartość w polach arrival_time i departure_time. W przypadku godzin przypadających po północy w dniu świadczenia usługi jako godzinę wpisz godzinę większą niż 24:00:00 w dniu, w którym zaczyna się harmonogram podróży.  Zaplanowane zatrzymania, podczas których pojazd ściśle przestrzega określonych godzin przyjazdu i odjazdu, są określone w punktach czasowych. Jeśli nie jest to punkt czasu, zalecamy podanie szacowanego czasu lub interpolacji. Jeśli ta opcja jest niedostępna, pole arrival_time może pozostać puste. Zaznacz też, że czas interpolowany jest podany jako timepoint=0. Jeśli interpolacja czasu jest oznaczona znacznikiem timepoint=0, punkty czasowe muszą być oznaczone wartością timepoint=1. Podaj czas przyjazdu dla wszystkich przystanków w czasie. Musisz określić godzinę przyjazdu dla pierwszego i ostatniego przystanku w podróży. |\n",
    "| departure_time      | Godzina                                         | Wymagane warunkowo | Czas odjazdu z określonej przystanku na trasie. W przypadku godzin następujących po północy w dniu świadczenia usługi jako godzinę przypadającą w dniu, w którym zaczyna się harmonogram, podaj godzinę jako godzinę późniejszą niż 24:00:00 czasu lokalnego. Jeśli nie ma różnych godzin przyjazdu i odjazdu, wpisz tę samą wartość w polach arrival_time i departure_time. Więcej informacji o prawidłowym korzystaniu z punktów czasowych znajdziesz w opisie arrival_time.  Pole departure_time powinno zawierać wartości czasu, o ile są możliwe, w tym wartości niepowiązane lub szacowane między przedziałami czasu.                                                                                                                                                                                                                                                                                                                                                                                          |\n",
    "| stop_id             | Identyfikator odnoszący się do: stops.stop_id   | Wymagane           | Określa obsługiwany postój. Wszystkie przystanki obsługiwane podczas podróży muszą mieć rekord w stop_times.txt. Wskazane miejsca nie mogą się znajdować na przystanku, a nie na stacji lub przy wejściu do niej. W ramach tej samej podróży postój może być obsługiwany wiele razy, a wiele podróży i tras może odbywać się w tym samym przystanku.                                                                                                                                                                                                                                                                                                                                                                                                                                                                                                                                                                                                                                                                 |\n",
    "| stop_sequence       | Nieujemna liczba całkowita                      | Wymagane           | Kolejność przystanków w przypadku danej podróży. Wartości muszą zwiększać się wzdłuż podróży, ale nie muszą być następujące po sobie. Przykład: pierwsza lokalizacja podróży może mieć wartość stop_sequence=1, druga lokalizacja podróży może mieć wartość stop_sequence=23, trzecia lokalizacja może mieć wartość stop_sequence=40 itd.                                                                                                                                                                                                                                                                                                                                                                                                                                                                                                                                                                                                                                                                            |"
   ]
  },
  {
   "cell_type": "code",
   "execution_count": 171,
   "metadata": {},
   "outputs": [
    {
     "data": {
      "text/plain": [
       "Index(['trip_id', 'arrival_time', 'departure_time', 'stop_id',\n",
       "       'stop_sequence'],\n",
       "      dtype='object')"
      ]
     },
     "execution_count": 171,
     "metadata": {},
     "output_type": "execute_result"
    }
   ],
   "source": [
    "stop_times_df.columns"
   ]
  },
  {
   "cell_type": "markdown",
   "metadata": {},
   "source": [
    "# Calendar\n",
    "\n",
    "| Nazwa pola | Typ           | Wymagany | Opis                                                                                                                                                                                                                                                                                                                                                                |\n",
    "|------------|---------------|----------|---------------------------------------------------------------------------------------------------------------------------------------------------------------------------------------------------------------------------------------------------------------------------------------------------------------------------------------------------------------------|\n",
    "| service_id | Identyfikator | Wymagane | Jednoznacznie określa zestaw dat, kiedy usługa jest dostępna dla jednej lub większej liczby tras. Każda wartość service_id może występować w pliku calendar.txt najwyżej raz.                                                                                                                                                                                       |\n",
    "| monday     | Enum          | Wymagane | Wskazuje, czy usługa jest aktywna we wszystkie poniedziałki w zakresie dat określonym w polach start_date i end_date. Pamiętaj, że wyjątki dla określonych dat mogą być wymienione w sekcji calendar_dates.txt. Prawidłowe opcje to:  1 – usługa jest dostępna we wszystkie poniedziałki w zakresie dat. 0 – usługa jest niedostępna w poniedziałki w zakresie dat. |\n",
    "| tuesday    | Enum          | Wymagane | Działa tak samo jak monday, z wyjątkiem wtorków                                                                                                                                                                                                                                                                                                                     |\n",
    "| wednesday  | Enum          | Wymagane | Funkcje działające tak samo jak w monday z wyjątkiem środów                                                                                                                                                                                                                                                                                                         |\n",
    "| thursday   | Enum          | Wymagane | Funkcje podobne do monday, z wyjątkiem czwartków                                                                                                                                                                                                                                                                                                                    |\n",
    "| friday     | Enum          | Wymagane | Działa tak samo jak monday, z wyjątkiem piątków                                                                                                                                                                                                                                                                                                                     |\n",
    "| saturday   | Enum          | Wymagane | Działa tak samo jak monday, z wyjątkiem sobót.                                                                                                                                                                                                                                                                                                                      |\n",
    "| sunday     | Enum          | Wymagane | Działa tak samo jak monday, z wyjątkiem niedziel.                                                                                                                                                                                                                                                                                                                   |\n",
    "| start_date | Data          | Wymagane | Początek dnia obsługi przedziału czasu usług.                                                                                                                                                                                                                                                                                                                       |\n",
    "| end_date   | Data          | Wymagane | Zakończenie obsługi w danym przedziale czasu. Ten dzień usługi jest uwzględniony w przedziale.                                                                                                                                                                                                                                                                      |"
   ]
  },
  {
   "cell_type": "code",
   "execution_count": 71,
   "metadata": {},
   "outputs": [],
   "source": [
    "import pandas as pd\n",
    "import numpy as np\n",
    "from matplotlib import pyplot as plt\n",
    "import matplotlib.dates as mdates\n",
    "from datetime import datetime"
   ]
  },
  {
   "cell_type": "code",
   "execution_count": 46,
   "metadata": {},
   "outputs": [],
   "source": [
    "directory = \"dane/gtfs-drive/\"\n",
    "filepath = directory + \"2023-06-15\" # konkretny plik wybieramy\n",
    "filepath += \".gtfs\""
   ]
  },
  {
   "cell_type": "code",
   "execution_count": 81,
   "metadata": {},
   "outputs": [],
   "source": [
    "import os\n",
    "files = os.listdir(directory)\n",
    "lengths = []\n",
    "for file in files:\n",
    "    lengths += [pd.read_csv(directory+file+'/stop_times.txt').shape[0]]"
   ]
  },
  {
   "cell_type": "code",
   "execution_count": 82,
   "metadata": {},
   "outputs": [],
   "source": [
    "for i in range(len(files)):\n",
    "    files[i] = [datetime.strptime(files[i][0:10], \"%Y-%m-%d\").date(), files[i][10:]]\n",
    "files = np.asarray(files)"
   ]
  },
  {
   "cell_type": "code",
   "execution_count": 163,
   "metadata": {},
   "outputs": [
    {
     "data": {
      "image/png": "[encoded data removed]",
      "text/plain": [
       "<Figure size 864x576 with 1 Axes>"
      ]
     },
     "metadata": {
      "needs_background": "light"
     },
     "output_type": "display_data"
    }
   ],
   "source": [
    "fig, ax = plt.subplots(1,1)\n",
    "fig.set_size_inches(12,8)\n",
    "locator = mdates.AutoDateLocator(interval_multiples=True)  # Adjust the interval as needed\n",
    "plt.gca().xaxis.set_major_locator(locator)\n",
    "formatter = mdates.DateFormatter(\"%Y-%m-%d\")  # Customize the date format\n",
    "plt.gca().xaxis.set_major_formatter(formatter)\n",
    "scatter = ax.scatter(files[...,0], lengths, c = [0 if f == '.gtfs' else 1 if f == '-rt.gtfs' else 2 for f in files[..., 1]], cmap = 'Set1')\n",
    "plt.title(\"Wielkość ramki stop_times w zależności od czasu\")\n",
    "legend_handles = [plt.Line2D([0], [0], marker='o', color='w', markerfacecolor=[0.89411765, 0.10196078, 0.10980392, 1.], label='.gtfs'), plt.Line2D([0], [0], marker='o', color='w', markerfacecolor=[0.6       , 0.6       , 0.6       , 1.        ], label='-rt.gtfs')]\n",
    "\n",
    "# Add a legend to the plot\n",
    "ax.legend(handles=legend_handles)\n",
    "plt.show()"
   ]
  },
  {
   "cell_type": "code",
   "execution_count": 30,
   "metadata": {},
   "outputs": [
    {
     "name": "stderr",
     "output_type": "stream",
     "text": [
      "C:\\Users\\mipec\\AppData\\Local\\Temp\\ipykernel_27756\\3790919082.py:6: DtypeWarning: Columns (0,1) have mixed types. Specify dtype option on import or set low_memory=False.\n",
      "  timetables_df = pd.read_csv(filepath + \"/timetables.txt\", header = None)\n"
     ]
    }
   ],
   "source": [
    "agency_df = pd.read_csv(filepath + \"/agency.txt\")\n",
    "calendar_df = pd.read_csv(filepath + \"/calendar.txt\")\n",
    "routes_df = pd.read_csv(filepath + \"/routes.txt\")\n",
    "stop_times_df = pd.read_csv(filepath + \"/stop_times.txt\")\n",
    "stops_df = pd.read_csv(filepath + \"/stops.txt\")\n",
    "timetables_df = pd.read_csv(filepath + \"/timetables.txt\", header = None)\n",
    "trips_df = pd.read_csv(filepath + \"/trips.txt\")"
   ]
  },
  {
   "cell_type": "code",
   "execution_count": 34,
   "metadata": {},
   "outputs": [
    {
     "data": {
      "text/html": [
       "<div>\n",
       "<style scoped>\n",
       "    .dataframe tbody tr th:only-of-type {\n",
       "        vertical-align: middle;\n",
       "    }\n",
       "\n",
       "    .dataframe tbody tr th {\n",
       "        vertical-align: top;\n",
       "    }\n",
       "\n",
       "    .dataframe thead th {\n",
       "        text-align: right;\n",
       "    }\n",
       "</style>\n",
       "<table border=\"1\" class=\"dataframe\">\n",
       "  <thead>\n",
       "    <tr style=\"text-align: right;\">\n",
       "      <th></th>\n",
       "      <th>agency_id</th>\n",
       "      <th>agency_name</th>\n",
       "      <th>agency_url</th>\n",
       "      <th>agency_timezone</th>\n",
       "    </tr>\n",
       "  </thead>\n",
       "  <tbody>\n",
       "    <tr>\n",
       "      <th>0</th>\n",
       "      <td>ZTM</td>\n",
       "      <td>Zarz�d Transportu Miejskiego</td>\n",
       "      <td>http://www.ztm.waw.pl</td>\n",
       "      <td>Europe/Warsaw</td>\n",
       "    </tr>\n",
       "  </tbody>\n",
       "</table>\n",
       "</div>"
      ],
      "text/plain": [
       "  agency_id                   agency_name             agency_url  \\\n",
       "0       ZTM  Zarz�d Transportu Miejskiego  http://www.ztm.waw.pl   \n",
       "\n",
       "  agency_timezone  \n",
       "0   Europe/Warsaw  "
      ]
     },
     "execution_count": 34,
     "metadata": {},
     "output_type": "execute_result"
    }
   ],
   "source": [
    "agency_df"
   ]
  },
  {
   "cell_type": "code",
   "execution_count": 37,
   "metadata": {},
   "outputs": [
    {
     "data": {
      "text/html": [
       "<div>\n",
       "<style scoped>\n",
       "    .dataframe tbody tr th:only-of-type {\n",
       "        vertical-align: middle;\n",
       "    }\n",
       "\n",
       "    .dataframe tbody tr th {\n",
       "        vertical-align: top;\n",
       "    }\n",
       "\n",
       "    .dataframe thead th {\n",
       "        text-align: right;\n",
       "    }\n",
       "</style>\n",
       "<table border=\"1\" class=\"dataframe\">\n",
       "  <thead>\n",
       "    <tr style=\"text-align: right;\">\n",
       "      <th></th>\n",
       "      <th>service_id</th>\n",
       "      <th>monday</th>\n",
       "      <th>tuesday</th>\n",
       "      <th>wednesday</th>\n",
       "      <th>thursday</th>\n",
       "      <th>friday</th>\n",
       "      <th>saturday</th>\n",
       "      <th>sunday</th>\n",
       "      <th>start_date</th>\n",
       "      <th>end_date</th>\n",
       "    </tr>\n",
       "  </thead>\n",
       "  <tbody>\n",
       "    <tr>\n",
       "      <th>0</th>\n",
       "      <td>1</td>\n",
       "      <td>1</td>\n",
       "      <td>1</td>\n",
       "      <td>1</td>\n",
       "      <td>1</td>\n",
       "      <td>1</td>\n",
       "      <td>1</td>\n",
       "      <td>1</td>\n",
       "      <td>20230615</td>\n",
       "      <td>20230615</td>\n",
       "    </tr>\n",
       "  </tbody>\n",
       "</table>\n",
       "</div>"
      ],
      "text/plain": [
       "   service_id  monday  tuesday  wednesday  thursday  friday  saturday  sunday  \\\n",
       "0           1       1        1          1         1       1         1       1   \n",
       "\n",
       "   start_date  end_date  \n",
       "0    20230615  20230615  "
      ]
     },
     "execution_count": 37,
     "metadata": {},
     "output_type": "execute_result"
    }
   ],
   "source": [
    "calendar_df"
   ]
  },
  {
   "cell_type": "code",
   "execution_count": 39,
   "metadata": {},
   "outputs": [
    {
     "data": {
      "text/html": [
       "<div>\n",
       "<style scoped>\n",
       "    .dataframe tbody tr th:only-of-type {\n",
       "        vertical-align: middle;\n",
       "    }\n",
       "\n",
       "    .dataframe tbody tr th {\n",
       "        vertical-align: top;\n",
       "    }\n",
       "\n",
       "    .dataframe thead th {\n",
       "        text-align: right;\n",
       "    }\n",
       "</style>\n",
       "<table border=\"1\" class=\"dataframe\">\n",
       "  <thead>\n",
       "    <tr style=\"text-align: right;\">\n",
       "      <th></th>\n",
       "      <th>route_id</th>\n",
       "      <th>agency_id</th>\n",
       "      <th>route_short_name</th>\n",
       "      <th>route_long_name</th>\n",
       "      <th>route_type</th>\n",
       "    </tr>\n",
       "  </thead>\n",
       "  <tbody>\n",
       "    <tr>\n",
       "      <th>0</th>\n",
       "      <td>1</td>\n",
       "      <td>ZTM</td>\n",
       "      <td>1</td>\n",
       "      <td>Annopol</td>\n",
       "      <td>0</td>\n",
       "    </tr>\n",
       "    <tr>\n",
       "      <th>1</th>\n",
       "      <td>2</td>\n",
       "      <td>ZTM</td>\n",
       "      <td>102</td>\n",
       "      <td>PKP Olszynka Grochowska</td>\n",
       "      <td>3</td>\n",
       "    </tr>\n",
       "    <tr>\n",
       "      <th>2</th>\n",
       "      <td>3</td>\n",
       "      <td>ZTM</td>\n",
       "      <td>103</td>\n",
       "      <td>Dw.Zachodni (Tunelowa)</td>\n",
       "      <td>3</td>\n",
       "    </tr>\n",
       "    <tr>\n",
       "      <th>3</th>\n",
       "      <td>4</td>\n",
       "      <td>ZTM</td>\n",
       "      <td>104</td>\n",
       "      <td>Metro Bródno</td>\n",
       "      <td>3</td>\n",
       "    </tr>\n",
       "    <tr>\n",
       "      <th>4</th>\n",
       "      <td>5</td>\n",
       "      <td>ZTM</td>\n",
       "      <td>105</td>\n",
       "      <td>rondo Daszyńskiego</td>\n",
       "      <td>3</td>\n",
       "    </tr>\n",
       "  </tbody>\n",
       "</table>\n",
       "</div>"
      ],
      "text/plain": [
       "   route_id agency_id route_short_name          route_long_name  route_type\n",
       "0         1       ZTM                1                  Annopol           0\n",
       "1         2       ZTM              102  PKP Olszynka Grochowska           3\n",
       "2         3       ZTM              103   Dw.Zachodni (Tunelowa)           3\n",
       "3         4       ZTM              104             Metro Bródno           3\n",
       "4         5       ZTM              105       rondo Daszyńskiego           3"
      ]
     },
     "execution_count": 39,
     "metadata": {},
     "output_type": "execute_result"
    }
   ],
   "source": [
    "routes_df.head()"
   ]
  },
  {
   "cell_type": "code",
   "execution_count": 40,
   "metadata": {},
   "outputs": [
    {
     "data": {
      "text/html": [
       "<div>\n",
       "<style scoped>\n",
       "    .dataframe tbody tr th:only-of-type {\n",
       "        vertical-align: middle;\n",
       "    }\n",
       "\n",
       "    .dataframe tbody tr th {\n",
       "        vertical-align: top;\n",
       "    }\n",
       "\n",
       "    .dataframe thead th {\n",
       "        text-align: right;\n",
       "    }\n",
       "</style>\n",
       "<table border=\"1\" class=\"dataframe\">\n",
       "  <thead>\n",
       "    <tr style=\"text-align: right;\">\n",
       "      <th></th>\n",
       "      <th>trip_id</th>\n",
       "      <th>arrival_time</th>\n",
       "      <th>departure_time</th>\n",
       "      <th>stop_id</th>\n",
       "      <th>stop_sequence</th>\n",
       "    </tr>\n",
       "  </thead>\n",
       "  <tbody>\n",
       "    <tr>\n",
       "      <th>0</th>\n",
       "      <td>1_020_1_0338</td>\n",
       "      <td>03:55:00</td>\n",
       "      <td>03:55:00</td>\n",
       "      <td>7091_07</td>\n",
       "      <td>1</td>\n",
       "    </tr>\n",
       "    <tr>\n",
       "      <th>1</th>\n",
       "      <td>1_020_1_0338</td>\n",
       "      <td>03:56:00</td>\n",
       "      <td>03:56:00</td>\n",
       "      <td>7081_03</td>\n",
       "      <td>2</td>\n",
       "    </tr>\n",
       "    <tr>\n",
       "      <th>2</th>\n",
       "      <td>1_020_1_0338</td>\n",
       "      <td>03:58:00</td>\n",
       "      <td>03:58:00</td>\n",
       "      <td>7019_07</td>\n",
       "      <td>3</td>\n",
       "    </tr>\n",
       "    <tr>\n",
       "      <th>3</th>\n",
       "      <td>1_020_1_0338</td>\n",
       "      <td>04:00:00</td>\n",
       "      <td>04:00:00</td>\n",
       "      <td>7054_05</td>\n",
       "      <td>4</td>\n",
       "    </tr>\n",
       "    <tr>\n",
       "      <th>4</th>\n",
       "      <td>1_020_1_0338</td>\n",
       "      <td>04:01:00</td>\n",
       "      <td>04:01:00</td>\n",
       "      <td>7055_03</td>\n",
       "      <td>5</td>\n",
       "    </tr>\n",
       "  </tbody>\n",
       "</table>\n",
       "</div>"
      ],
      "text/plain": [
       "        trip_id arrival_time departure_time   stop_id  stop_sequence\n",
       "0  1_020_1_0338     03:55:00       03:55:00   7091_07              1\n",
       "1  1_020_1_0338     03:56:00       03:56:00   7081_03              2\n",
       "2  1_020_1_0338     03:58:00       03:58:00   7019_07              3\n",
       "3  1_020_1_0338     04:00:00       04:00:00   7054_05              4\n",
       "4  1_020_1_0338     04:01:00       04:01:00   7055_03              5"
      ]
     },
     "execution_count": 40,
     "metadata": {},
     "output_type": "execute_result"
    }
   ],
   "source": [
    "stop_times_df.head()"
   ]
  },
  {
   "cell_type": "code",
   "execution_count": 41,
   "metadata": {},
   "outputs": [
    {
     "data": {
      "text/html": [
       "<div>\n",
       "<style scoped>\n",
       "    .dataframe tbody tr th:only-of-type {\n",
       "        vertical-align: middle;\n",
       "    }\n",
       "\n",
       "    .dataframe tbody tr th {\n",
       "        vertical-align: top;\n",
       "    }\n",
       "\n",
       "    .dataframe thead th {\n",
       "        text-align: right;\n",
       "    }\n",
       "</style>\n",
       "<table border=\"1\" class=\"dataframe\">\n",
       "  <thead>\n",
       "    <tr style=\"text-align: right;\">\n",
       "      <th></th>\n",
       "      <th>stop_id</th>\n",
       "      <th>stop_name</th>\n",
       "      <th>stop_lat</th>\n",
       "      <th>stop_lon</th>\n",
       "      <th>wheelchair_boarding</th>\n",
       "    </tr>\n",
       "  </thead>\n",
       "  <tbody>\n",
       "    <tr>\n",
       "      <th>0</th>\n",
       "      <td>1001_01</td>\n",
       "      <td>Kijowska 01</td>\n",
       "      <td>52.248455</td>\n",
       "      <td>21.044827</td>\n",
       "      <td>1</td>\n",
       "    </tr>\n",
       "    <tr>\n",
       "      <th>1</th>\n",
       "      <td>1001_02</td>\n",
       "      <td>Kijowska 02</td>\n",
       "      <td>52.249078</td>\n",
       "      <td>21.044443</td>\n",
       "      <td>1</td>\n",
       "    </tr>\n",
       "    <tr>\n",
       "      <th>2</th>\n",
       "      <td>1001_03</td>\n",
       "      <td>Kijowska 03</td>\n",
       "      <td>52.248928</td>\n",
       "      <td>21.044169</td>\n",
       "      <td>1</td>\n",
       "    </tr>\n",
       "    <tr>\n",
       "      <th>3</th>\n",
       "      <td>1001_04</td>\n",
       "      <td>Kijowska 04</td>\n",
       "      <td>52.249969</td>\n",
       "      <td>21.041588</td>\n",
       "      <td>1</td>\n",
       "    </tr>\n",
       "    <tr>\n",
       "      <th>4</th>\n",
       "      <td>1001_06</td>\n",
       "      <td>Kijowska 06</td>\n",
       "      <td>52.250078</td>\n",
       "      <td>21.043848</td>\n",
       "      <td>1</td>\n",
       "    </tr>\n",
       "  </tbody>\n",
       "</table>\n",
       "</div>"
      ],
      "text/plain": [
       "   stop_id    stop_name   stop_lat   stop_lon  wheelchair_boarding\n",
       "0  1001_01  Kijowska 01  52.248455  21.044827                    1\n",
       "1  1001_02  Kijowska 02  52.249078  21.044443                    1\n",
       "2  1001_03  Kijowska 03  52.248928  21.044169                    1\n",
       "3  1001_04  Kijowska 04  52.249969  21.041588                    1\n",
       "4  1001_06  Kijowska 06  52.250078  21.043848                    1"
      ]
     },
     "execution_count": 41,
     "metadata": {},
     "output_type": "execute_result"
    }
   ],
   "source": [
    "stops_df.head()"
   ]
  },
  {
   "cell_type": "code",
   "execution_count": 42,
   "metadata": {},
   "outputs": [
    {
     "data": {
      "text/html": [
       "<div>\n",
       "<style scoped>\n",
       "    .dataframe tbody tr th:only-of-type {\n",
       "        vertical-align: middle;\n",
       "    }\n",
       "\n",
       "    .dataframe tbody tr th {\n",
       "        vertical-align: top;\n",
       "    }\n",
       "\n",
       "    .dataframe thead th {\n",
       "        text-align: right;\n",
       "    }\n",
       "</style>\n",
       "<table border=\"1\" class=\"dataframe\">\n",
       "  <thead>\n",
       "    <tr style=\"text-align: right;\">\n",
       "      <th></th>\n",
       "      <th>route_id</th>\n",
       "      <th>service_id</th>\n",
       "      <th>trip_id</th>\n",
       "      <th>wheelchair_accessible</th>\n",
       "    </tr>\n",
       "  </thead>\n",
       "  <tbody>\n",
       "    <tr>\n",
       "      <th>0</th>\n",
       "      <td>1</td>\n",
       "      <td>1</td>\n",
       "      <td>1_020_1_0338</td>\n",
       "      <td>1</td>\n",
       "    </tr>\n",
       "    <tr>\n",
       "      <th>1</th>\n",
       "      <td>1</td>\n",
       "      <td>1</td>\n",
       "      <td>1_020_1_0422</td>\n",
       "      <td>1</td>\n",
       "    </tr>\n",
       "    <tr>\n",
       "      <th>2</th>\n",
       "      <td>1</td>\n",
       "      <td>1</td>\n",
       "      <td>1_020_1_0529</td>\n",
       "      <td>1</td>\n",
       "    </tr>\n",
       "    <tr>\n",
       "      <th>3</th>\n",
       "      <td>1</td>\n",
       "      <td>1</td>\n",
       "      <td>1_020_1_0625</td>\n",
       "      <td>1</td>\n",
       "    </tr>\n",
       "    <tr>\n",
       "      <th>4</th>\n",
       "      <td>1</td>\n",
       "      <td>1</td>\n",
       "      <td>1_020_1_0726</td>\n",
       "      <td>1</td>\n",
       "    </tr>\n",
       "  </tbody>\n",
       "</table>\n",
       "</div>"
      ],
      "text/plain": [
       "   route_id  service_id       trip_id  wheelchair_accessible\n",
       "0         1           1  1_020_1_0338                      1\n",
       "1         1           1  1_020_1_0422                      1\n",
       "2         1           1  1_020_1_0529                      1\n",
       "3         1           1  1_020_1_0625                      1\n",
       "4         1           1  1_020_1_0726                      1"
      ]
     },
     "execution_count": 42,
     "metadata": {},
     "output_type": "execute_result"
    }
   ],
   "source": [
    "trips_df.head()"
   ]
  },
  {
   "cell_type": "code",
   "execution_count": 43,
   "metadata": {},
   "outputs": [
    {
     "data": {
      "text/html": [
       "<div>\n",
       "<style scoped>\n",
       "    .dataframe tbody tr th:only-of-type {\n",
       "        vertical-align: middle;\n",
       "    }\n",
       "\n",
       "    .dataframe tbody tr th {\n",
       "        vertical-align: top;\n",
       "    }\n",
       "\n",
       "    .dataframe thead th {\n",
       "        text-align: right;\n",
       "    }\n",
       "</style>\n",
       "<table border=\"1\" class=\"dataframe\">\n",
       "  <thead>\n",
       "    <tr style=\"text-align: right;\">\n",
       "      <th></th>\n",
       "      <th>0</th>\n",
       "      <th>1</th>\n",
       "      <th>2</th>\n",
       "      <th>3</th>\n",
       "      <th>4</th>\n",
       "      <th>5</th>\n",
       "      <th>6</th>\n",
       "      <th>7</th>\n",
       "      <th>8</th>\n",
       "      <th>9</th>\n",
       "      <th>10</th>\n",
       "      <th>11</th>\n",
       "      <th>12</th>\n",
       "    </tr>\n",
       "  </thead>\n",
       "  <tbody>\n",
       "    <tr>\n",
       "      <th>0</th>\n",
       "      <td>1</td>\n",
       "      <td>020</td>\n",
       "      <td>52.255066</td>\n",
       "      <td>20.984279</td>\n",
       "      <td>7091_07</td>\n",
       "      <td>rondo \"Radosława\"</td>\n",
       "      <td>03:55:00</td>\n",
       "      <td>1_020_1_0338</td>\n",
       "      <td>1</td>\n",
       "      <td>1</td>\n",
       "      <td>2</td>\n",
       "      <td>day</td>\n",
       "      <td>7</td>\n",
       "    </tr>\n",
       "    <tr>\n",
       "      <th>1</th>\n",
       "      <td>1</td>\n",
       "      <td>020</td>\n",
       "      <td>52.256638</td>\n",
       "      <td>20.988309</td>\n",
       "      <td>7081_03</td>\n",
       "      <td>Baseny Inflancka</td>\n",
       "      <td>03:56:00</td>\n",
       "      <td>1_020_1_0338</td>\n",
       "      <td>1</td>\n",
       "      <td>2</td>\n",
       "      <td>2</td>\n",
       "      <td>day</td>\n",
       "      <td>3</td>\n",
       "    </tr>\n",
       "    <tr>\n",
       "      <th>2</th>\n",
       "      <td>1</td>\n",
       "      <td>020</td>\n",
       "      <td>52.257976</td>\n",
       "      <td>20.994848</td>\n",
       "      <td>7019_07</td>\n",
       "      <td>Dw.Gdański</td>\n",
       "      <td>03:58:00</td>\n",
       "      <td>1_020_1_0338</td>\n",
       "      <td>1</td>\n",
       "      <td>3</td>\n",
       "      <td>2</td>\n",
       "      <td>day</td>\n",
       "      <td>7</td>\n",
       "    </tr>\n",
       "    <tr>\n",
       "      <th>3</th>\n",
       "      <td>1</td>\n",
       "      <td>020</td>\n",
       "      <td>52.258784</td>\n",
       "      <td>21.002839</td>\n",
       "      <td>7054_05</td>\n",
       "      <td>Park Traugutta</td>\n",
       "      <td>04:00:00</td>\n",
       "      <td>1_020_1_0338</td>\n",
       "      <td>1</td>\n",
       "      <td>4</td>\n",
       "      <td>2</td>\n",
       "      <td>day</td>\n",
       "      <td>5</td>\n",
       "    </tr>\n",
       "    <tr>\n",
       "      <th>4</th>\n",
       "      <td>1</td>\n",
       "      <td>020</td>\n",
       "      <td>52.260119</td>\n",
       "      <td>21.007527</td>\n",
       "      <td>7055_03</td>\n",
       "      <td>most Gdański</td>\n",
       "      <td>04:01:00</td>\n",
       "      <td>1_020_1_0338</td>\n",
       "      <td>1</td>\n",
       "      <td>5</td>\n",
       "      <td>2</td>\n",
       "      <td>day</td>\n",
       "      <td>3</td>\n",
       "    </tr>\n",
       "  </tbody>\n",
       "</table>\n",
       "</div>"
      ],
      "text/plain": [
       "  0    1          2          3        4                  5         6   \\\n",
       "0  1  020  52.255066  20.984279  7091_07  rondo \"Radosława\"  03:55:00   \n",
       "1  1  020  52.256638  20.988309  7081_03   Baseny Inflancka  03:56:00   \n",
       "2  1  020  52.257976  20.994848  7019_07         Dw.Gdański  03:58:00   \n",
       "3  1  020  52.258784  21.002839  7054_05     Park Traugutta  04:00:00   \n",
       "4  1  020  52.260119  21.007527  7055_03       most Gdański  04:01:00   \n",
       "\n",
       "             7   8   9   10   11  12  \n",
       "0  1_020_1_0338   1   1   2  day   7  \n",
       "1  1_020_1_0338   1   2   2  day   3  \n",
       "2  1_020_1_0338   1   3   2  day   7  \n",
       "3  1_020_1_0338   1   4   2  day   5  \n",
       "4  1_020_1_0338   1   5   2  day   3  "
      ]
     },
     "execution_count": 43,
     "metadata": {},
     "output_type": "execute_result"
    }
   ],
   "source": [
    "timetables_df.head()"
   ]
  }
 ],
 "metadata": {
  "kernelspec": {
   "display_name": "Python 3",
   "language": "python",
   "name": "python3"
  },
  "language_info": {
   "codemirror_mode": {
    "name": "ipython",
    "version": 3
   },
   "file_extension": ".py",
   "mimetype": "text/x-python",
   "name": "python",
   "nbconvert_exporter": "python",
   "pygments_lexer": "ipython3",
   "version": "3.10.11"
  }
 },
 "nbformat": 4,
 "nbformat_minor": 2
}
