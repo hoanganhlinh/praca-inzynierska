{
 "cells": [
  {
   "cell_type": "markdown",
   "metadata": {},
   "source": [
    "# Porównanie rzeczywistych i planowanych rozkładów jazdy transportu miejskiego: **EDA**"
   ]
  },
  {
   "cell_type": "markdown",
   "metadata": {},
   "source": [
    "## 1. Generalne informacje o gtfs\n",
    "\n",
    "| Nazwa pliku    | Wymagany           | Określa                                                                                                                                                                                             |\n",
    "|----------------|--------------------|-----------------------------------------------------------------------------------------------------------------------------------------------------------------------------------------------------|\n",
    "| agency.txt     | Wymagane           | Przewoźnicy z usługą świadczoną w tym zbiorze danych.                                                                                                                                               |\n",
    "| stops.txt      | Wymagane           | Zatrzymuje się, tam gdzie pasażerowie wsiądą lub wysiądą z pojazdu. Definiuje również stacje i wejścia do stacji.                                                                                   |\n",
    "| routes.txt     | Wymagane           | Trasy dojazdu transportem publicznym. Trasa to grupa podróży wyświetlanych pasażerom w ramach jednej usługi.                                                                                        |\n",
    "| trips.txt      | Wymagane           | Podróże na każdej trasie. Podróż to sekwencja co najmniej 2 przesiadek w określonym czasie.                                                                                                         |\n",
    "| stop_times.txt | Wymagane           | Godziny przyjazdu i odjazdu pojazdu.                                                                                                                                                                |\n",
    "| calendar.txt   | Wymagane warunkowo | Daty świadczenia usługi określone w harmonogramie tygodniowym z datami rozpoczęcia i zakończenia. Ten plik jest wymagany, chyba że w calendar_dates.txt zostały zdefiniowane wszystkie daty usługi. |"
   ]
  },
  {
   "cell_type": "markdown",
   "metadata": {},
   "source": [
    "### Agency\n",
    "\n",
    "\n",
    "| Nazwa pola      | Typ             | Wymagany           | Opis                                                                                                                                                                                                                                                                                                                                                                                                                                                  |\n",
    "|-----------------|-----------------|--------------------|-------------------------------------------------------------------------------------------------------------------------------------------------------------------------------------------------------------------------------------------------------------------------------------------------------------------------------------------------------------------------------------------------------------------------------------------------------|\n",
    "| agency_id       | Identyfikator   | Wymagane warunkowo | Wskazuje markę transportu publicznego, która jest często synonimem danego przewoźnika. Pamiętaj, że w niektórych przypadkach, np. gdy jedna agencja prowadzi kilka odrębnych usług, agencje i marki są różne. W tym dokumencie zamiast słowa „marka” używa się określenia „agencja”. Zbiór danych może zawierać dane od wielu agencji. To pole jest wymagane, jeśli zbiór danych zawiera dane wielu przewoźników. W przeciwnym razie jest opcjonalne. |\n",
    "| agency_name     | Tekst           | Wymagane           | Pełna nazwa przewoźnika.                                                                                                                                                                                                                                                                                                                                                                                                                              |\n",
    "| agency_url      | URL             | Wymagane           | Adres URL przewoźnika.                                                                                                                                                                                                                                                                                                                                                                                                                                |\n",
    "| agency_timezone | Strefa czasowa  | Wymagane           | Strefa czasowa przewoźnika. Jeśli w zbiorze danych wskazano wiele agencji, każda z nich musi mieć tę samą wartość agency_timezone.                                                                                                                                                                                                                                                                                                                    |                                                                                                                                                                                                                           |"
   ]
  },
  {
   "cell_type": "markdown",
   "metadata": {},
   "source": [
    "### Stops\n",
    "\n",
    "| Nazwa pola          | Typ                                             | Wymagany           | Opis                                                                                                                                                                                                                                                                                                                                                                                                                                                                                                                                                                                                                                                                                                                                                                                                                                                                                                                                               |\n",
    "|---------------------|-------------------------------------------------|--------------------|----------------------------------------------------------------------------------------------------------------------------------------------------------------------------------------------------------------------------------------------------------------------------------------------------------------------------------------------------------------------------------------------------------------------------------------------------------------------------------------------------------------------------------------------------------------------------------------------------------------------------------------------------------------------------------------------------------------------------------------------------------------------------------------------------------------------------------------------------------------------------------------------------------------------------------------------------|\n",
    "| stop_id             | Identyfikator                                   | Wymagane           | Wskazuje przystanek, stację lub przystanek.  Termin „wejście do stacji” odnosi się zarówno do wejścia na stację, jak i wyjścia do niej. Przystanki, stacje lub wejścia na stację są wspólnie nazywane lokalizacjami. Z tego samego przystanku może korzystać wiele tras.                                                                                                                                                           |\n",
    "| stop_name           | Tekst                                           | Wymagane warunkowo | Nazwa lokalizacji. Użyj nazwy, która będzie zrozumiała dla lokalnego i turystycznego terminu.  Jeśli lokalizacja to miejsce wejścia na pokład (location_type=4), stop_name powinien zawierać nazwę pokładu, którą wyświetla agencja. Może to być tylko jedna litera (na przykład w przypadku niektórych europejskich stacji międzymiastowych) lub tekst „Wjazd na wózek inwalidzki” (Nowy Jork) lub „Nagłówek krótkich pociągów” (Paryż – RER).  Wymagany warunkowo: • Wymagany w przypadku lokalizacji przystanków (location_type=0), stacji (location_type=1) lub wejścia/wyjścia (location_type=2). • Opcjonalny w przypadku lokalizacji będących ogólnymi węzłami (location_type=3).location_type=4                                                                                                                                                                                                                                            |\n",
    "| stop_lat            | Szerokość geograficzna                          | Wymagane warunkowo | Szerokość geograficzna lokalizacji.  Wymagane warunkowo: • Wymagane w przypadku lokalizacji przystanków (location_type=0), stacji (location_type=1) lub wejść/wyjścia (location_type=2). • Opcjonalne w przypadku lokalizacji, które są węzłami ogólnymi (location_type=3) lub obszarami wejścia (location_type=4).                                                                                                                                                                                                                                                                                                                                                                                                                                                                                                                                                                                                                                |\n",
    "| stop_lon            | Długość geograficzna                            | Wymagane warunkowo | Długość geograficzna lokalizacji    location_type=0location_type=1location_type=2location_type=3location_type=4                                                                                                                                                                                                                                                                                                                                                                               |\n",
    "| wheelchair_boarding | Enum                                            | Opcjonalnie        | Wskazuje, czy z danej lokalizacji można wjechać na wózek inwalidzki. Prawidłowe opcje to:  W przypadku postojów bez elementu nadrzędnego: 0 lub puste – brak informacji o przystankach. 1 – w przypadku niektórych pojazdów z tego przystanku może wsiąść się na wózku inwalidzkim. 2 – w tym miejscu nie można wejść na wózek inwalidzki.  W przypadku stacji podrzędnych: 0 lub pusta – element odziedziczy zachowanie wheelchair_boarding ze stacji nadrzędnej, jeśli została określona w nadrzędnej sekcji. 1 – dostępna jest dostępna ścieżka ze stacji lub przystanku spoza stacji. 2 – nie ma dostępnej ścieżki spoza stacji do konkretnego przystanku/platformy.  Wejścia/wyjścia: 0 lub puste – wejście w danym miejscu odziedziczy zachowanie stacji wheelchair_boarding zgodnie z ustawieniem nadrzędnym. 1 – wejście na stację jest dostępne dla niepełnosprawnych. 2 – nie ma dostępnej ścieżki dojazdowej ze stacji lub przystanków. |                                                                                                                                                                                                                                                                                                                                                                                                                                                                                                                                                                                             |"
   ]
  },
  {
   "cell_type": "markdown",
   "metadata": {},
   "source": [
    "### Routes\n",
    "\n",
    "| Nazwa pola          | Typ                                              | Wymagany           | Opis                                                                                                                                                                                                                                                                                                                                                                                                                                                                                                                                                                                                                                                                                                                                                                                                                                                                                                                                                                                                                                                                               |\n",
    "|---------------------|--------------------------------------------------|--------------------|------------------------------------------------------------------------------------------------------------------------------------------------------------------------------------------------------------------------------------------------------------------------------------------------------------------------------------------------------------------------------------------------------------------------------------------------------------------------------------------------------------------------------------------------------------------------------------------------------------------------------------------------------------------------------------------------------------------------------------------------------------------------------------------------------------------------------------------------------------------------------------------------------------------------------------------------------------------------------------------------------------------------------------------------------------------------------------|\n",
    "| route_id            | Identyfikator                                    | Wymagane           | Określa trasę.                                                                                                                                                                                                                                                                                                                                                                                                                                                                                                                                                                                                                                                                                                                                                                                                                                                                                                                                                                                                                                                                     |\n",
    "| agency_id           | Identyfikator odnoszący się do: agency.agency_id | Wymagane warunkowo | Agencja w przypadku określonej trasy. To pole jest wymagane, jeśli zbiór danych dostarcza trasy z więcej niż 1 agencji w agency.txt. W przeciwnym razie jest opcjonalne.                                                                                                                                                                                                                                                                                                                                                                                                                                                                                                                                                                                                                                                                                                                                                                                                                                                                                                           |\n",
    "| route_short_name    | Tekst                                            | Wymagane warunkowo | Krótka nazwa trasy. Często jest to krótki, abstrakcyjny identyfikator, taki jak „32”, „100X” lub „zielony”, który pasażerowie używają do identyfikowania trasy, ale bez podawania tego, gdzie są. Należy określić właściwość route_short_name lub route_long_name, a w razie potrzeby także obie.                                                                                                                                                                                                                                                                                                                                                                                                                                                                                                                                                                                                                                                                                                                                                                                  |\n",
    "| route_long_name     | Tekst                                            | Wymagane warunkowo | Pełna nazwa trasy. Ta nazwa jest zwykle bardziej opisowa niż route_short_name i często zawiera miejsce docelowe trasy lub przystanek. Należy określić właściwość route_short_name lub route_long_name, a w razie potrzeby także obie.                                                                                                                                                                                                                                                                                                                                                                                                                                                                                                                                                                                                                                                                                                                                                                                                                                              |\n",
    "| route_type          | Enum                                             | Wymagane           | Wskazuje rodzaj transportu użytego na trasie. Prawidłowe opcje to:  0 – tramwaj, tramwaj, kolej miejska. Dowolny system kolei miejskiej lub ulicznej w obszarze miejskim. 1 – Metro, metro. Dowolny system kolei podziemnej w obszarze miejskim. 2 – kolej. Służy do podróży międzymiastowych i dalekich. 3 – autobus. Używane w przypadku krótkich i długich tras autobusowych. 4 – prom. Służy do obsługi krótkich i długometrażowych łodzi. 5 – tramwaj linowy. Opcja używana w przypadku tramwajów kolejowych na poziomie ulicy, pod którymi biegnie kabel pod pojazdem, np. kolejka linowa w San Francisco. 6 – kolejka linowa, kolejka linowa (np. kolejka gondolowa, kolejka linowa). Transport kablowy, w którym domki, samochody, gondole lub otwarte krzesła są zawieszone za pomocą co najmniej jednego kabla. 7 – kolej linowo-terenowa. Dowolny system kolei przeznaczony do stromych podjazdów. 11 – Trolejbus. Autobusy elektryczne czerpiące energię z przewodowych przewodów za pomocą masztów. 12 – Monorail. Tor, na którym tor składa się z 1 szyny lub belki. |"
   ]
  },
  {
   "cell_type": "markdown",
   "metadata": {},
   "source": [
    "### Trips\n",
    "\n",
    "| Nazwa pola            | Typ                                                                                       | Wymagany           | Opis                                                                                                                                                                                                                                                                                                                                                                                                                                                                                                                                                                                              |\n",
    "|-----------------------|-------------------------------------------------------------------------------------------|--------------------|---------------------------------------------------------------------------------------------------------------------------------------------------------------------------------------------------------------------------------------------------------------------------------------------------------------------------------------------------------------------------------------------------------------------------------------------------------------------------------------------------------------------------------------------------------------------------------------------------|\n",
    "| route_id              | Identyfikator odnoszący się do: routes.route_id                                           | Wymagane           | Określa trasę.                                                                                                                                                                                                                                                                                                                                                                                                                                                                                                                                                                                    |\n",
    "| service_id            | Identyfikator odnoszący się do elementu calendar.service_id lub calendar_dates.service_id | Wymagane           | Określa zakres dat, w których usługa jest dostępna dla jednej lub większej liczby tras.                                                                                                                                                                                                                                                                                                                                                                                                                                                                                                           |\n",
    "| trip_id               | Identyfikator                                                                             | Wymagane           | Określa podróż.                                                                                                                                                                                                                                                                                                                                                                                                                                                                                                                                                                                   |\n",
    "| wheelchair_accessible | Enum                                                                                      | Opcjonalnie        | Wskazuje dostępność dla osób na wózkach inwalidzkich. Prawidłowe opcje to:  0 lub pusta – brak informacji o dostępności dla danej podróży. 1 – pojazd używany podczas tej podróży może pomieścić co najmniej 1 pasażera. 2 – w trakcie tej podróży nie można jechać na wózku inwalidzkim.                                                                                                                                                                                                                                                                                                         |"
   ]
  },
  {
   "cell_type": "markdown",
   "metadata": {},
   "source": [
    "### Stoptimes\n",
    "\n",
    "| Nazwa pola          | Typ                                             | Wymagany           | Opis                                                                                                                                                                                                                                                                                                                                                                                                                                                                                                                                                                                                                                                                                                                                                                                                                                                                                                                                                                                                                 |\n",
    "|---------------------|-------------------------------------------------|--------------------|----------------------------------------------------------------------------------------------------------------------------------------------------------------------------------------------------------------------------------------------------------------------------------------------------------------------------------------------------------------------------------------------------------------------------------------------------------------------------------------------------------------------------------------------------------------------------------------------------------------------------------------------------------------------------------------------------------------------------------------------------------------------------------------------------------------------------------------------------------------------------------------------------------------------------------------------------------------------------------------------------------------------|\n",
    "| trip_id             | Identyfikator odnoszący się do: trips.trip_id   | Wymagane           | Określa podróż.                                                                                                                                                                                                                                                                                                                                                                                                                                                                                                                                                                                                                                                                                                                                                                                                                                                                                                                                                                                                      |\n",
    "| arrival_time        | Godzina                                         | Wymagane warunkowo | Godzina przyjazdu w określonym miejscu na trasie konkretnego przejazdu. Jeśli nie ma różnych godzin przyjazdu i odjazdu, wpisz tę samą wartość w polach arrival_time i departure_time. W przypadku godzin przypadających po północy w dniu świadczenia usługi jako godzinę wpisz godzinę większą niż 24:00:00 w dniu, w którym zaczyna się harmonogram podróży.  Zaplanowane zatrzymania, podczas których pojazd ściśle przestrzega określonych godzin przyjazdu i odjazdu, są określone w punktach czasowych. Jeśli nie jest to punkt czasu, zalecamy podanie szacowanego czasu lub interpolacji. Jeśli ta opcja jest niedostępna, pole arrival_time może pozostać puste. Zaznacz też, że czas interpolowany jest podany jako timepoint=0. Jeśli interpolacja czasu jest oznaczona znacznikiem timepoint=0, punkty czasowe muszą być oznaczone wartością timepoint=1. Podaj czas przyjazdu dla wszystkich przystanków w czasie. Musisz określić godzinę przyjazdu dla pierwszego i ostatniego przystanku w podróży. |\n",
    "| departure_time      | Godzina                                         | Wymagane warunkowo | Czas odjazdu z określonej przystanku na trasie. W przypadku godzin następujących po północy w dniu świadczenia usługi jako godzinę przypadającą w dniu, w którym zaczyna się harmonogram, podaj godzinę jako godzinę późniejszą niż 24:00:00 czasu lokalnego. Jeśli nie ma różnych godzin przyjazdu i odjazdu, wpisz tę samą wartość w polach arrival_time i departure_time. Więcej informacji o prawidłowym korzystaniu z punktów czasowych znajdziesz w opisie arrival_time.  Pole departure_time powinno zawierać wartości czasu, o ile są możliwe, w tym wartości niepowiązane lub szacowane między przedziałami czasu.                                                                                                                                                                                                                                                                                                                                                                                          |\n",
    "| stop_id             | Identyfikator odnoszący się do: stops.stop_id   | Wymagane           | Określa obsługiwany postój. Wszystkie przystanki obsługiwane podczas podróży muszą mieć rekord w stop_times.txt. Wskazane miejsca nie mogą się znajdować na przystanku, a nie na stacji lub przy wejściu do niej. W ramach tej samej podróży postój może być obsługiwany wiele razy, a wiele podróży i tras może odbywać się w tym samym przystanku.                                                                                                                                                                                                                                                                                                                                                                                                                                                                                                                                                                                                                                                                 |\n",
    "| stop_sequence       | Nieujemna liczba całkowita                      | Wymagane           | Kolejność przystanków w przypadku danej podróży. Wartości muszą zwiększać się wzdłuż podróży, ale nie muszą być następujące po sobie. Przykład: pierwsza lokalizacja podróży może mieć wartość stop_sequence=1, druga lokalizacja podróży może mieć wartość stop_sequence=23, trzecia lokalizacja może mieć wartość stop_sequence=40 itd.                                                                                                                                                                                                                                                                                                                                                                                                                                                                                                                                                                                                                                                                            |"
   ]
  },
  {
   "cell_type": "markdown",
   "metadata": {},
   "source": [
    "### Calendar\n",
    "\n",
    "| Nazwa pola | Typ           | Wymagany | Opis                                                                                                                                                                                                                                                                                                                                                                |\n",
    "|------------|---------------|----------|---------------------------------------------------------------------------------------------------------------------------------------------------------------------------------------------------------------------------------------------------------------------------------------------------------------------------------------------------------------------|\n",
    "| service_id | Identyfikator | Wymagane | Jednoznacznie określa zestaw dat, kiedy usługa jest dostępna dla jednej lub większej liczby tras. Każda wartość service_id może występować w pliku calendar.txt najwyżej raz.                                                                                                                                                                                       |\n",
    "| monday     | Enum          | Wymagane | Wskazuje, czy usługa jest aktywna we wszystkie poniedziałki w zakresie dat określonym w polach start_date i end_date. Pamiętaj, że wyjątki dla określonych dat mogą być wymienione w sekcji calendar_dates.txt. Prawidłowe opcje to:  1 – usługa jest dostępna we wszystkie poniedziałki w zakresie dat. 0 – usługa jest niedostępna w poniedziałki w zakresie dat. |\n",
    "| tuesday    | Enum          | Wymagane | Działa tak samo jak monday, z wyjątkiem wtorków                                                                                                                                                                                                                                                                                                                     |\n",
    "| wednesday  | Enum          | Wymagane | Funkcje działające tak samo jak w monday z wyjątkiem środów                                                                                                                                                                                                                                                                                                         |\n",
    "| thursday   | Enum          | Wymagane | Funkcje podobne do monday, z wyjątkiem czwartków                                                                                                                                                                                                                                                                                                                    |\n",
    "| friday     | Enum          | Wymagane | Działa tak samo jak monday, z wyjątkiem piątków                                                                                                                                                                                                                                                                                                                     |\n",
    "| saturday   | Enum          | Wymagane | Działa tak samo jak monday, z wyjątkiem sobót.                                                                                                                                                                                                                                                                                                                      |\n",
    "| sunday     | Enum          | Wymagane | Działa tak samo jak monday, z wyjątkiem niedziel.                                                                                                                                                                                                                                                                                                                   |\n",
    "| start_date | Data          | Wymagane | Początek dnia obsługi przedziału czasu usług.                                                                                                                                                                                                                                                                                                                       |\n",
    "| end_date   | Data          | Wymagane | Zakończenie obsługi w danym przedziale czasu. Ten dzień usługi jest uwzględniony w przedziale.                                                                                                                                                                                                                                                                      |"
   ]
  },
  {
   "cell_type": "markdown",
   "metadata": {},
   "source": [
    "## 2. Timetables\n",
    "line, direction, stop_latitude, stop_longitude, stop_id, stop name, stop_time (departure), route_id, route_number, stop_sequence, 10?, 11?, 12?\n",
    "\n",
    "route_id - unikalny identyfikator jednego przejazdu w ramach GTFS dla jednego dnia - <line>_<direction>_<route_number>_<route_start_hh_mm>  \n",
    "route_number - do identyfikacji linii wystarczyłoby <line>_<direction>_<route_start_hh_mm> ale dodawany route_number pozwala rozdzielć ten sam przejazd w kolejnych dniach,  \n",
    " np gdy zrobimy graf OTP(OpenTripPlanner) z 2+ dni, to inaczej nałożyłyby się nam przejazdy.\n"
   ]
  },
  {
   "cell_type": "code",
   "execution_count": 1,
   "metadata": {},
   "outputs": [],
   "source": [
    "import pandas as pd\n",
    "import numpy as np\n",
    "from matplotlib import pyplot as plt\n",
    "import matplotlib.dates as mdates\n",
    "from datetime import datetime\n",
    "import os\n",
    "\n",
    "# print(os.getcwd())"
   ]
  },
  {
   "cell_type": "code",
   "execution_count": 10,
   "metadata": {},
   "outputs": [
    {
     "name": "stderr",
     "output_type": "stream",
     "text": [
      "C:\\Users\\laura\\AppData\\Local\\Temp\\ipykernel_22332\\3075237087.py:10: DtypeWarning: Columns (0,1) have mixed types. Specify dtype option on import or set low_memory=False.\n",
      "  timetables_df = pd.read_csv(filepath + \"/timetables.txt\", header = None)\n"
     ]
    }
   ],
   "source": [
    "# directory = \"../dane/gtfs-drive/\"\n",
    "directory = \"./dane/\"\n",
    "filepath = directory + \"2022-11-15\" # konkretny plik wybieramy\n",
    "filepath += \".gtfs\"\n",
    "agency_df = pd.read_csv(filepath + \"/agency.txt\")\n",
    "calendar_df = pd.read_csv(filepath + \"/calendar.txt\")\n",
    "routes_df = pd.read_csv(filepath + \"/routes.txt\")\n",
    "stop_times_df = pd.read_csv(filepath + \"/stop_times.txt\")\n",
    "stops_df = pd.read_csv(filepath + \"/stops.txt\")\n",
    "timetables_df = pd.read_csv(filepath + \"/timetables.txt\", header = None)\n",
    "timetables_df.columns = ['line', 'direction', 'stop_latitude', 'stop_longitude', 'stop_id', 'stop_name', 'stop_time', 'route_id', 'route_number', 'stop_sequence', '10', '11', '12']\n",
    "trips_df = pd.read_csv(filepath + \"/trips.txt\")"
   ]
  },
  {
   "cell_type": "code",
   "execution_count": 11,
   "metadata": {},
   "outputs": [],
   "source": [
    "files = os.listdir(directory)\n",
    "lengths = []\n",
    "for file in files:\n",
    "    lengths += [pd.read_csv(directory+file+'/stop_times.txt').shape[0]]"
   ]
  },
  {
   "cell_type": "code",
   "execution_count": 12,
   "metadata": {},
   "outputs": [],
   "source": [
    "for i in range(len(files)):\n",
    "    files[i] = [datetime.strptime(files[i][0:10], \"%Y-%m-%d\").date(), files[i][10:]]\n",
    "files = np.asarray(files)"
   ]
  },
  {
   "cell_type": "code",
   "execution_count": 15,
   "metadata": {},
   "outputs": [
    {
     "data": {
      "image/png": "[encoded data removed]",
      "text/plain": [
       "<Figure size 1200x800 with 1 Axes>"
      ]
     },
     "metadata": {},
     "output_type": "display_data"
    }
   ],
   "source": [
    "fig, ax = plt.subplots(1,1)\n",
    "fig.set_size_inches(12,8)\n",
    "locator = mdates.AutoDateLocator(interval_multiples=True)  # Adjust the interval as needed\n",
    "plt.gca().xaxis.set_major_locator(locator)\n",
    "formatter = mdates.DateFormatter(\"%Y-%m-%d\")  # Customize the date format\n",
    "plt.gca().xaxis.set_major_formatter(formatter)\n",
    "scatter = ax.scatter(files[...,0], lengths, c = [0 if f == '.gtfs' else 1 if f == '-rt.gtfs' else 2 for f in files[..., 1]], cmap = 'Set1')\n",
    "plt.title(\"Wielkość ramki stop_times w zależności od daty\", fontsize = 24)\n",
    "legend_handles = [plt.Line2D([0], [0], marker='o', color='w', markerfacecolor=[0.89411765, 0.10196078, 0.10980392, 1.], label='.gtfs'), plt.Line2D([0], [0], marker='o', color='w', markerfacecolor=[0.6       , 0.6       , 0.6       , 1.        ], label='-rt.gtfs')]\n",
    "\n",
    "# Add a legend to the plot\n",
    "ax.legend(handles=legend_handles, fontsize = 16)\n",
    "plt.show()"
   ]
  },
  {
   "cell_type": "code",
   "execution_count": 16,
   "metadata": {},
   "outputs": [],
   "source": [
    "# directory = \"../dane/gtfs-drive/\"\n",
    "directory = \"./dane/\"\n",
    "day = \"2022-06-15\"# konkretny plik wybieramy\n",
    "filepath = directory +  day\n",
    "stop_times_df = pd.read_csv(filepath + '.gtfs/stop_times.txt')\n",
    "filepath += \"-rt.gtfs\"\n",
    "rt_stop_times_df = pd.read_csv(filepath + \"/stop_times.txt\")"
   ]
  },
  {
   "cell_type": "code",
   "execution_count": 62,
   "metadata": {},
   "outputs": [
    {
     "data": {
      "text/html": [
       "<div>\n",
       "<style scoped>\n",
       "    .dataframe tbody tr th:only-of-type {\n",
       "        vertical-align: middle;\n",
       "    }\n",
       "\n",
       "    .dataframe tbody tr th {\n",
       "        vertical-align: top;\n",
       "    }\n",
       "\n",
       "    .dataframe thead th {\n",
       "        text-align: right;\n",
       "    }\n",
       "</style>\n",
       "<table border=\"1\" class=\"dataframe\">\n",
       "  <thead>\n",
       "    <tr style=\"text-align: right;\">\n",
       "      <th></th>\n",
       "      <th>trip_id</th>\n",
       "      <th>arrival_time_x</th>\n",
       "      <th>departure_time_x</th>\n",
       "      <th>stop_id</th>\n",
       "      <th>stop_sequence_x</th>\n",
       "      <th>arrival_time_y</th>\n",
       "      <th>departure_time_y</th>\n",
       "      <th>stop_sequence_y</th>\n",
       "      <th>diff</th>\n",
       "    </tr>\n",
       "  </thead>\n",
       "  <tbody>\n",
       "    <tr>\n",
       "      <th>0</th>\n",
       "      <td>1_021_1_0637</td>\n",
       "      <td>06:59:00</td>\n",
       "      <td>06:59:00</td>\n",
       "      <td>4003_08</td>\n",
       "      <td>1</td>\n",
       "      <td>07:00:49</td>\n",
       "      <td>07:00:49</td>\n",
       "      <td>1</td>\n",
       "      <td>109.0</td>\n",
       "    </tr>\n",
       "    <tr>\n",
       "      <th>1</th>\n",
       "      <td>1_021_1_0637</td>\n",
       "      <td>07:01:00</td>\n",
       "      <td>07:01:00</td>\n",
       "      <td>4121_04</td>\n",
       "      <td>2</td>\n",
       "      <td>07:00:49</td>\n",
       "      <td>07:01:14</td>\n",
       "      <td>2</td>\n",
       "      <td>-11.0</td>\n",
       "    </tr>\n",
       "    <tr>\n",
       "      <th>2</th>\n",
       "      <td>1_021_1_0637</td>\n",
       "      <td>07:02:00</td>\n",
       "      <td>07:02:00</td>\n",
       "      <td>4004_04</td>\n",
       "      <td>3</td>\n",
       "      <td>07:01:49</td>\n",
       "      <td>07:01:59</td>\n",
       "      <td>3</td>\n",
       "      <td>-11.0</td>\n",
       "    </tr>\n",
       "    <tr>\n",
       "      <th>3</th>\n",
       "      <td>1_021_1_0637</td>\n",
       "      <td>07:05:00</td>\n",
       "      <td>07:05:00</td>\n",
       "      <td>4005_07</td>\n",
       "      <td>4</td>\n",
       "      <td>07:05:09</td>\n",
       "      <td>07:05:09</td>\n",
       "      <td>4</td>\n",
       "      <td>9.0</td>\n",
       "    </tr>\n",
       "    <tr>\n",
       "      <th>4</th>\n",
       "      <td>1_021_1_0718</td>\n",
       "      <td>07:18:00</td>\n",
       "      <td>07:18:00</td>\n",
       "      <td>4108_04</td>\n",
       "      <td>1</td>\n",
       "      <td>07:18:23</td>\n",
       "      <td>07:18:23</td>\n",
       "      <td>1</td>\n",
       "      <td>23.0</td>\n",
       "    </tr>\n",
       "    <tr>\n",
       "      <th>...</th>\n",
       "      <td>...</td>\n",
       "      <td>...</td>\n",
       "      <td>...</td>\n",
       "      <td>...</td>\n",
       "      <td>...</td>\n",
       "      <td>...</td>\n",
       "      <td>...</td>\n",
       "      <td>...</td>\n",
       "      <td>...</td>\n",
       "    </tr>\n",
       "    <tr>\n",
       "      <th>795150</th>\n",
       "      <td>N95_193_334_2257</td>\n",
       "      <td>23:23:00</td>\n",
       "      <td>23:23:00</td>\n",
       "      <td>5042_01</td>\n",
       "      <td>30</td>\n",
       "      <td>23:24:37</td>\n",
       "      <td>23:24:37</td>\n",
       "      <td>30</td>\n",
       "      <td>97.0</td>\n",
       "    </tr>\n",
       "    <tr>\n",
       "      <th>795151</th>\n",
       "      <td>N95_193_334_2257</td>\n",
       "      <td>23:24:00</td>\n",
       "      <td>23:24:00</td>\n",
       "      <td>5041_01</td>\n",
       "      <td>31</td>\n",
       "      <td>23:25:37</td>\n",
       "      <td>23:25:37</td>\n",
       "      <td>31</td>\n",
       "      <td>97.0</td>\n",
       "    </tr>\n",
       "    <tr>\n",
       "      <th>795152</th>\n",
       "      <td>N95_193_334_2257</td>\n",
       "      <td>23:25:00</td>\n",
       "      <td>23:25:00</td>\n",
       "      <td>5040_01</td>\n",
       "      <td>32</td>\n",
       "      <td>23:26:35</td>\n",
       "      <td>23:26:35</td>\n",
       "      <td>32</td>\n",
       "      <td>95.0</td>\n",
       "    </tr>\n",
       "    <tr>\n",
       "      <th>795153</th>\n",
       "      <td>N95_193_334_2257</td>\n",
       "      <td>23:26:00</td>\n",
       "      <td>23:26:00</td>\n",
       "      <td>5039_01</td>\n",
       "      <td>33</td>\n",
       "      <td>23:27:41</td>\n",
       "      <td>23:27:53</td>\n",
       "      <td>33</td>\n",
       "      <td>101.0</td>\n",
       "    </tr>\n",
       "    <tr>\n",
       "      <th>795154</th>\n",
       "      <td>N95_193_334_2257</td>\n",
       "      <td>23:27:00</td>\n",
       "      <td>23:27:00</td>\n",
       "      <td>7088_01</td>\n",
       "      <td>34</td>\n",
       "      <td>23:29:18</td>\n",
       "      <td>23:29:18</td>\n",
       "      <td>34</td>\n",
       "      <td>138.0</td>\n",
       "    </tr>\n",
       "  </tbody>\n",
       "</table>\n",
       "<p>795155 rows × 9 columns</p>\n",
       "</div>"
      ],
      "text/plain": [
       "                 trip_id arrival_time_x departure_time_x   stop_id  \\\n",
       "0           1_021_1_0637       06:59:00         06:59:00   4003_08   \n",
       "1           1_021_1_0637       07:01:00         07:01:00   4121_04   \n",
       "2           1_021_1_0637       07:02:00         07:02:00   4004_04   \n",
       "3           1_021_1_0637       07:05:00         07:05:00   4005_07   \n",
       "4           1_021_1_0718       07:18:00         07:18:00   4108_04   \n",
       "...                  ...            ...              ...       ...   \n",
       "795150  N95_193_334_2257       23:23:00         23:23:00   5042_01   \n",
       "795151  N95_193_334_2257       23:24:00         23:24:00   5041_01   \n",
       "795152  N95_193_334_2257       23:25:00         23:25:00   5040_01   \n",
       "795153  N95_193_334_2257       23:26:00         23:26:00   5039_01   \n",
       "795154  N95_193_334_2257       23:27:00         23:27:00   7088_01   \n",
       "\n",
       "        stop_sequence_x arrival_time_y departure_time_y  stop_sequence_y  \\\n",
       "0                     1       07:00:49         07:00:49                1   \n",
       "1                     2       07:00:49         07:01:14                2   \n",
       "2                     3       07:01:49         07:01:59                3   \n",
       "3                     4       07:05:09         07:05:09                4   \n",
       "4                     1       07:18:23         07:18:23                1   \n",
       "...                 ...            ...              ...              ...   \n",
       "795150               30       23:24:37         23:24:37               30   \n",
       "795151               31       23:25:37         23:25:37               31   \n",
       "795152               32       23:26:35         23:26:35               32   \n",
       "795153               33       23:27:41         23:27:53               33   \n",
       "795154               34       23:29:18         23:29:18               34   \n",
       "\n",
       "         diff  \n",
       "0       109.0  \n",
       "1       -11.0  \n",
       "2       -11.0  \n",
       "3         9.0  \n",
       "4        23.0  \n",
       "...       ...  \n",
       "795150   97.0  \n",
       "795151   97.0  \n",
       "795152   95.0  \n",
       "795153  101.0  \n",
       "795154  138.0  \n",
       "\n",
       "[795155 rows x 9 columns]"
      ]
     },
     "execution_count": 62,
     "metadata": {},
     "output_type": "execute_result"
    }
   ],
   "source": [
    "merged_df = stop_times_df.merge(rt_stop_times_df, on=['trip_id', 'stop_id'])\n",
    "\n",
    "# Remove leading and trailing whitespaces using str.strip()\n",
    "merged_df['arrival_time_x'] = merged_df['arrival_time_x'].str.strip()\n",
    "merged_df['arrival_time_y'] = merged_df['arrival_time_y'].str.strip()\n",
    "\n",
    "# Create the past_midnight column\n",
    "\n",
    "merged_df['diff'] = pd.to_timedelta(merged_df['arrival_time_y'], errors='coerce') - pd.to_timedelta(merged_df['arrival_time_x'], errors='coerce')\n",
    "merged_df['diff'] = merged_df['diff'].apply(lambda x: pd.Timedelta.total_seconds(x))\n",
    "\n",
    "merged_df"
   ]
  },
  {
   "cell_type": "markdown",
   "metadata": {},
   "source": [
    "### Analiza braków danych"
   ]
  },
  {
   "cell_type": "code",
   "execution_count": 22,
   "metadata": {},
   "outputs": [],
   "source": [
    "directory = \"./dane/\"\n",
    "day = \"2022-06-15\"\n",
    "\n",
    "filepath = directory +  day\n",
    "\n",
    "filepath1 = filepath + \".gtfs\"\n",
    "stop_times_df = pd.read_csv(filepath1 + '/stop_times.txt')\n",
    "routes_df = pd.read_csv(filepath1 + \"/routes.txt\")\n",
    "trips_df = pd.read_csv(filepath1 + \"/trips.txt\")\n",
    "\n",
    "filepath2 = filepath + \"-rt.gtfs\"\n",
    "rt_stop_times_df = pd.read_csv(filepath2 + \"/stop_times.txt\")\n"
   ]
  },
  {
   "cell_type": "code",
   "execution_count": 35,
   "metadata": {},
   "outputs": [],
   "source": [
    "def make_missingvals_df(stop_times_df, trips_df, routes_df, rt_stop_times_df, print_tmp_dfs=False, leave_only_nans=False):\n",
    "    tmp = pd.merge(stop_times_df, trips_df, on='trip_id')\n",
    "    tmp = pd.merge(tmp, routes_df, on='route_id')\n",
    "    tmp = tmp[[\"trip_id\", \"stop_id\", \"route_id\", \"route_short_name\", \"arrival_time\"]]\n",
    "\n",
    "    if print_tmp_dfs:\n",
    "        print(tmp.head(5))\n",
    "\n",
    "    final_missingval_merge = tmp.merge(rt_stop_times_df, on=['trip_id', 'stop_id'], how='outer')\n",
    "    final_missingval_merge = final_missingval_merge.drop(['departure_time', 'stop_sequence'], axis=1)\n",
    "\n",
    "    final_missingval_merge['arrival_time_x'] = final_missingval_merge['arrival_time_x'].str.strip()\n",
    "    final_missingval_merge['arrival_time_y'] = final_missingval_merge['arrival_time_y'].str.strip()\n",
    "    final_missingval_merge['diff'] = pd.to_timedelta(final_missingval_merge['arrival_time_y'], errors='coerce') - pd.to_timedelta(final_missingval_merge['arrival_time_x'], errors='coerce')\n",
    "    final_missingval_merge['diff'] = final_missingval_merge['diff'].apply(lambda x: pd.Timedelta.total_seconds(x) if pd.notna(x) else x)\n",
    "    \n",
    "    if print_tmp_dfs:\n",
    "        print(final_missingval_merge.head(5))\n",
    "\n",
    "    if leave_only_nans:\n",
    "        missing_vals = final_missingval_merge[final_missingval_merge['arrival_time_y'].isna()]\n",
    "\n",
    "        if print_tmp_dfs:\n",
    "            print(missing_vals.head(5))\n",
    "        \n",
    "        return missing_vals\n",
    "\n",
    "    return final_missingval_merge\n"
   ]
  },
  {
   "cell_type": "code",
   "execution_count": 47,
   "metadata": {},
   "outputs": [
    {
     "name": "stdout",
     "output_type": "stream",
     "text": [
      "87\n",
      "['2022-03-22', '2022-03-23', '2022-03-24', '2022-03-29', '2022-03-30', '2022-03-31', '2022-04-05', '2022-04-06', '2022-04-07', '2022-04-12', '2022-04-13', '2022-04-14', '2022-04-19', '2022-04-20', '2022-04-21', '2022-04-24', '2022-04-25', '2022-04-26', '2022-04-27', '2022-04-28', '2022-05-10', '2022-05-11', '2022-05-12', '2022-05-17', '2022-05-18', '2022-05-19', '2022-05-24', '2022-05-25', '2022-05-26', '2022-05-28', '2022-05-31', '2022-06-01', '2022-06-02', '2022-06-07', '2022-06-08', '2022-06-09', '2022-06-14', '2022-06-15', '2022-06-16', '2022-06-21', '2022-06-22', '2022-06-23', '2022-09-01', '2022-09-02', '2022-09-03', '2022-11-15', '2022-11-16', '2022-11-17', '2022-11-22', '2022-11-23', '2022-11-24', '2022-11-29', '2022-11-30', '2022-12-01', '2022-12-06', '2022-12-07', '2022-12-08', '2022-12-12', '2022-12-13', '2022-12-14', '2022-12-15', '2023-04-25', '2023-04-26', '2023-04-27', '2023-04-28', '2023-05-01', '2023-05-02', '2023-05-03', '2023-05-09', '2023-05-10', '2023-05-11', '2023-05-16', '2023-05-17', '2023-05-18', '2023-05-23', '2023-05-24', '2023-05-25', '2023-05-28', '2023-05-29', '2023-05-30', '2023-05-31', '2023-06-01', '2023-06-06', '2023-06-07', '2023-06-13', '2023-06-14', '2023-06-15']\n"
     ]
    }
   ],
   "source": [
    "daty = os.listdir(\"./dane/\")\n",
    "daty = [data[:10] for data in daty]\n",
    "daty = list(set(daty))\n",
    "daty = sorted(daty)\n",
    "print(len(daty))\n",
    "print(daty)"
   ]
  },
  {
   "cell_type": "code",
   "execution_count": 61,
   "metadata": {},
   "outputs": [
    {
     "name": "stdout",
     "output_type": "stream",
     "text": [
      "2022-03-22\n",
      "2022-03-23\n",
      "2022-03-24\n",
      "2022-03-29\n"
     ]
    },
    {
     "name": "stderr",
     "output_type": "stream",
     "text": [
      "C:\\Users\\laura\\AppData\\Local\\Temp\\ipykernel_14624\\3758845030.py:30: SettingWithCopyWarning: \n",
      "A value is trying to be set on a copy of a slice from a DataFrame.\n",
      "Try using .loc[row_indexer,col_indexer] = value instead\n",
      "\n",
      "See the caveats in the documentation: https://pandas.pydata.org/pandas-docs/stable/user_guide/indexing.html#returning-a-view-versus-a-copy\n",
      "  missing_vals['date'] = day\n"
     ]
    },
    {
     "name": "stdout",
     "output_type": "stream",
     "text": [
      "2022-03-30\n"
     ]
    },
    {
     "name": "stderr",
     "output_type": "stream",
     "text": [
      "C:\\Users\\laura\\AppData\\Local\\Temp\\ipykernel_14624\\3758845030.py:30: SettingWithCopyWarning: \n",
      "A value is trying to be set on a copy of a slice from a DataFrame.\n",
      "Try using .loc[row_indexer,col_indexer] = value instead\n",
      "\n",
      "See the caveats in the documentation: https://pandas.pydata.org/pandas-docs/stable/user_guide/indexing.html#returning-a-view-versus-a-copy\n",
      "  missing_vals['date'] = day\n"
     ]
    },
    {
     "name": "stdout",
     "output_type": "stream",
     "text": [
      "2022-03-31\n"
     ]
    },
    {
     "name": "stderr",
     "output_type": "stream",
     "text": [
      "C:\\Users\\laura\\AppData\\Local\\Temp\\ipykernel_14624\\3758845030.py:30: SettingWithCopyWarning: \n",
      "A value is trying to be set on a copy of a slice from a DataFrame.\n",
      "Try using .loc[row_indexer,col_indexer] = value instead\n",
      "\n",
      "See the caveats in the documentation: https://pandas.pydata.org/pandas-docs/stable/user_guide/indexing.html#returning-a-view-versus-a-copy\n",
      "  missing_vals['date'] = day\n"
     ]
    },
    {
     "name": "stdout",
     "output_type": "stream",
     "text": [
      "2022-04-05\n"
     ]
    },
    {
     "name": "stderr",
     "output_type": "stream",
     "text": [
      "C:\\Users\\laura\\AppData\\Local\\Temp\\ipykernel_14624\\3758845030.py:30: SettingWithCopyWarning: \n",
      "A value is trying to be set on a copy of a slice from a DataFrame.\n",
      "Try using .loc[row_indexer,col_indexer] = value instead\n",
      "\n",
      "See the caveats in the documentation: https://pandas.pydata.org/pandas-docs/stable/user_guide/indexing.html#returning-a-view-versus-a-copy\n",
      "  missing_vals['date'] = day\n"
     ]
    },
    {
     "name": "stdout",
     "output_type": "stream",
     "text": [
      "2022-04-06\n"
     ]
    },
    {
     "name": "stderr",
     "output_type": "stream",
     "text": [
      "C:\\Users\\laura\\AppData\\Local\\Temp\\ipykernel_14624\\3758845030.py:30: SettingWithCopyWarning: \n",
      "A value is trying to be set on a copy of a slice from a DataFrame.\n",
      "Try using .loc[row_indexer,col_indexer] = value instead\n",
      "\n",
      "See the caveats in the documentation: https://pandas.pydata.org/pandas-docs/stable/user_guide/indexing.html#returning-a-view-versus-a-copy\n",
      "  missing_vals['date'] = day\n"
     ]
    },
    {
     "name": "stdout",
     "output_type": "stream",
     "text": [
      "2022-04-07\n"
     ]
    },
    {
     "name": "stderr",
     "output_type": "stream",
     "text": [
      "C:\\Users\\laura\\AppData\\Local\\Temp\\ipykernel_14624\\3758845030.py:30: SettingWithCopyWarning: \n",
      "A value is trying to be set on a copy of a slice from a DataFrame.\n",
      "Try using .loc[row_indexer,col_indexer] = value instead\n",
      "\n",
      "See the caveats in the documentation: https://pandas.pydata.org/pandas-docs/stable/user_guide/indexing.html#returning-a-view-versus-a-copy\n",
      "  missing_vals['date'] = day\n"
     ]
    },
    {
     "name": "stdout",
     "output_type": "stream",
     "text": [
      "2022-04-12\n"
     ]
    },
    {
     "name": "stderr",
     "output_type": "stream",
     "text": [
      "C:\\Users\\laura\\AppData\\Local\\Temp\\ipykernel_14624\\3758845030.py:30: SettingWithCopyWarning: \n",
      "A value is trying to be set on a copy of a slice from a DataFrame.\n",
      "Try using .loc[row_indexer,col_indexer] = value instead\n",
      "\n",
      "See the caveats in the documentation: https://pandas.pydata.org/pandas-docs/stable/user_guide/indexing.html#returning-a-view-versus-a-copy\n",
      "  missing_vals['date'] = day\n"
     ]
    },
    {
     "name": "stdout",
     "output_type": "stream",
     "text": [
      "2022-04-13\n"
     ]
    },
    {
     "name": "stderr",
     "output_type": "stream",
     "text": [
      "C:\\Users\\laura\\AppData\\Local\\Temp\\ipykernel_14624\\3758845030.py:30: SettingWithCopyWarning: \n",
      "A value is trying to be set on a copy of a slice from a DataFrame.\n",
      "Try using .loc[row_indexer,col_indexer] = value instead\n",
      "\n",
      "See the caveats in the documentation: https://pandas.pydata.org/pandas-docs/stable/user_guide/indexing.html#returning-a-view-versus-a-copy\n",
      "  missing_vals['date'] = day\n"
     ]
    },
    {
     "name": "stdout",
     "output_type": "stream",
     "text": [
      "2022-04-14\n"
     ]
    },
    {
     "name": "stderr",
     "output_type": "stream",
     "text": [
      "C:\\Users\\laura\\AppData\\Local\\Temp\\ipykernel_14624\\3758845030.py:30: SettingWithCopyWarning: \n",
      "A value is trying to be set on a copy of a slice from a DataFrame.\n",
      "Try using .loc[row_indexer,col_indexer] = value instead\n",
      "\n",
      "See the caveats in the documentation: https://pandas.pydata.org/pandas-docs/stable/user_guide/indexing.html#returning-a-view-versus-a-copy\n",
      "  missing_vals['date'] = day\n"
     ]
    },
    {
     "name": "stdout",
     "output_type": "stream",
     "text": [
      "2022-04-19\n"
     ]
    },
    {
     "name": "stderr",
     "output_type": "stream",
     "text": [
      "C:\\Users\\laura\\AppData\\Local\\Temp\\ipykernel_14624\\3758845030.py:30: SettingWithCopyWarning: \n",
      "A value is trying to be set on a copy of a slice from a DataFrame.\n",
      "Try using .loc[row_indexer,col_indexer] = value instead\n",
      "\n",
      "See the caveats in the documentation: https://pandas.pydata.org/pandas-docs/stable/user_guide/indexing.html#returning-a-view-versus-a-copy\n",
      "  missing_vals['date'] = day\n"
     ]
    },
    {
     "name": "stdout",
     "output_type": "stream",
     "text": [
      "2022-04-20\n"
     ]
    },
    {
     "name": "stderr",
     "output_type": "stream",
     "text": [
      "C:\\Users\\laura\\AppData\\Local\\Temp\\ipykernel_14624\\3758845030.py:30: SettingWithCopyWarning: \n",
      "A value is trying to be set on a copy of a slice from a DataFrame.\n",
      "Try using .loc[row_indexer,col_indexer] = value instead\n",
      "\n",
      "See the caveats in the documentation: https://pandas.pydata.org/pandas-docs/stable/user_guide/indexing.html#returning-a-view-versus-a-copy\n",
      "  missing_vals['date'] = day\n"
     ]
    },
    {
     "name": "stdout",
     "output_type": "stream",
     "text": [
      "2022-04-21\n"
     ]
    },
    {
     "name": "stderr",
     "output_type": "stream",
     "text": [
      "C:\\Users\\laura\\AppData\\Local\\Temp\\ipykernel_14624\\3758845030.py:30: SettingWithCopyWarning: \n",
      "A value is trying to be set on a copy of a slice from a DataFrame.\n",
      "Try using .loc[row_indexer,col_indexer] = value instead\n",
      "\n",
      "See the caveats in the documentation: https://pandas.pydata.org/pandas-docs/stable/user_guide/indexing.html#returning-a-view-versus-a-copy\n",
      "  missing_vals['date'] = day\n"
     ]
    },
    {
     "name": "stdout",
     "output_type": "stream",
     "text": [
      "2022-04-24\n",
      "2022-04-25\n"
     ]
    },
    {
     "name": "stderr",
     "output_type": "stream",
     "text": [
      "C:\\Users\\laura\\AppData\\Local\\Temp\\ipykernel_14624\\3758845030.py:30: SettingWithCopyWarning: \n",
      "A value is trying to be set on a copy of a slice from a DataFrame.\n",
      "Try using .loc[row_indexer,col_indexer] = value instead\n",
      "\n",
      "See the caveats in the documentation: https://pandas.pydata.org/pandas-docs/stable/user_guide/indexing.html#returning-a-view-versus-a-copy\n",
      "  missing_vals['date'] = day\n"
     ]
    },
    {
     "name": "stdout",
     "output_type": "stream",
     "text": [
      "2022-04-26\n"
     ]
    },
    {
     "name": "stderr",
     "output_type": "stream",
     "text": [
      "C:\\Users\\laura\\AppData\\Local\\Temp\\ipykernel_14624\\3758845030.py:30: SettingWithCopyWarning: \n",
      "A value is trying to be set on a copy of a slice from a DataFrame.\n",
      "Try using .loc[row_indexer,col_indexer] = value instead\n",
      "\n",
      "See the caveats in the documentation: https://pandas.pydata.org/pandas-docs/stable/user_guide/indexing.html#returning-a-view-versus-a-copy\n",
      "  missing_vals['date'] = day\n"
     ]
    },
    {
     "name": "stdout",
     "output_type": "stream",
     "text": [
      "2022-04-27\n"
     ]
    },
    {
     "name": "stderr",
     "output_type": "stream",
     "text": [
      "C:\\Users\\laura\\AppData\\Local\\Temp\\ipykernel_14624\\3758845030.py:30: SettingWithCopyWarning: \n",
      "A value is trying to be set on a copy of a slice from a DataFrame.\n",
      "Try using .loc[row_indexer,col_indexer] = value instead\n",
      "\n",
      "See the caveats in the documentation: https://pandas.pydata.org/pandas-docs/stable/user_guide/indexing.html#returning-a-view-versus-a-copy\n",
      "  missing_vals['date'] = day\n"
     ]
    },
    {
     "name": "stdout",
     "output_type": "stream",
     "text": [
      "2022-04-28\n"
     ]
    },
    {
     "name": "stderr",
     "output_type": "stream",
     "text": [
      "C:\\Users\\laura\\AppData\\Local\\Temp\\ipykernel_14624\\3758845030.py:30: SettingWithCopyWarning: \n",
      "A value is trying to be set on a copy of a slice from a DataFrame.\n",
      "Try using .loc[row_indexer,col_indexer] = value instead\n",
      "\n",
      "See the caveats in the documentation: https://pandas.pydata.org/pandas-docs/stable/user_guide/indexing.html#returning-a-view-versus-a-copy\n",
      "  missing_vals['date'] = day\n"
     ]
    },
    {
     "name": "stdout",
     "output_type": "stream",
     "text": [
      "2022-05-10\n"
     ]
    },
    {
     "name": "stderr",
     "output_type": "stream",
     "text": [
      "C:\\Users\\laura\\AppData\\Local\\Temp\\ipykernel_14624\\3758845030.py:30: SettingWithCopyWarning: \n",
      "A value is trying to be set on a copy of a slice from a DataFrame.\n",
      "Try using .loc[row_indexer,col_indexer] = value instead\n",
      "\n",
      "See the caveats in the documentation: https://pandas.pydata.org/pandas-docs/stable/user_guide/indexing.html#returning-a-view-versus-a-copy\n",
      "  missing_vals['date'] = day\n"
     ]
    },
    {
     "name": "stdout",
     "output_type": "stream",
     "text": [
      "2022-05-11\n"
     ]
    },
    {
     "name": "stderr",
     "output_type": "stream",
     "text": [
      "C:\\Users\\laura\\AppData\\Local\\Temp\\ipykernel_14624\\3758845030.py:30: SettingWithCopyWarning: \n",
      "A value is trying to be set on a copy of a slice from a DataFrame.\n",
      "Try using .loc[row_indexer,col_indexer] = value instead\n",
      "\n",
      "See the caveats in the documentation: https://pandas.pydata.org/pandas-docs/stable/user_guide/indexing.html#returning-a-view-versus-a-copy\n",
      "  missing_vals['date'] = day\n"
     ]
    },
    {
     "name": "stdout",
     "output_type": "stream",
     "text": [
      "2022-05-12\n"
     ]
    },
    {
     "name": "stderr",
     "output_type": "stream",
     "text": [
      "C:\\Users\\laura\\AppData\\Local\\Temp\\ipykernel_14624\\3758845030.py:30: SettingWithCopyWarning: \n",
      "A value is trying to be set on a copy of a slice from a DataFrame.\n",
      "Try using .loc[row_indexer,col_indexer] = value instead\n",
      "\n",
      "See the caveats in the documentation: https://pandas.pydata.org/pandas-docs/stable/user_guide/indexing.html#returning-a-view-versus-a-copy\n",
      "  missing_vals['date'] = day\n"
     ]
    },
    {
     "name": "stdout",
     "output_type": "stream",
     "text": [
      "2022-05-17\n"
     ]
    },
    {
     "name": "stderr",
     "output_type": "stream",
     "text": [
      "C:\\Users\\laura\\AppData\\Local\\Temp\\ipykernel_14624\\3758845030.py:30: SettingWithCopyWarning: \n",
      "A value is trying to be set on a copy of a slice from a DataFrame.\n",
      "Try using .loc[row_indexer,col_indexer] = value instead\n",
      "\n",
      "See the caveats in the documentation: https://pandas.pydata.org/pandas-docs/stable/user_guide/indexing.html#returning-a-view-versus-a-copy\n",
      "  missing_vals['date'] = day\n"
     ]
    },
    {
     "name": "stdout",
     "output_type": "stream",
     "text": [
      "2022-05-18\n",
      "2022-05-19\n"
     ]
    },
    {
     "name": "stderr",
     "output_type": "stream",
     "text": [
      "C:\\Users\\laura\\AppData\\Local\\Temp\\ipykernel_14624\\3758845030.py:30: SettingWithCopyWarning: \n",
      "A value is trying to be set on a copy of a slice from a DataFrame.\n",
      "Try using .loc[row_indexer,col_indexer] = value instead\n",
      "\n",
      "See the caveats in the documentation: https://pandas.pydata.org/pandas-docs/stable/user_guide/indexing.html#returning-a-view-versus-a-copy\n",
      "  missing_vals['date'] = day\n"
     ]
    },
    {
     "name": "stdout",
     "output_type": "stream",
     "text": [
      "2022-05-24\n"
     ]
    },
    {
     "name": "stderr",
     "output_type": "stream",
     "text": [
      "C:\\Users\\laura\\AppData\\Local\\Temp\\ipykernel_14624\\3758845030.py:30: SettingWithCopyWarning: \n",
      "A value is trying to be set on a copy of a slice from a DataFrame.\n",
      "Try using .loc[row_indexer,col_indexer] = value instead\n",
      "\n",
      "See the caveats in the documentation: https://pandas.pydata.org/pandas-docs/stable/user_guide/indexing.html#returning-a-view-versus-a-copy\n",
      "  missing_vals['date'] = day\n"
     ]
    },
    {
     "name": "stdout",
     "output_type": "stream",
     "text": [
      "2022-05-25\n"
     ]
    },
    {
     "name": "stderr",
     "output_type": "stream",
     "text": [
      "C:\\Users\\laura\\AppData\\Local\\Temp\\ipykernel_14624\\3758845030.py:30: SettingWithCopyWarning: \n",
      "A value is trying to be set on a copy of a slice from a DataFrame.\n",
      "Try using .loc[row_indexer,col_indexer] = value instead\n",
      "\n",
      "See the caveats in the documentation: https://pandas.pydata.org/pandas-docs/stable/user_guide/indexing.html#returning-a-view-versus-a-copy\n",
      "  missing_vals['date'] = day\n"
     ]
    },
    {
     "name": "stdout",
     "output_type": "stream",
     "text": [
      "2022-05-26\n"
     ]
    },
    {
     "name": "stderr",
     "output_type": "stream",
     "text": [
      "C:\\Users\\laura\\AppData\\Local\\Temp\\ipykernel_14624\\3758845030.py:30: SettingWithCopyWarning: \n",
      "A value is trying to be set on a copy of a slice from a DataFrame.\n",
      "Try using .loc[row_indexer,col_indexer] = value instead\n",
      "\n",
      "See the caveats in the documentation: https://pandas.pydata.org/pandas-docs/stable/user_guide/indexing.html#returning-a-view-versus-a-copy\n",
      "  missing_vals['date'] = day\n"
     ]
    },
    {
     "name": "stdout",
     "output_type": "stream",
     "text": [
      "2022-05-28\n"
     ]
    },
    {
     "name": "stderr",
     "output_type": "stream",
     "text": [
      "C:\\Users\\laura\\AppData\\Local\\Temp\\ipykernel_14624\\3758845030.py:30: SettingWithCopyWarning: \n",
      "A value is trying to be set on a copy of a slice from a DataFrame.\n",
      "Try using .loc[row_indexer,col_indexer] = value instead\n",
      "\n",
      "See the caveats in the documentation: https://pandas.pydata.org/pandas-docs/stable/user_guide/indexing.html#returning-a-view-versus-a-copy\n",
      "  missing_vals['date'] = day\n"
     ]
    },
    {
     "name": "stdout",
     "output_type": "stream",
     "text": [
      "2022-05-31\n"
     ]
    },
    {
     "name": "stderr",
     "output_type": "stream",
     "text": [
      "C:\\Users\\laura\\AppData\\Local\\Temp\\ipykernel_14624\\3758845030.py:30: SettingWithCopyWarning: \n",
      "A value is trying to be set on a copy of a slice from a DataFrame.\n",
      "Try using .loc[row_indexer,col_indexer] = value instead\n",
      "\n",
      "See the caveats in the documentation: https://pandas.pydata.org/pandas-docs/stable/user_guide/indexing.html#returning-a-view-versus-a-copy\n",
      "  missing_vals['date'] = day\n"
     ]
    },
    {
     "name": "stdout",
     "output_type": "stream",
     "text": [
      "2022-06-01\n"
     ]
    },
    {
     "name": "stderr",
     "output_type": "stream",
     "text": [
      "C:\\Users\\laura\\AppData\\Local\\Temp\\ipykernel_14624\\3758845030.py:30: SettingWithCopyWarning: \n",
      "A value is trying to be set on a copy of a slice from a DataFrame.\n",
      "Try using .loc[row_indexer,col_indexer] = value instead\n",
      "\n",
      "See the caveats in the documentation: https://pandas.pydata.org/pandas-docs/stable/user_guide/indexing.html#returning-a-view-versus-a-copy\n",
      "  missing_vals['date'] = day\n"
     ]
    },
    {
     "name": "stdout",
     "output_type": "stream",
     "text": [
      "2022-06-02\n"
     ]
    },
    {
     "name": "stderr",
     "output_type": "stream",
     "text": [
      "C:\\Users\\laura\\AppData\\Local\\Temp\\ipykernel_14624\\3758845030.py:30: SettingWithCopyWarning: \n",
      "A value is trying to be set on a copy of a slice from a DataFrame.\n",
      "Try using .loc[row_indexer,col_indexer] = value instead\n",
      "\n",
      "See the caveats in the documentation: https://pandas.pydata.org/pandas-docs/stable/user_guide/indexing.html#returning-a-view-versus-a-copy\n",
      "  missing_vals['date'] = day\n"
     ]
    },
    {
     "name": "stdout",
     "output_type": "stream",
     "text": [
      "2022-06-07\n"
     ]
    },
    {
     "name": "stderr",
     "output_type": "stream",
     "text": [
      "C:\\Users\\laura\\AppData\\Local\\Temp\\ipykernel_14624\\3758845030.py:30: SettingWithCopyWarning: \n",
      "A value is trying to be set on a copy of a slice from a DataFrame.\n",
      "Try using .loc[row_indexer,col_indexer] = value instead\n",
      "\n",
      "See the caveats in the documentation: https://pandas.pydata.org/pandas-docs/stable/user_guide/indexing.html#returning-a-view-versus-a-copy\n",
      "  missing_vals['date'] = day\n"
     ]
    },
    {
     "name": "stdout",
     "output_type": "stream",
     "text": [
      "2022-06-08\n"
     ]
    },
    {
     "name": "stderr",
     "output_type": "stream",
     "text": [
      "C:\\Users\\laura\\AppData\\Local\\Temp\\ipykernel_14624\\3758845030.py:30: SettingWithCopyWarning: \n",
      "A value is trying to be set on a copy of a slice from a DataFrame.\n",
      "Try using .loc[row_indexer,col_indexer] = value instead\n",
      "\n",
      "See the caveats in the documentation: https://pandas.pydata.org/pandas-docs/stable/user_guide/indexing.html#returning-a-view-versus-a-copy\n",
      "  missing_vals['date'] = day\n"
     ]
    },
    {
     "name": "stdout",
     "output_type": "stream",
     "text": [
      "2022-06-09\n"
     ]
    },
    {
     "name": "stderr",
     "output_type": "stream",
     "text": [
      "C:\\Users\\laura\\AppData\\Local\\Temp\\ipykernel_14624\\3758845030.py:30: SettingWithCopyWarning: \n",
      "A value is trying to be set on a copy of a slice from a DataFrame.\n",
      "Try using .loc[row_indexer,col_indexer] = value instead\n",
      "\n",
      "See the caveats in the documentation: https://pandas.pydata.org/pandas-docs/stable/user_guide/indexing.html#returning-a-view-versus-a-copy\n",
      "  missing_vals['date'] = day\n"
     ]
    },
    {
     "name": "stdout",
     "output_type": "stream",
     "text": [
      "2022-06-14\n"
     ]
    },
    {
     "name": "stderr",
     "output_type": "stream",
     "text": [
      "C:\\Users\\laura\\AppData\\Local\\Temp\\ipykernel_14624\\3758845030.py:30: SettingWithCopyWarning: \n",
      "A value is trying to be set on a copy of a slice from a DataFrame.\n",
      "Try using .loc[row_indexer,col_indexer] = value instead\n",
      "\n",
      "See the caveats in the documentation: https://pandas.pydata.org/pandas-docs/stable/user_guide/indexing.html#returning-a-view-versus-a-copy\n",
      "  missing_vals['date'] = day\n"
     ]
    },
    {
     "name": "stdout",
     "output_type": "stream",
     "text": [
      "2022-06-15\n"
     ]
    },
    {
     "name": "stderr",
     "output_type": "stream",
     "text": [
      "C:\\Users\\laura\\AppData\\Local\\Temp\\ipykernel_14624\\3758845030.py:30: SettingWithCopyWarning: \n",
      "A value is trying to be set on a copy of a slice from a DataFrame.\n",
      "Try using .loc[row_indexer,col_indexer] = value instead\n",
      "\n",
      "See the caveats in the documentation: https://pandas.pydata.org/pandas-docs/stable/user_guide/indexing.html#returning-a-view-versus-a-copy\n",
      "  missing_vals['date'] = day\n"
     ]
    },
    {
     "name": "stdout",
     "output_type": "stream",
     "text": [
      "2022-06-16\n"
     ]
    },
    {
     "name": "stderr",
     "output_type": "stream",
     "text": [
      "C:\\Users\\laura\\AppData\\Local\\Temp\\ipykernel_14624\\3758845030.py:30: SettingWithCopyWarning: \n",
      "A value is trying to be set on a copy of a slice from a DataFrame.\n",
      "Try using .loc[row_indexer,col_indexer] = value instead\n",
      "\n",
      "See the caveats in the documentation: https://pandas.pydata.org/pandas-docs/stable/user_guide/indexing.html#returning-a-view-versus-a-copy\n",
      "  missing_vals['date'] = day\n"
     ]
    },
    {
     "name": "stdout",
     "output_type": "stream",
     "text": [
      "2022-06-21\n"
     ]
    },
    {
     "name": "stderr",
     "output_type": "stream",
     "text": [
      "C:\\Users\\laura\\AppData\\Local\\Temp\\ipykernel_14624\\3758845030.py:30: SettingWithCopyWarning: \n",
      "A value is trying to be set on a copy of a slice from a DataFrame.\n",
      "Try using .loc[row_indexer,col_indexer] = value instead\n",
      "\n",
      "See the caveats in the documentation: https://pandas.pydata.org/pandas-docs/stable/user_guide/indexing.html#returning-a-view-versus-a-copy\n",
      "  missing_vals['date'] = day\n"
     ]
    },
    {
     "name": "stdout",
     "output_type": "stream",
     "text": [
      "2022-06-22\n"
     ]
    },
    {
     "name": "stderr",
     "output_type": "stream",
     "text": [
      "C:\\Users\\laura\\AppData\\Local\\Temp\\ipykernel_14624\\3758845030.py:30: SettingWithCopyWarning: \n",
      "A value is trying to be set on a copy of a slice from a DataFrame.\n",
      "Try using .loc[row_indexer,col_indexer] = value instead\n",
      "\n",
      "See the caveats in the documentation: https://pandas.pydata.org/pandas-docs/stable/user_guide/indexing.html#returning-a-view-versus-a-copy\n",
      "  missing_vals['date'] = day\n"
     ]
    },
    {
     "name": "stdout",
     "output_type": "stream",
     "text": [
      "2022-06-23\n"
     ]
    },
    {
     "name": "stderr",
     "output_type": "stream",
     "text": [
      "C:\\Users\\laura\\AppData\\Local\\Temp\\ipykernel_14624\\3758845030.py:30: SettingWithCopyWarning: \n",
      "A value is trying to be set on a copy of a slice from a DataFrame.\n",
      "Try using .loc[row_indexer,col_indexer] = value instead\n",
      "\n",
      "See the caveats in the documentation: https://pandas.pydata.org/pandas-docs/stable/user_guide/indexing.html#returning-a-view-versus-a-copy\n",
      "  missing_vals['date'] = day\n"
     ]
    },
    {
     "name": "stdout",
     "output_type": "stream",
     "text": [
      "2022-09-01\n"
     ]
    },
    {
     "name": "stderr",
     "output_type": "stream",
     "text": [
      "C:\\Users\\laura\\AppData\\Local\\Temp\\ipykernel_14624\\3758845030.py:30: SettingWithCopyWarning: \n",
      "A value is trying to be set on a copy of a slice from a DataFrame.\n",
      "Try using .loc[row_indexer,col_indexer] = value instead\n",
      "\n",
      "See the caveats in the documentation: https://pandas.pydata.org/pandas-docs/stable/user_guide/indexing.html#returning-a-view-versus-a-copy\n",
      "  missing_vals['date'] = day\n"
     ]
    },
    {
     "name": "stdout",
     "output_type": "stream",
     "text": [
      "2022-09-02\n"
     ]
    },
    {
     "name": "stderr",
     "output_type": "stream",
     "text": [
      "C:\\Users\\laura\\AppData\\Local\\Temp\\ipykernel_14624\\3758845030.py:30: SettingWithCopyWarning: \n",
      "A value is trying to be set on a copy of a slice from a DataFrame.\n",
      "Try using .loc[row_indexer,col_indexer] = value instead\n",
      "\n",
      "See the caveats in the documentation: https://pandas.pydata.org/pandas-docs/stable/user_guide/indexing.html#returning-a-view-versus-a-copy\n",
      "  missing_vals['date'] = day\n"
     ]
    },
    {
     "name": "stdout",
     "output_type": "stream",
     "text": [
      "2022-09-03\n"
     ]
    },
    {
     "name": "stderr",
     "output_type": "stream",
     "text": [
      "C:\\Users\\laura\\AppData\\Local\\Temp\\ipykernel_14624\\3758845030.py:30: SettingWithCopyWarning: \n",
      "A value is trying to be set on a copy of a slice from a DataFrame.\n",
      "Try using .loc[row_indexer,col_indexer] = value instead\n",
      "\n",
      "See the caveats in the documentation: https://pandas.pydata.org/pandas-docs/stable/user_guide/indexing.html#returning-a-view-versus-a-copy\n",
      "  missing_vals['date'] = day\n"
     ]
    },
    {
     "name": "stdout",
     "output_type": "stream",
     "text": [
      "2022-11-15\n"
     ]
    },
    {
     "name": "stderr",
     "output_type": "stream",
     "text": [
      "C:\\Users\\laura\\AppData\\Local\\Temp\\ipykernel_14624\\3758845030.py:30: SettingWithCopyWarning: \n",
      "A value is trying to be set on a copy of a slice from a DataFrame.\n",
      "Try using .loc[row_indexer,col_indexer] = value instead\n",
      "\n",
      "See the caveats in the documentation: https://pandas.pydata.org/pandas-docs/stable/user_guide/indexing.html#returning-a-view-versus-a-copy\n",
      "  missing_vals['date'] = day\n"
     ]
    },
    {
     "name": "stdout",
     "output_type": "stream",
     "text": [
      "2022-11-16\n"
     ]
    },
    {
     "name": "stderr",
     "output_type": "stream",
     "text": [
      "C:\\Users\\laura\\AppData\\Local\\Temp\\ipykernel_14624\\3758845030.py:30: SettingWithCopyWarning: \n",
      "A value is trying to be set on a copy of a slice from a DataFrame.\n",
      "Try using .loc[row_indexer,col_indexer] = value instead\n",
      "\n",
      "See the caveats in the documentation: https://pandas.pydata.org/pandas-docs/stable/user_guide/indexing.html#returning-a-view-versus-a-copy\n",
      "  missing_vals['date'] = day\n"
     ]
    },
    {
     "name": "stdout",
     "output_type": "stream",
     "text": [
      "2022-11-17\n"
     ]
    },
    {
     "name": "stderr",
     "output_type": "stream",
     "text": [
      "C:\\Users\\laura\\AppData\\Local\\Temp\\ipykernel_14624\\3758845030.py:30: SettingWithCopyWarning: \n",
      "A value is trying to be set on a copy of a slice from a DataFrame.\n",
      "Try using .loc[row_indexer,col_indexer] = value instead\n",
      "\n",
      "See the caveats in the documentation: https://pandas.pydata.org/pandas-docs/stable/user_guide/indexing.html#returning-a-view-versus-a-copy\n",
      "  missing_vals['date'] = day\n"
     ]
    },
    {
     "name": "stdout",
     "output_type": "stream",
     "text": [
      "2022-11-22\n"
     ]
    },
    {
     "name": "stderr",
     "output_type": "stream",
     "text": [
      "C:\\Users\\laura\\AppData\\Local\\Temp\\ipykernel_14624\\3758845030.py:30: SettingWithCopyWarning: \n",
      "A value is trying to be set on a copy of a slice from a DataFrame.\n",
      "Try using .loc[row_indexer,col_indexer] = value instead\n",
      "\n",
      "See the caveats in the documentation: https://pandas.pydata.org/pandas-docs/stable/user_guide/indexing.html#returning-a-view-versus-a-copy\n",
      "  missing_vals['date'] = day\n"
     ]
    },
    {
     "name": "stdout",
     "output_type": "stream",
     "text": [
      "2022-11-23\n"
     ]
    },
    {
     "name": "stderr",
     "output_type": "stream",
     "text": [
      "C:\\Users\\laura\\AppData\\Local\\Temp\\ipykernel_14624\\3758845030.py:30: SettingWithCopyWarning: \n",
      "A value is trying to be set on a copy of a slice from a DataFrame.\n",
      "Try using .loc[row_indexer,col_indexer] = value instead\n",
      "\n",
      "See the caveats in the documentation: https://pandas.pydata.org/pandas-docs/stable/user_guide/indexing.html#returning-a-view-versus-a-copy\n",
      "  missing_vals['date'] = day\n"
     ]
    },
    {
     "name": "stdout",
     "output_type": "stream",
     "text": [
      "2022-11-24\n"
     ]
    },
    {
     "name": "stderr",
     "output_type": "stream",
     "text": [
      "C:\\Users\\laura\\AppData\\Local\\Temp\\ipykernel_14624\\3758845030.py:30: SettingWithCopyWarning: \n",
      "A value is trying to be set on a copy of a slice from a DataFrame.\n",
      "Try using .loc[row_indexer,col_indexer] = value instead\n",
      "\n",
      "See the caveats in the documentation: https://pandas.pydata.org/pandas-docs/stable/user_guide/indexing.html#returning-a-view-versus-a-copy\n",
      "  missing_vals['date'] = day\n"
     ]
    },
    {
     "name": "stdout",
     "output_type": "stream",
     "text": [
      "2022-11-29\n"
     ]
    },
    {
     "name": "stderr",
     "output_type": "stream",
     "text": [
      "C:\\Users\\laura\\AppData\\Local\\Temp\\ipykernel_14624\\3758845030.py:30: SettingWithCopyWarning: \n",
      "A value is trying to be set on a copy of a slice from a DataFrame.\n",
      "Try using .loc[row_indexer,col_indexer] = value instead\n",
      "\n",
      "See the caveats in the documentation: https://pandas.pydata.org/pandas-docs/stable/user_guide/indexing.html#returning-a-view-versus-a-copy\n",
      "  missing_vals['date'] = day\n"
     ]
    },
    {
     "name": "stdout",
     "output_type": "stream",
     "text": [
      "2022-11-30\n"
     ]
    },
    {
     "name": "stderr",
     "output_type": "stream",
     "text": [
      "C:\\Users\\laura\\AppData\\Local\\Temp\\ipykernel_14624\\3758845030.py:30: SettingWithCopyWarning: \n",
      "A value is trying to be set on a copy of a slice from a DataFrame.\n",
      "Try using .loc[row_indexer,col_indexer] = value instead\n",
      "\n",
      "See the caveats in the documentation: https://pandas.pydata.org/pandas-docs/stable/user_guide/indexing.html#returning-a-view-versus-a-copy\n",
      "  missing_vals['date'] = day\n"
     ]
    },
    {
     "name": "stdout",
     "output_type": "stream",
     "text": [
      "2022-12-01\n"
     ]
    },
    {
     "name": "stderr",
     "output_type": "stream",
     "text": [
      "C:\\Users\\laura\\AppData\\Local\\Temp\\ipykernel_14624\\3758845030.py:30: SettingWithCopyWarning: \n",
      "A value is trying to be set on a copy of a slice from a DataFrame.\n",
      "Try using .loc[row_indexer,col_indexer] = value instead\n",
      "\n",
      "See the caveats in the documentation: https://pandas.pydata.org/pandas-docs/stable/user_guide/indexing.html#returning-a-view-versus-a-copy\n",
      "  missing_vals['date'] = day\n"
     ]
    },
    {
     "name": "stdout",
     "output_type": "stream",
     "text": [
      "2022-12-06\n"
     ]
    },
    {
     "name": "stderr",
     "output_type": "stream",
     "text": [
      "C:\\Users\\laura\\AppData\\Local\\Temp\\ipykernel_14624\\3758845030.py:30: SettingWithCopyWarning: \n",
      "A value is trying to be set on a copy of a slice from a DataFrame.\n",
      "Try using .loc[row_indexer,col_indexer] = value instead\n",
      "\n",
      "See the caveats in the documentation: https://pandas.pydata.org/pandas-docs/stable/user_guide/indexing.html#returning-a-view-versus-a-copy\n",
      "  missing_vals['date'] = day\n"
     ]
    },
    {
     "name": "stdout",
     "output_type": "stream",
     "text": [
      "2022-12-07\n"
     ]
    },
    {
     "name": "stderr",
     "output_type": "stream",
     "text": [
      "C:\\Users\\laura\\AppData\\Local\\Temp\\ipykernel_14624\\3758845030.py:30: SettingWithCopyWarning: \n",
      "A value is trying to be set on a copy of a slice from a DataFrame.\n",
      "Try using .loc[row_indexer,col_indexer] = value instead\n",
      "\n",
      "See the caveats in the documentation: https://pandas.pydata.org/pandas-docs/stable/user_guide/indexing.html#returning-a-view-versus-a-copy\n",
      "  missing_vals['date'] = day\n"
     ]
    },
    {
     "name": "stdout",
     "output_type": "stream",
     "text": [
      "2022-12-08\n"
     ]
    },
    {
     "name": "stderr",
     "output_type": "stream",
     "text": [
      "C:\\Users\\laura\\AppData\\Local\\Temp\\ipykernel_14624\\3758845030.py:30: SettingWithCopyWarning: \n",
      "A value is trying to be set on a copy of a slice from a DataFrame.\n",
      "Try using .loc[row_indexer,col_indexer] = value instead\n",
      "\n",
      "See the caveats in the documentation: https://pandas.pydata.org/pandas-docs/stable/user_guide/indexing.html#returning-a-view-versus-a-copy\n",
      "  missing_vals['date'] = day\n"
     ]
    },
    {
     "name": "stdout",
     "output_type": "stream",
     "text": [
      "2022-12-12\n"
     ]
    },
    {
     "name": "stderr",
     "output_type": "stream",
     "text": [
      "C:\\Users\\laura\\AppData\\Local\\Temp\\ipykernel_14624\\3758845030.py:30: SettingWithCopyWarning: \n",
      "A value is trying to be set on a copy of a slice from a DataFrame.\n",
      "Try using .loc[row_indexer,col_indexer] = value instead\n",
      "\n",
      "See the caveats in the documentation: https://pandas.pydata.org/pandas-docs/stable/user_guide/indexing.html#returning-a-view-versus-a-copy\n",
      "  missing_vals['date'] = day\n"
     ]
    },
    {
     "name": "stdout",
     "output_type": "stream",
     "text": [
      "2022-12-13\n"
     ]
    },
    {
     "name": "stderr",
     "output_type": "stream",
     "text": [
      "C:\\Users\\laura\\AppData\\Local\\Temp\\ipykernel_14624\\3758845030.py:30: SettingWithCopyWarning: \n",
      "A value is trying to be set on a copy of a slice from a DataFrame.\n",
      "Try using .loc[row_indexer,col_indexer] = value instead\n",
      "\n",
      "See the caveats in the documentation: https://pandas.pydata.org/pandas-docs/stable/user_guide/indexing.html#returning-a-view-versus-a-copy\n",
      "  missing_vals['date'] = day\n"
     ]
    },
    {
     "name": "stdout",
     "output_type": "stream",
     "text": [
      "2022-12-14\n"
     ]
    },
    {
     "name": "stderr",
     "output_type": "stream",
     "text": [
      "C:\\Users\\laura\\AppData\\Local\\Temp\\ipykernel_14624\\3758845030.py:30: SettingWithCopyWarning: \n",
      "A value is trying to be set on a copy of a slice from a DataFrame.\n",
      "Try using .loc[row_indexer,col_indexer] = value instead\n",
      "\n",
      "See the caveats in the documentation: https://pandas.pydata.org/pandas-docs/stable/user_guide/indexing.html#returning-a-view-versus-a-copy\n",
      "  missing_vals['date'] = day\n"
     ]
    },
    {
     "name": "stdout",
     "output_type": "stream",
     "text": [
      "2022-12-15\n"
     ]
    },
    {
     "name": "stderr",
     "output_type": "stream",
     "text": [
      "C:\\Users\\laura\\AppData\\Local\\Temp\\ipykernel_14624\\3758845030.py:30: SettingWithCopyWarning: \n",
      "A value is trying to be set on a copy of a slice from a DataFrame.\n",
      "Try using .loc[row_indexer,col_indexer] = value instead\n",
      "\n",
      "See the caveats in the documentation: https://pandas.pydata.org/pandas-docs/stable/user_guide/indexing.html#returning-a-view-versus-a-copy\n",
      "  missing_vals['date'] = day\n"
     ]
    },
    {
     "name": "stdout",
     "output_type": "stream",
     "text": [
      "2023-04-25\n"
     ]
    },
    {
     "name": "stderr",
     "output_type": "stream",
     "text": [
      "C:\\Users\\laura\\AppData\\Local\\Temp\\ipykernel_14624\\3758845030.py:30: SettingWithCopyWarning: \n",
      "A value is trying to be set on a copy of a slice from a DataFrame.\n",
      "Try using .loc[row_indexer,col_indexer] = value instead\n",
      "\n",
      "See the caveats in the documentation: https://pandas.pydata.org/pandas-docs/stable/user_guide/indexing.html#returning-a-view-versus-a-copy\n",
      "  missing_vals['date'] = day\n"
     ]
    },
    {
     "name": "stdout",
     "output_type": "stream",
     "text": [
      "2023-04-26\n"
     ]
    },
    {
     "name": "stderr",
     "output_type": "stream",
     "text": [
      "C:\\Users\\laura\\AppData\\Local\\Temp\\ipykernel_14624\\3758845030.py:30: SettingWithCopyWarning: \n",
      "A value is trying to be set on a copy of a slice from a DataFrame.\n",
      "Try using .loc[row_indexer,col_indexer] = value instead\n",
      "\n",
      "See the caveats in the documentation: https://pandas.pydata.org/pandas-docs/stable/user_guide/indexing.html#returning-a-view-versus-a-copy\n",
      "  missing_vals['date'] = day\n"
     ]
    },
    {
     "name": "stdout",
     "output_type": "stream",
     "text": [
      "2023-04-27\n"
     ]
    },
    {
     "name": "stderr",
     "output_type": "stream",
     "text": [
      "C:\\Users\\laura\\AppData\\Local\\Temp\\ipykernel_14624\\3758845030.py:30: SettingWithCopyWarning: \n",
      "A value is trying to be set on a copy of a slice from a DataFrame.\n",
      "Try using .loc[row_indexer,col_indexer] = value instead\n",
      "\n",
      "See the caveats in the documentation: https://pandas.pydata.org/pandas-docs/stable/user_guide/indexing.html#returning-a-view-versus-a-copy\n",
      "  missing_vals['date'] = day\n"
     ]
    },
    {
     "name": "stdout",
     "output_type": "stream",
     "text": [
      "2023-04-28\n",
      "2023-05-01\n",
      "2023-05-02\n"
     ]
    },
    {
     "name": "stderr",
     "output_type": "stream",
     "text": [
      "C:\\Users\\laura\\AppData\\Local\\Temp\\ipykernel_14624\\3758845030.py:30: SettingWithCopyWarning: \n",
      "A value is trying to be set on a copy of a slice from a DataFrame.\n",
      "Try using .loc[row_indexer,col_indexer] = value instead\n",
      "\n",
      "See the caveats in the documentation: https://pandas.pydata.org/pandas-docs/stable/user_guide/indexing.html#returning-a-view-versus-a-copy\n",
      "  missing_vals['date'] = day\n"
     ]
    },
    {
     "name": "stdout",
     "output_type": "stream",
     "text": [
      "2023-05-03\n",
      "2023-05-09\n"
     ]
    },
    {
     "name": "stderr",
     "output_type": "stream",
     "text": [
      "C:\\Users\\laura\\AppData\\Local\\Temp\\ipykernel_14624\\3758845030.py:30: SettingWithCopyWarning: \n",
      "A value is trying to be set on a copy of a slice from a DataFrame.\n",
      "Try using .loc[row_indexer,col_indexer] = value instead\n",
      "\n",
      "See the caveats in the documentation: https://pandas.pydata.org/pandas-docs/stable/user_guide/indexing.html#returning-a-view-versus-a-copy\n",
      "  missing_vals['date'] = day\n"
     ]
    },
    {
     "name": "stdout",
     "output_type": "stream",
     "text": [
      "2023-05-10\n"
     ]
    },
    {
     "name": "stderr",
     "output_type": "stream",
     "text": [
      "C:\\Users\\laura\\AppData\\Local\\Temp\\ipykernel_14624\\3758845030.py:30: SettingWithCopyWarning: \n",
      "A value is trying to be set on a copy of a slice from a DataFrame.\n",
      "Try using .loc[row_indexer,col_indexer] = value instead\n",
      "\n",
      "See the caveats in the documentation: https://pandas.pydata.org/pandas-docs/stable/user_guide/indexing.html#returning-a-view-versus-a-copy\n",
      "  missing_vals['date'] = day\n"
     ]
    },
    {
     "name": "stdout",
     "output_type": "stream",
     "text": [
      "2023-05-11\n"
     ]
    },
    {
     "name": "stderr",
     "output_type": "stream",
     "text": [
      "C:\\Users\\laura\\AppData\\Local\\Temp\\ipykernel_14624\\3758845030.py:30: SettingWithCopyWarning: \n",
      "A value is trying to be set on a copy of a slice from a DataFrame.\n",
      "Try using .loc[row_indexer,col_indexer] = value instead\n",
      "\n",
      "See the caveats in the documentation: https://pandas.pydata.org/pandas-docs/stable/user_guide/indexing.html#returning-a-view-versus-a-copy\n",
      "  missing_vals['date'] = day\n"
     ]
    },
    {
     "name": "stdout",
     "output_type": "stream",
     "text": [
      "2023-05-16\n"
     ]
    },
    {
     "name": "stderr",
     "output_type": "stream",
     "text": [
      "C:\\Users\\laura\\AppData\\Local\\Temp\\ipykernel_14624\\3758845030.py:30: SettingWithCopyWarning: \n",
      "A value is trying to be set on a copy of a slice from a DataFrame.\n",
      "Try using .loc[row_indexer,col_indexer] = value instead\n",
      "\n",
      "See the caveats in the documentation: https://pandas.pydata.org/pandas-docs/stable/user_guide/indexing.html#returning-a-view-versus-a-copy\n",
      "  missing_vals['date'] = day\n"
     ]
    },
    {
     "name": "stdout",
     "output_type": "stream",
     "text": [
      "2023-05-17\n"
     ]
    },
    {
     "name": "stderr",
     "output_type": "stream",
     "text": [
      "C:\\Users\\laura\\AppData\\Local\\Temp\\ipykernel_14624\\3758845030.py:30: SettingWithCopyWarning: \n",
      "A value is trying to be set on a copy of a slice from a DataFrame.\n",
      "Try using .loc[row_indexer,col_indexer] = value instead\n",
      "\n",
      "See the caveats in the documentation: https://pandas.pydata.org/pandas-docs/stable/user_guide/indexing.html#returning-a-view-versus-a-copy\n",
      "  missing_vals['date'] = day\n"
     ]
    },
    {
     "name": "stdout",
     "output_type": "stream",
     "text": [
      "2023-05-18\n"
     ]
    },
    {
     "name": "stderr",
     "output_type": "stream",
     "text": [
      "C:\\Users\\laura\\AppData\\Local\\Temp\\ipykernel_14624\\3758845030.py:30: SettingWithCopyWarning: \n",
      "A value is trying to be set on a copy of a slice from a DataFrame.\n",
      "Try using .loc[row_indexer,col_indexer] = value instead\n",
      "\n",
      "See the caveats in the documentation: https://pandas.pydata.org/pandas-docs/stable/user_guide/indexing.html#returning-a-view-versus-a-copy\n",
      "  missing_vals['date'] = day\n"
     ]
    },
    {
     "name": "stdout",
     "output_type": "stream",
     "text": [
      "2023-05-23\n"
     ]
    },
    {
     "name": "stderr",
     "output_type": "stream",
     "text": [
      "C:\\Users\\laura\\AppData\\Local\\Temp\\ipykernel_14624\\3758845030.py:30: SettingWithCopyWarning: \n",
      "A value is trying to be set on a copy of a slice from a DataFrame.\n",
      "Try using .loc[row_indexer,col_indexer] = value instead\n",
      "\n",
      "See the caveats in the documentation: https://pandas.pydata.org/pandas-docs/stable/user_guide/indexing.html#returning-a-view-versus-a-copy\n",
      "  missing_vals['date'] = day\n"
     ]
    },
    {
     "name": "stdout",
     "output_type": "stream",
     "text": [
      "2023-05-24\n"
     ]
    },
    {
     "name": "stderr",
     "output_type": "stream",
     "text": [
      "C:\\Users\\laura\\AppData\\Local\\Temp\\ipykernel_14624\\3758845030.py:30: SettingWithCopyWarning: \n",
      "A value is trying to be set on a copy of a slice from a DataFrame.\n",
      "Try using .loc[row_indexer,col_indexer] = value instead\n",
      "\n",
      "See the caveats in the documentation: https://pandas.pydata.org/pandas-docs/stable/user_guide/indexing.html#returning-a-view-versus-a-copy\n",
      "  missing_vals['date'] = day\n"
     ]
    },
    {
     "name": "stdout",
     "output_type": "stream",
     "text": [
      "2023-05-25\n"
     ]
    },
    {
     "name": "stderr",
     "output_type": "stream",
     "text": [
      "C:\\Users\\laura\\AppData\\Local\\Temp\\ipykernel_14624\\3758845030.py:30: SettingWithCopyWarning: \n",
      "A value is trying to be set on a copy of a slice from a DataFrame.\n",
      "Try using .loc[row_indexer,col_indexer] = value instead\n",
      "\n",
      "See the caveats in the documentation: https://pandas.pydata.org/pandas-docs/stable/user_guide/indexing.html#returning-a-view-versus-a-copy\n",
      "  missing_vals['date'] = day\n"
     ]
    },
    {
     "name": "stdout",
     "output_type": "stream",
     "text": [
      "2023-05-28\n",
      "2023-05-29\n",
      "2023-05-30\n"
     ]
    },
    {
     "name": "stderr",
     "output_type": "stream",
     "text": [
      "C:\\Users\\laura\\AppData\\Local\\Temp\\ipykernel_14624\\3758845030.py:30: SettingWithCopyWarning: \n",
      "A value is trying to be set on a copy of a slice from a DataFrame.\n",
      "Try using .loc[row_indexer,col_indexer] = value instead\n",
      "\n",
      "See the caveats in the documentation: https://pandas.pydata.org/pandas-docs/stable/user_guide/indexing.html#returning-a-view-versus-a-copy\n",
      "  missing_vals['date'] = day\n"
     ]
    },
    {
     "name": "stdout",
     "output_type": "stream",
     "text": [
      "2023-05-31\n"
     ]
    },
    {
     "name": "stderr",
     "output_type": "stream",
     "text": [
      "C:\\Users\\laura\\AppData\\Local\\Temp\\ipykernel_14624\\3758845030.py:30: SettingWithCopyWarning: \n",
      "A value is trying to be set on a copy of a slice from a DataFrame.\n",
      "Try using .loc[row_indexer,col_indexer] = value instead\n",
      "\n",
      "See the caveats in the documentation: https://pandas.pydata.org/pandas-docs/stable/user_guide/indexing.html#returning-a-view-versus-a-copy\n",
      "  missing_vals['date'] = day\n"
     ]
    },
    {
     "name": "stdout",
     "output_type": "stream",
     "text": [
      "2023-06-01\n"
     ]
    },
    {
     "name": "stderr",
     "output_type": "stream",
     "text": [
      "C:\\Users\\laura\\AppData\\Local\\Temp\\ipykernel_14624\\3758845030.py:30: SettingWithCopyWarning: \n",
      "A value is trying to be set on a copy of a slice from a DataFrame.\n",
      "Try using .loc[row_indexer,col_indexer] = value instead\n",
      "\n",
      "See the caveats in the documentation: https://pandas.pydata.org/pandas-docs/stable/user_guide/indexing.html#returning-a-view-versus-a-copy\n",
      "  missing_vals['date'] = day\n"
     ]
    },
    {
     "name": "stdout",
     "output_type": "stream",
     "text": [
      "2023-06-06\n"
     ]
    },
    {
     "name": "stderr",
     "output_type": "stream",
     "text": [
      "C:\\Users\\laura\\AppData\\Local\\Temp\\ipykernel_14624\\3758845030.py:30: SettingWithCopyWarning: \n",
      "A value is trying to be set on a copy of a slice from a DataFrame.\n",
      "Try using .loc[row_indexer,col_indexer] = value instead\n",
      "\n",
      "See the caveats in the documentation: https://pandas.pydata.org/pandas-docs/stable/user_guide/indexing.html#returning-a-view-versus-a-copy\n",
      "  missing_vals['date'] = day\n"
     ]
    },
    {
     "name": "stdout",
     "output_type": "stream",
     "text": [
      "2023-06-07\n"
     ]
    },
    {
     "name": "stderr",
     "output_type": "stream",
     "text": [
      "C:\\Users\\laura\\AppData\\Local\\Temp\\ipykernel_14624\\3758845030.py:30: SettingWithCopyWarning: \n",
      "A value is trying to be set on a copy of a slice from a DataFrame.\n",
      "Try using .loc[row_indexer,col_indexer] = value instead\n",
      "\n",
      "See the caveats in the documentation: https://pandas.pydata.org/pandas-docs/stable/user_guide/indexing.html#returning-a-view-versus-a-copy\n",
      "  missing_vals['date'] = day\n"
     ]
    },
    {
     "name": "stdout",
     "output_type": "stream",
     "text": [
      "2023-06-13\n"
     ]
    },
    {
     "name": "stderr",
     "output_type": "stream",
     "text": [
      "C:\\Users\\laura\\AppData\\Local\\Temp\\ipykernel_14624\\3758845030.py:30: SettingWithCopyWarning: \n",
      "A value is trying to be set on a copy of a slice from a DataFrame.\n",
      "Try using .loc[row_indexer,col_indexer] = value instead\n",
      "\n",
      "See the caveats in the documentation: https://pandas.pydata.org/pandas-docs/stable/user_guide/indexing.html#returning-a-view-versus-a-copy\n",
      "  missing_vals['date'] = day\n"
     ]
    },
    {
     "name": "stdout",
     "output_type": "stream",
     "text": [
      "2023-06-14\n"
     ]
    },
    {
     "name": "stderr",
     "output_type": "stream",
     "text": [
      "C:\\Users\\laura\\AppData\\Local\\Temp\\ipykernel_14624\\3758845030.py:30: SettingWithCopyWarning: \n",
      "A value is trying to be set on a copy of a slice from a DataFrame.\n",
      "Try using .loc[row_indexer,col_indexer] = value instead\n",
      "\n",
      "See the caveats in the documentation: https://pandas.pydata.org/pandas-docs/stable/user_guide/indexing.html#returning-a-view-versus-a-copy\n",
      "  missing_vals['date'] = day\n"
     ]
    },
    {
     "name": "stdout",
     "output_type": "stream",
     "text": [
      "2023-06-15\n"
     ]
    },
    {
     "name": "stderr",
     "output_type": "stream",
     "text": [
      "C:\\Users\\laura\\AppData\\Local\\Temp\\ipykernel_14624\\3758845030.py:30: SettingWithCopyWarning: \n",
      "A value is trying to be set on a copy of a slice from a DataFrame.\n",
      "Try using .loc[row_indexer,col_indexer] = value instead\n",
      "\n",
      "See the caveats in the documentation: https://pandas.pydata.org/pandas-docs/stable/user_guide/indexing.html#returning-a-view-versus-a-copy\n",
      "  missing_vals['date'] = day\n"
     ]
    },
    {
     "name": "stdout",
     "output_type": "stream",
     "text": [
      "         date  missing_gtfs  missing_rt-gtfs\n",
      "0  2022-03-22             0                1\n",
      "1  2022-03-23             0                1\n",
      "2  2022-03-24             0                1\n",
      "3  2022-04-24             1                0\n",
      "4  2022-05-18             0                1\n",
      "5  2023-04-28             0                1\n",
      "6  2023-05-01             0                1\n",
      "7  2023-05-03             0                1\n",
      "8  2023-05-28             0                1\n",
      "9  2023-05-29             0                1\n",
      "        trip_id   stop_id route_id route_short_name arrival_time_x  \\\n",
      "0  1_021_1_0636   4003_08        1                1       06:59:00   \n",
      "1  1_021_1_0636   4121_04        1                1       07:01:00   \n",
      "2  1_021_1_0636   4004_04        1                1       07:02:00   \n",
      "3  1_021_1_0636   4005_07        1                1       07:05:00   \n",
      "4  1_021_1_0636   4108_04        1                1       07:07:00   \n",
      "\n",
      "  arrival_time_y diff        date  \n",
      "0            NaN  NaT  2022-03-29  \n",
      "1            NaN  NaT  2022-03-29  \n",
      "2            NaN  NaT  2022-03-29  \n",
      "3            NaN  NaT  2022-03-29  \n",
      "4            NaN  NaT  2022-03-29  \n",
      "          date  real-time  missing-vals\n",
      "0   2022-03-29       5352        939123\n",
      "1   2022-03-30     815873        128399\n",
      "2   2022-03-31     763798        180488\n",
      "3   2022-04-05     813490        940868\n",
      "4   2022-04-06     802947        940954\n",
      "..         ...        ...           ...\n",
      "72  2023-06-06     745669        162876\n",
      "73  2023-06-07     714641        195398\n",
      "74  2023-06-13     781360        127989\n",
      "75  2023-06-14     782717        126625\n",
      "76  2023-06-15     774309        134533\n",
      "\n",
      "[77 rows x 3 columns]\n"
     ]
    }
   ],
   "source": [
    "directory = \"./dane/\"\n",
    "show_output = False\n",
    "\n",
    "# Lista dni bez pliku gtfs/rt-gtfs\n",
    "missing_dates = [[],[],[]]\n",
    "\n",
    "# Tabela z wieszami zawierajacymi braki danych\n",
    "missing_vals_merge_columns = ['trip_id', 'stop_id', 'route_id', 'route_short_name', 'arrival_time_x', 'arrival_time_y', 'diff', 'date']    # dodatkowo data\n",
    "missing_vals_merge = pd.DataFrame(columns=missing_vals_merge_columns)\n",
    "\n",
    "# Lista dni z brakami w danych (liczba danych real-time i braków danych po merge-u)\n",
    "missing_data_summary = [[],[],[]]\n",
    "\n",
    "for day in daty:\n",
    "    print(day)\n",
    "\n",
    "    if day+\"-rt.gtfs\" in os.listdir(\"./dane/\") and day+\".gtfs\" in os.listdir(\"./dane/\"):\n",
    "        filepath = directory + day\n",
    "\n",
    "        filepath1 = filepath + \".gtfs\"\n",
    "        stop_times_df = pd.read_csv(filepath1 + '/stop_times.txt')\n",
    "        routes_df = pd.read_csv(filepath1 + \"/routes.txt\")\n",
    "        trips_df = pd.read_csv(filepath1 + \"/trips.txt\")\n",
    "\n",
    "        filepath2 = filepath + \"-rt.gtfs\"\n",
    "        rt_stop_times_df = pd.read_csv(filepath2 + \"/stop_times.txt\")\n",
    "\n",
    "        final_missingval_merge = make_missingvals_df(stop_times_df, trips_df, routes_df, rt_stop_times_df)\n",
    "        missing_vals = final_missingval_merge[final_missingval_merge['arrival_time_y'].isna()]\n",
    "        missing_vals['date'] = day\n",
    "        missing_vals_merge = pd.concat([missing_vals_merge, missing_vals], ignore_index=True)\n",
    "\n",
    "        # final_missingval_merge['arrival_time_y'] = pd.to_datetime(final_missingval_merge['arrival_time_y'], format='%H:%M:%S', errors='coerce')\n",
    "        # plt.figure(figsize=(4, 3))\n",
    "        # plt.hist(final_missingval_merge['arrival_time_y'].dt.hour, bins=24, edgecolor='black')\n",
    "        # plt.show()\n",
    "        \n",
    "        if show_output:\n",
    "            print(\"planned vs real-time:\\t\", stop_times_df.shape[0], rt_stop_times_df.shape[0], \"\\nwhole merge vs missing:\\t\", final_missingval_merge.shape[0], missing_vals.shape[0], \"\\n\")\n",
    "\n",
    "        missing_data_summary[0] += [day]\n",
    "        missing_data_summary[1] += [rt_stop_times_df.shape[0]]\n",
    "        missing_data_summary[2] += [missing_vals.shape[0]]\n",
    "\n",
    "        # print(missing_vals.head(4))\n",
    "\n",
    "    else:\n",
    "        if show_output:\n",
    "            print(\"ERROR: directory not found\\n\")\n",
    "\n",
    "        if day+\"-rt.gtfs\" not in os.listdir(\"./dane/\"):\n",
    "            missing_dates[0] += [day]\n",
    "            missing_dates[1] += [0]\n",
    "            missing_dates[2] += [1]\n",
    "            \n",
    "        elif day+\".gtfs\" not in os.listdir(\"./dane/\"):\n",
    "            missing_dates[0] += [day]\n",
    "            missing_dates[1] += [1]\n",
    "            missing_dates[2] += [0]\n",
    "\n",
    "\n",
    "missing_dates = pd.DataFrame({'date': missing_dates[0],\n",
    "                             'missing_gtfs': missing_dates[1],\n",
    "                             'missing_rt-gtfs': missing_dates[2]})\n",
    "print(missing_dates)\n",
    "\n",
    "print(missing_vals_merge.head(5))\n",
    "\n",
    "missing_data_summary = pd.DataFrame({'date': missing_data_summary[0],\n",
    "                                     'real-time': missing_data_summary[1],\n",
    "                                     'missing-vals': missing_data_summary[2]})\n",
    "print(missing_data_summary)\n"
   ]
  },
  {
   "cell_type": "code",
   "execution_count": 62,
   "metadata": {},
   "outputs": [
    {
     "data": {
      "text/html": [
       "<div>\n",
       "<style scoped>\n",
       "    .dataframe tbody tr th:only-of-type {\n",
       "        vertical-align: middle;\n",
       "    }\n",
       "\n",
       "    .dataframe tbody tr th {\n",
       "        vertical-align: top;\n",
       "    }\n",
       "\n",
       "    .dataframe thead th {\n",
       "        text-align: right;\n",
       "    }\n",
       "</style>\n",
       "<table border=\"1\" class=\"dataframe\">\n",
       "  <thead>\n",
       "    <tr style=\"text-align: right;\">\n",
       "      <th></th>\n",
       "      <th>date</th>\n",
       "      <th>missing_gtfs</th>\n",
       "      <th>missing_rt-gtfs</th>\n",
       "    </tr>\n",
       "  </thead>\n",
       "  <tbody>\n",
       "    <tr>\n",
       "      <th>0</th>\n",
       "      <td>2022-03-22</td>\n",
       "      <td>0</td>\n",
       "      <td>1</td>\n",
       "    </tr>\n",
       "    <tr>\n",
       "      <th>1</th>\n",
       "      <td>2022-03-23</td>\n",
       "      <td>0</td>\n",
       "      <td>1</td>\n",
       "    </tr>\n",
       "    <tr>\n",
       "      <th>2</th>\n",
       "      <td>2022-03-24</td>\n",
       "      <td>0</td>\n",
       "      <td>1</td>\n",
       "    </tr>\n",
       "    <tr>\n",
       "      <th>3</th>\n",
       "      <td>2022-04-24</td>\n",
       "      <td>1</td>\n",
       "      <td>0</td>\n",
       "    </tr>\n",
       "    <tr>\n",
       "      <th>4</th>\n",
       "      <td>2022-05-18</td>\n",
       "      <td>0</td>\n",
       "      <td>1</td>\n",
       "    </tr>\n",
       "    <tr>\n",
       "      <th>5</th>\n",
       "      <td>2023-04-28</td>\n",
       "      <td>0</td>\n",
       "      <td>1</td>\n",
       "    </tr>\n",
       "    <tr>\n",
       "      <th>6</th>\n",
       "      <td>2023-05-01</td>\n",
       "      <td>0</td>\n",
       "      <td>1</td>\n",
       "    </tr>\n",
       "    <tr>\n",
       "      <th>7</th>\n",
       "      <td>2023-05-03</td>\n",
       "      <td>0</td>\n",
       "      <td>1</td>\n",
       "    </tr>\n",
       "    <tr>\n",
       "      <th>8</th>\n",
       "      <td>2023-05-28</td>\n",
       "      <td>0</td>\n",
       "      <td>1</td>\n",
       "    </tr>\n",
       "    <tr>\n",
       "      <th>9</th>\n",
       "      <td>2023-05-29</td>\n",
       "      <td>0</td>\n",
       "      <td>1</td>\n",
       "    </tr>\n",
       "  </tbody>\n",
       "</table>\n",
       "</div>"
      ],
      "text/plain": [
       "         date  missing_gtfs  missing_rt-gtfs\n",
       "0  2022-03-22             0                1\n",
       "1  2022-03-23             0                1\n",
       "2  2022-03-24             0                1\n",
       "3  2022-04-24             1                0\n",
       "4  2022-05-18             0                1\n",
       "5  2023-04-28             0                1\n",
       "6  2023-05-01             0                1\n",
       "7  2023-05-03             0                1\n",
       "8  2023-05-28             0                1\n",
       "9  2023-05-29             0                1"
      ]
     },
     "execution_count": 62,
     "metadata": {},
     "output_type": "execute_result"
    }
   ],
   "source": [
    "missing_dates"
   ]
  },
  {
   "cell_type": "code",
   "execution_count": 63,
   "metadata": {},
   "outputs": [
    {
     "data": {
      "text/html": [
       "<div>\n",
       "<style scoped>\n",
       "    .dataframe tbody tr th:only-of-type {\n",
       "        vertical-align: middle;\n",
       "    }\n",
       "\n",
       "    .dataframe tbody tr th {\n",
       "        vertical-align: top;\n",
       "    }\n",
       "\n",
       "    .dataframe thead th {\n",
       "        text-align: right;\n",
       "    }\n",
       "</style>\n",
       "<table border=\"1\" class=\"dataframe\">\n",
       "  <thead>\n",
       "    <tr style=\"text-align: right;\">\n",
       "      <th></th>\n",
       "      <th>trip_id</th>\n",
       "      <th>stop_id</th>\n",
       "      <th>route_id</th>\n",
       "      <th>route_short_name</th>\n",
       "      <th>arrival_time_x</th>\n",
       "      <th>arrival_time_y</th>\n",
       "      <th>diff</th>\n",
       "      <th>date</th>\n",
       "    </tr>\n",
       "  </thead>\n",
       "  <tbody>\n",
       "    <tr>\n",
       "      <th>0</th>\n",
       "      <td>1_021_1_0636</td>\n",
       "      <td>4003_08</td>\n",
       "      <td>1</td>\n",
       "      <td>1</td>\n",
       "      <td>06:59:00</td>\n",
       "      <td>NaN</td>\n",
       "      <td>NaT</td>\n",
       "      <td>2022-03-29</td>\n",
       "    </tr>\n",
       "    <tr>\n",
       "      <th>1</th>\n",
       "      <td>1_021_1_0636</td>\n",
       "      <td>4121_04</td>\n",
       "      <td>1</td>\n",
       "      <td>1</td>\n",
       "      <td>07:01:00</td>\n",
       "      <td>NaN</td>\n",
       "      <td>NaT</td>\n",
       "      <td>2022-03-29</td>\n",
       "    </tr>\n",
       "    <tr>\n",
       "      <th>2</th>\n",
       "      <td>1_021_1_0636</td>\n",
       "      <td>4004_04</td>\n",
       "      <td>1</td>\n",
       "      <td>1</td>\n",
       "      <td>07:02:00</td>\n",
       "      <td>NaN</td>\n",
       "      <td>NaT</td>\n",
       "      <td>2022-03-29</td>\n",
       "    </tr>\n",
       "    <tr>\n",
       "      <th>3</th>\n",
       "      <td>1_021_1_0636</td>\n",
       "      <td>4005_07</td>\n",
       "      <td>1</td>\n",
       "      <td>1</td>\n",
       "      <td>07:05:00</td>\n",
       "      <td>NaN</td>\n",
       "      <td>NaT</td>\n",
       "      <td>2022-03-29</td>\n",
       "    </tr>\n",
       "    <tr>\n",
       "      <th>4</th>\n",
       "      <td>1_021_1_0636</td>\n",
       "      <td>4108_04</td>\n",
       "      <td>1</td>\n",
       "      <td>1</td>\n",
       "      <td>07:07:00</td>\n",
       "      <td>NaN</td>\n",
       "      <td>NaT</td>\n",
       "      <td>2022-03-29</td>\n",
       "    </tr>\n",
       "  </tbody>\n",
       "</table>\n",
       "</div>"
      ],
      "text/plain": [
       "        trip_id   stop_id route_id route_short_name arrival_time_x  \\\n",
       "0  1_021_1_0636   4003_08        1                1       06:59:00   \n",
       "1  1_021_1_0636   4121_04        1                1       07:01:00   \n",
       "2  1_021_1_0636   4004_04        1                1       07:02:00   \n",
       "3  1_021_1_0636   4005_07        1                1       07:05:00   \n",
       "4  1_021_1_0636   4108_04        1                1       07:07:00   \n",
       "\n",
       "  arrival_time_y diff        date  \n",
       "0            NaN  NaT  2022-03-29  \n",
       "1            NaN  NaT  2022-03-29  \n",
       "2            NaN  NaT  2022-03-29  \n",
       "3            NaN  NaT  2022-03-29  \n",
       "4            NaN  NaT  2022-03-29  "
      ]
     },
     "execution_count": 63,
     "metadata": {},
     "output_type": "execute_result"
    }
   ],
   "source": [
    "missing_vals_merge.head(5)"
   ]
  },
  {
   "cell_type": "code",
   "execution_count": 64,
   "metadata": {},
   "outputs": [
    {
     "data": {
      "text/html": [
       "<div>\n",
       "<style scoped>\n",
       "    .dataframe tbody tr th:only-of-type {\n",
       "        vertical-align: middle;\n",
       "    }\n",
       "\n",
       "    .dataframe tbody tr th {\n",
       "        vertical-align: top;\n",
       "    }\n",
       "\n",
       "    .dataframe thead th {\n",
       "        text-align: right;\n",
       "    }\n",
       "</style>\n",
       "<table border=\"1\" class=\"dataframe\">\n",
       "  <thead>\n",
       "    <tr style=\"text-align: right;\">\n",
       "      <th></th>\n",
       "      <th>date</th>\n",
       "      <th>real-time</th>\n",
       "      <th>missing-vals</th>\n",
       "    </tr>\n",
       "  </thead>\n",
       "  <tbody>\n",
       "    <tr>\n",
       "      <th>0</th>\n",
       "      <td>2022-03-29</td>\n",
       "      <td>5352</td>\n",
       "      <td>939123</td>\n",
       "    </tr>\n",
       "    <tr>\n",
       "      <th>1</th>\n",
       "      <td>2022-03-30</td>\n",
       "      <td>815873</td>\n",
       "      <td>128399</td>\n",
       "    </tr>\n",
       "    <tr>\n",
       "      <th>2</th>\n",
       "      <td>2022-03-31</td>\n",
       "      <td>763798</td>\n",
       "      <td>180488</td>\n",
       "    </tr>\n",
       "    <tr>\n",
       "      <th>3</th>\n",
       "      <td>2022-04-05</td>\n",
       "      <td>813490</td>\n",
       "      <td>940868</td>\n",
       "    </tr>\n",
       "    <tr>\n",
       "      <th>4</th>\n",
       "      <td>2022-04-06</td>\n",
       "      <td>802947</td>\n",
       "      <td>940954</td>\n",
       "    </tr>\n",
       "  </tbody>\n",
       "</table>\n",
       "</div>"
      ],
      "text/plain": [
       "         date  real-time  missing-vals\n",
       "0  2022-03-29       5352        939123\n",
       "1  2022-03-30     815873        128399\n",
       "2  2022-03-31     763798        180488\n",
       "3  2022-04-05     813490        940868\n",
       "4  2022-04-06     802947        940954"
      ]
     },
     "execution_count": 64,
     "metadata": {},
     "output_type": "execute_result"
    }
   ],
   "source": [
    "missing_data_summary.head(5)"
   ]
  },
  {
   "cell_type": "code",
   "execution_count": 37,
   "metadata": {},
   "outputs": [],
   "source": [
    "# directory = \"./dane/\"\n",
    "\n",
    "# stop_times_columns = ['trip_id', 'arrival_time', 'departure_time', 'stop_id', 'stop_sequence', 'date']    # dodatkowo data\n",
    "# stop_times_df = pd.DataFrame(columns=stop_times_columns)\n",
    "\n",
    "# routes_columns = ['route_id', 'agency_id', 'route_short_name', 'route_long_name', 'route_type']\n",
    "# routes_df = pd.DataFrame(columns=routes_columns)\n",
    "\n",
    "# trips_columns = ['route_id', 'service_id', 'trip_id', 'wheelchair_accessible']\n",
    "# trips_df = pd.DataFrame(columns=trips_columns)\n",
    "\n",
    "# rt_stop_times_columns = ['trip_id', 'arrival_time', 'departure_time', 'stop_id', 'stop_sequence', 'date']    # dodatkowo data\n",
    "# rt_stop_times_df = pd.DataFrame(columns=stop_times_columns)\n",
    "\n",
    "# for day in daty[:5]:\n",
    "#     print(day)\n",
    "\n",
    "#     if day+\"-rt.gtfs\" in os.listdir(\"./dane/\") and day+\".gtfs\" in os.listdir(\"./dane/\"):\n",
    "#         filepath = directory + day\n",
    "\n",
    "#         filepath1 = filepath + \".gtfs\"\n",
    "#         stop_times_tmp = pd.read_csv(filepath1 + '/stop_times.txt')\n",
    "#         stop_times_tmp['date'] = day\n",
    "#         routes_tmp = pd.read_csv(filepath1 + \"/routes.txt\")\n",
    "#         trips_tmp = pd.read_csv(filepath1 + \"/trips.txt\")\n",
    "\n",
    "#         filepath2 = filepath + \"-rt.gtfs\"\n",
    "#         rt_stop_times_tmp = pd.read_csv(filepath2 + \"/stop_times.txt\")\n",
    "#         rt_stop_times_tmp['date'] = day\n",
    "\n",
    "#         stop_times_df = pd.concat([stop_times_df, stop_times_tmp], ignore_index=True)\n",
    "#         routes_df = pd.concat([routes_df, routes_tmp], ignore_index=True)\n",
    "#         trips_df = pd.concat([trips_df, trips_tmp], ignore_index=True)\n",
    "#         rt_stop_times_df = pd.concat([rt_stop_times_df, rt_stop_times_tmp], ignore_index=True)\n",
    "#     else:\n",
    "#         print(\"ERROR: directory not found\\n\")\n",
    "\n"
   ]
  },
  {
   "cell_type": "code",
   "execution_count": 38,
   "metadata": {},
   "outputs": [],
   "source": [
    "# tmp = pd.merge(stop_times_df, trips_df, on='trip_id')\n",
    "# tmp = pd.merge(tmp, routes_df, on='route_id')\n",
    "# # tmp = tmp[[\"trip_id\", \"stop_id\", \"route_id\", \"route_short_name\", \"date\", \"arrival_time\"]]\n",
    "# tmp = tmp[[\"trip_id\", \"stop_id\", \"route_id\", \"route_short_name\", \"arrival_time\"]]\n",
    "# tmp"
   ]
  },
  {
   "cell_type": "code",
   "execution_count": 39,
   "metadata": {},
   "outputs": [],
   "source": [
    "# final_missingval_merge = tmp.merge(rt_stop_times_df, on=['trip_id', 'stop_id'], how='outer')\n",
    "# final_missingval_merge = final_missingval_merge.drop(['departure_time', 'stop_sequence'], axis=1)\n",
    "\n",
    "# # Remove leading and trailing whitespaces using str.strip()\n",
    "# final_missingval_merge['arrival_time_x'] = final_missingval_merge['arrival_time_x'].str.strip()\n",
    "# final_missingval_merge['arrival_time_y'] = final_missingval_merge['arrival_time_y'].str.strip()\n",
    "\n",
    "# final_missingval_merge['diff'] = pd.to_timedelta(final_missingval_merge['arrival_time_y'], errors='coerce') - pd.to_timedelta(final_missingval_merge['arrival_time_x'], errors='coerce')\n",
    "# final_missingval_merge['diff'] = final_missingval_merge['diff'].apply(lambda x: pd.Timedelta.total_seconds(x) if pd.notna(x) else x)\n",
    "\n",
    "# final_missingval_merge"
   ]
  },
  {
   "cell_type": "code",
   "execution_count": 40,
   "metadata": {},
   "outputs": [],
   "source": [
    "# missing_vals = final_missingval_merge[final_missingval_merge['arrival_time_y'].isna()]\n",
    "# missing_vals.head(10)"
   ]
  },
  {
   "cell_type": "code",
   "execution_count": 50,
   "metadata": {},
   "outputs": [],
   "source": [
    "# a = stop_times_df.shape[0]\n",
    "# b = rt_stop_times_df.shape[0]\n",
    "# c = final_missingval_merge.shape[0]\n",
    "# d = missing_vals.shape[0]\n",
    "\n",
    "# print(a, b, a+b,\";\", c, d, c-d)"
   ]
  },
  {
   "cell_type": "code",
   "execution_count": 73,
   "metadata": {},
   "outputs": [],
   "source": [
    "missing_vals_merge.to_csv(\"missing_vals.txt\", sep=\"\\t\", index=False)"
   ]
  },
  {
   "cell_type": "markdown",
   "metadata": {},
   "source": [
    "#### Braki danych względem dni"
   ]
  },
  {
   "cell_type": "code",
   "execution_count": 72,
   "metadata": {},
   "outputs": [
    {
     "data": {
      "image/png": "[encoded data removed]",
      "text/plain": [
       "<Figure size 2000x600 with 1 Axes>"
      ]
     },
     "metadata": {},
     "output_type": "display_data"
    }
   ],
   "source": [
    "fig, ax = plt.subplots(figsize=(20, 6))\n",
    "\n",
    "bar_width = 0.35\n",
    "\n",
    "indices = range(len(missing_data_summary['date']))\n",
    "\n",
    "bar1 = ax.bar(indices, missing_data_summary['real-time'], bar_width, label='Real-time')\n",
    "bar2 = ax.bar([i + bar_width for i in indices], missing_data_summary['missing-vals'], bar_width, label='Missing values (after merge)')\n",
    "\n",
    "ax.set_xlabel('Date')\n",
    "ax.set_ylabel('Values')\n",
    "ax.set_title('Real-time and Missing-vals for each Date')\n",
    "ax.set_xticks([i + bar_width / 2 for i in indices])\n",
    "ax.set_xticklabels(missing_data_summary['date'])\n",
    "\n",
    "ax.set_xticks([i + bar_width / 2 for i in indices])\n",
    "ax.set_xticklabels(missing_data_summary['date'], rotation=45, ha='right')\n",
    "\n",
    "ax.legend()\n",
    "\n",
    "plt.show()"
   ]
  },
  {
   "cell_type": "markdown",
   "metadata": {},
   "source": [
    "#### Braki danych względem godzin"
   ]
  },
  {
   "cell_type": "code",
   "execution_count": 17,
   "metadata": {},
   "outputs": [
    {
     "data": {
      "image/png": "[encoded data removed]",
      "text/plain": [
       "<Figure size 640x480 with 1 Axes>"
      ]
     },
     "metadata": {},
     "output_type": "display_data"
    }
   ],
   "source": [
    "final_missingval_merge['arrival_time_y'] = pd.to_datetime(final_missingval_merge['arrival_time_y'], format='%H:%M:%S', errors='coerce')\n",
    "plt.hist(final_missingval_merge['arrival_time_y'].dt.hour, bins=24, edgecolor='black')\n",
    "plt.title('Histogram godzin przyjazdów')\n",
    "plt.xlabel('Godzina')\n",
    "plt.ylabel('Liczba przyjazdów')\n",
    "plt.show()"
   ]
  },
  {
   "cell_type": "markdown",
   "metadata": {},
   "source": [
    "#### Braki danych względem pojazdów (linii)"
   ]
  },
  {
   "cell_type": "code",
   "execution_count": 18,
   "metadata": {},
   "outputs": [
    {
     "data": {
      "text/html": [
       "<div>\n",
       "<style scoped>\n",
       "    .dataframe tbody tr th:only-of-type {\n",
       "        vertical-align: middle;\n",
       "    }\n",
       "\n",
       "    .dataframe tbody tr th {\n",
       "        vertical-align: top;\n",
       "    }\n",
       "\n",
       "    .dataframe thead th {\n",
       "        text-align: right;\n",
       "    }\n",
       "</style>\n",
       "<table border=\"1\" class=\"dataframe\">\n",
       "  <thead>\n",
       "    <tr style=\"text-align: right;\">\n",
       "      <th></th>\n",
       "      <th>route_short_name</th>\n",
       "      <th>count</th>\n",
       "    </tr>\n",
       "  </thead>\n",
       "  <tbody>\n",
       "    <tr>\n",
       "      <th>342</th>\n",
       "      <td>S1</td>\n",
       "      <td>1802</td>\n",
       "    </tr>\n",
       "    <tr>\n",
       "      <th>293</th>\n",
       "      <td>N02</td>\n",
       "      <td>1634</td>\n",
       "    </tr>\n",
       "    <tr>\n",
       "      <th>339</th>\n",
       "      <td>R8</td>\n",
       "      <td>1556</td>\n",
       "    </tr>\n",
       "    <tr>\n",
       "      <th>338</th>\n",
       "      <td>R7</td>\n",
       "      <td>1538</td>\n",
       "    </tr>\n",
       "    <tr>\n",
       "      <th>102</th>\n",
       "      <td>2</td>\n",
       "      <td>1494</td>\n",
       "    </tr>\n",
       "    <tr>\n",
       "      <th>292</th>\n",
       "      <td>N01</td>\n",
       "      <td>1491</td>\n",
       "    </tr>\n",
       "    <tr>\n",
       "      <th>345</th>\n",
       "      <td>WKD</td>\n",
       "      <td>1488</td>\n",
       "    </tr>\n",
       "    <tr>\n",
       "      <th>294</th>\n",
       "      <td>N03</td>\n",
       "      <td>1374</td>\n",
       "    </tr>\n",
       "    <tr>\n",
       "      <th>254</th>\n",
       "      <td>L13</td>\n",
       "      <td>1344</td>\n",
       "    </tr>\n",
       "    <tr>\n",
       "      <th>0</th>\n",
       "      <td>1</td>\n",
       "      <td>1238</td>\n",
       "    </tr>\n",
       "    <tr>\n",
       "      <th>344</th>\n",
       "      <td>S3</td>\n",
       "      <td>1235</td>\n",
       "    </tr>\n",
       "    <tr>\n",
       "      <th>343</th>\n",
       "      <td>S2</td>\n",
       "      <td>1205</td>\n",
       "    </tr>\n",
       "    <tr>\n",
       "      <th>80</th>\n",
       "      <td>179</td>\n",
       "      <td>1200</td>\n",
       "    </tr>\n",
       "    <tr>\n",
       "      <th>198</th>\n",
       "      <td>7</td>\n",
       "      <td>1195</td>\n",
       "    </tr>\n",
       "    <tr>\n",
       "      <th>337</th>\n",
       "      <td>R6</td>\n",
       "      <td>1189</td>\n",
       "    </tr>\n",
       "    <tr>\n",
       "      <th>334</th>\n",
       "      <td>R1</td>\n",
       "      <td>1177</td>\n",
       "    </tr>\n",
       "    <tr>\n",
       "      <th>103</th>\n",
       "      <td>20</td>\n",
       "      <td>1161</td>\n",
       "    </tr>\n",
       "    <tr>\n",
       "      <th>261</th>\n",
       "      <td>L20</td>\n",
       "      <td>1155</td>\n",
       "    </tr>\n",
       "    <tr>\n",
       "      <th>335</th>\n",
       "      <td>R2</td>\n",
       "      <td>1141</td>\n",
       "    </tr>\n",
       "    <tr>\n",
       "      <th>238</th>\n",
       "      <td>9</td>\n",
       "      <td>1101</td>\n",
       "    </tr>\n",
       "    <tr>\n",
       "      <th>244</th>\n",
       "      <td>L-2</td>\n",
       "      <td>985</td>\n",
       "    </tr>\n",
       "    <tr>\n",
       "      <th>160</th>\n",
       "      <td>33</td>\n",
       "      <td>975</td>\n",
       "    </tr>\n",
       "    <tr>\n",
       "      <th>170</th>\n",
       "      <td>4</td>\n",
       "      <td>972</td>\n",
       "    </tr>\n",
       "    <tr>\n",
       "      <th>197</th>\n",
       "      <td>6</td>\n",
       "      <td>967</td>\n",
       "    </tr>\n",
       "    <tr>\n",
       "      <th>273</th>\n",
       "      <td>L32</td>\n",
       "      <td>954</td>\n",
       "    </tr>\n",
       "    <tr>\n",
       "      <th>205</th>\n",
       "      <td>709</td>\n",
       "      <td>952</td>\n",
       "    </tr>\n",
       "    <tr>\n",
       "      <th>253</th>\n",
       "      <td>L12</td>\n",
       "      <td>949</td>\n",
       "    </tr>\n",
       "    <tr>\n",
       "      <th>22</th>\n",
       "      <td>122</td>\n",
       "      <td>904</td>\n",
       "    </tr>\n",
       "    <tr>\n",
       "      <th>144</th>\n",
       "      <td>28</td>\n",
       "      <td>840</td>\n",
       "    </tr>\n",
       "    <tr>\n",
       "      <th>114</th>\n",
       "      <td>211</td>\n",
       "      <td>830</td>\n",
       "    </tr>\n",
       "    <tr>\n",
       "      <th>70</th>\n",
       "      <td>17</td>\n",
       "      <td>802</td>\n",
       "    </tr>\n",
       "    <tr>\n",
       "      <th>336</th>\n",
       "      <td>R3</td>\n",
       "      <td>800</td>\n",
       "    </tr>\n",
       "    <tr>\n",
       "      <th>340</th>\n",
       "      <td>R9</td>\n",
       "      <td>798</td>\n",
       "    </tr>\n",
       "    <tr>\n",
       "      <th>51</th>\n",
       "      <td>150</td>\n",
       "      <td>769</td>\n",
       "    </tr>\n",
       "    <tr>\n",
       "      <th>307</th>\n",
       "      <td>N34</td>\n",
       "      <td>766</td>\n",
       "    </tr>\n",
       "    <tr>\n",
       "      <th>310</th>\n",
       "      <td>N37</td>\n",
       "      <td>754</td>\n",
       "    </tr>\n",
       "    <tr>\n",
       "      <th>313</th>\n",
       "      <td>N42</td>\n",
       "      <td>743</td>\n",
       "    </tr>\n",
       "    <tr>\n",
       "      <th>303</th>\n",
       "      <td>N25</td>\n",
       "      <td>740</td>\n",
       "    </tr>\n",
       "    <tr>\n",
       "      <th>279</th>\n",
       "      <td>L39</td>\n",
       "      <td>740</td>\n",
       "    </tr>\n",
       "    <tr>\n",
       "      <th>194</th>\n",
       "      <td>523</td>\n",
       "      <td>723</td>\n",
       "    </tr>\n",
       "    <tr>\n",
       "      <th>258</th>\n",
       "      <td>L17</td>\n",
       "      <td>716</td>\n",
       "    </tr>\n",
       "    <tr>\n",
       "      <th>91</th>\n",
       "      <td>189</td>\n",
       "      <td>715</td>\n",
       "    </tr>\n",
       "    <tr>\n",
       "      <th>314</th>\n",
       "      <td>N43</td>\n",
       "      <td>712</td>\n",
       "    </tr>\n",
       "    <tr>\n",
       "      <th>230</th>\n",
       "      <td>739</td>\n",
       "      <td>709</td>\n",
       "    </tr>\n",
       "    <tr>\n",
       "      <th>33</th>\n",
       "      <td>132</td>\n",
       "      <td>706</td>\n",
       "    </tr>\n",
       "    <tr>\n",
       "      <th>81</th>\n",
       "      <td>18</td>\n",
       "      <td>703</td>\n",
       "    </tr>\n",
       "    <tr>\n",
       "      <th>302</th>\n",
       "      <td>N24</td>\n",
       "      <td>691</td>\n",
       "    </tr>\n",
       "    <tr>\n",
       "      <th>255</th>\n",
       "      <td>L14</td>\n",
       "      <td>686</td>\n",
       "    </tr>\n",
       "    <tr>\n",
       "      <th>10</th>\n",
       "      <td>11</td>\n",
       "      <td>672</td>\n",
       "    </tr>\n",
       "    <tr>\n",
       "      <th>26</th>\n",
       "      <td>126</td>\n",
       "      <td>672</td>\n",
       "    </tr>\n",
       "  </tbody>\n",
       "</table>\n",
       "</div>"
      ],
      "text/plain": [
       "    route_short_name  count\n",
       "342               S1   1802\n",
       "293              N02   1634\n",
       "339               R8   1556\n",
       "338               R7   1538\n",
       "102                2   1494\n",
       "292              N01   1491\n",
       "345              WKD   1488\n",
       "294              N03   1374\n",
       "254              L13   1344\n",
       "0                  1   1238\n",
       "344               S3   1235\n",
       "343               S2   1205\n",
       "80               179   1200\n",
       "198                7   1195\n",
       "337               R6   1189\n",
       "334               R1   1177\n",
       "103               20   1161\n",
       "261              L20   1155\n",
       "335               R2   1141\n",
       "238                9   1101\n",
       "244              L-2    985\n",
       "160               33    975\n",
       "170                4    972\n",
       "197                6    967\n",
       "273              L32    954\n",
       "205              709    952\n",
       "253              L12    949\n",
       "22               122    904\n",
       "144               28    840\n",
       "114              211    830\n",
       "70                17    802\n",
       "336               R3    800\n",
       "340               R9    798\n",
       "51               150    769\n",
       "307              N34    766\n",
       "310              N37    754\n",
       "313              N42    743\n",
       "303              N25    740\n",
       "279              L39    740\n",
       "194              523    723\n",
       "258              L17    716\n",
       "91               189    715\n",
       "314              N43    712\n",
       "230              739    709\n",
       "33               132    706\n",
       "81                18    703\n",
       "302              N24    691\n",
       "255              L14    686\n",
       "10                11    672\n",
       "26               126    672"
      ]
     },
     "execution_count": 18,
     "metadata": {},
     "output_type": "execute_result"
    }
   ],
   "source": [
    "summary = missing_vals.groupby('route_short_name').size().reset_index(name='count')\n",
    "summary = summary.sort_values(by='count', ascending=False)\n",
    "\n",
    "summary.head(50)"
   ]
  },
  {
   "cell_type": "code",
   "execution_count": 19,
   "metadata": {},
   "outputs": [
    {
     "name": "stderr",
     "output_type": "stream",
     "text": [
      "C:\\Users\\laura\\AppData\\Local\\Temp\\ipykernel_14624\\1534017458.py:5: MatplotlibDeprecationWarning: Support for passing numbers through unit converters is deprecated since 3.5 and support will be removed two minor releases later; use Axis.convert_units instead.\n",
      "  plt.xticks([])\n"
     ]
    },
    {
     "data": {
      "image/png": "[encoded data removed]",
      "text/plain": [
       "<Figure size 640x480 with 1 Axes>"
      ]
     },
     "metadata": {},
     "output_type": "display_data"
    }
   ],
   "source": [
    "# Tworzymy wykres słupkowy\n",
    "plt.bar(summary['route_short_name'], summary['count'], color='skyblue')\n",
    "plt.title('Liczba powtórzeń braków danych dla różnych pojazdów (linii)')\n",
    "plt.ylabel('Liczba powtórzeń')\n",
    "plt.xticks([])\n",
    "plt.show()"
   ]
  },
  {
   "cell_type": "markdown",
   "metadata": {},
   "source": [
    "## 3. Analiza opóźnień\n",
    "\n",
    "### Histogram opóźnień z nieodfiltrowanymi outlierami / danymi zaburzonymi"
   ]
  },
  {
   "cell_type": "code",
   "execution_count": 237,
   "metadata": {},
   "outputs": [
    {
     "data": {
      "text/plain": [
       "Text(0, 0.5, 'count')"
      ]
     },
     "execution_count": 237,
     "metadata": {},
     "output_type": "execute_result"
    },
    {
     "data": {
      "image/png": "[encoded data removed]",
      "text/plain": [
       "<Figure size 864x576 with 1 Axes>"
      ]
     },
     "metadata": {
      "needs_background": "light"
     },
     "output_type": "display_data"
    }
   ],
   "source": [
    "fig, ax = plt.subplots(1,1)\n",
    "fig.set_size_inches(12,8)\n",
    "merged_df['diff'].hist(ax=ax, bins = 50)\n",
    "ax.set_title(f'histogram opóźnień z pojedynczego dnia, dane niefiltrowane, {day}', fontsize = 24)\n",
    "ax.set_xlabel('seconds', fontsize = 16)\n",
    "ax.set_ylabel('count', fontsize = 16)"
   ]
  },
  {
   "cell_type": "markdown",
   "metadata": {},
   "source": [
    "### Histogram opóźnień po odfiltrowaniu 2.5% danych z obu krańców"
   ]
  },
  {
   "cell_type": "code",
   "execution_count": 246,
   "metadata": {},
   "outputs": [
    {
     "name": "stdout",
     "output_type": "stream",
     "text": [
      "109.71242979572608 25867.42794376227\n"
     ]
    },
    {
     "data": {
      "text/plain": [
       "Text(0, 0.5, 'count')"
      ]
     },
     "execution_count": 246,
     "metadata": {},
     "output_type": "execute_result"
    },
    {
     "data": {
      "image/png": "[encoded data removed]",
      "text/plain": [
       "<Figure size 864x576 with 1 Axes>"
      ]
     },
     "metadata": {
      "needs_background": "light"
     },
     "output_type": "display_data"
    }
   ],
   "source": [
    "# Calculate the 2.5% and 97.5% quantiles of the 'diff' column\n",
    "lower_quantile = merged_df['diff'].quantile(0.025)\n",
    "upper_quantile = merged_df['diff'].quantile(0.975)\n",
    "# Filter the dataframe to keep values within the 2.5% - 97.5% range\n",
    "filtered_df = merged_df[(merged_df['diff'] >= lower_quantile) & (merged_df['diff'] <= upper_quantile)]\n",
    "print(filtered_df['diff'].mean(), filtered_df['diff'].var())\n",
    "\n",
    "\n",
    "fig, ax = plt.subplots(1,1)\n",
    "fig.set_size_inches(12,8)\n",
    "filtered_df['diff'].hist(ax=ax, bins = 50)\n",
    "ax.set_title(f'histogram opóźnień z pojedynczego dnia, dane odfiltrowane, {day}', fontsize = 24)\n",
    "ax.set_xlabel('seconds', fontsize = 16)\n",
    "ax.set_ylabel('count', fontsize = 16)"
   ]
  },
  {
   "cell_type": "markdown",
   "metadata": {},
   "source": [
    "### Histogram średnich opóźnień względem przystanków"
   ]
  },
  {
   "cell_type": "code",
   "execution_count": 239,
   "metadata": {},
   "outputs": [
    {
     "data": {
      "text/plain": [
       "Text(0, 0.5, 'count')"
      ]
     },
     "execution_count": 239,
     "metadata": {},
     "output_type": "execute_result"
    },
    {
     "data": {
      "image/png": "[encoded data removed]",
      "text/plain": [
       "<Figure size 864x576 with 1 Axes>"
      ]
     },
     "metadata": {
      "needs_background": "light"
     },
     "output_type": "display_data"
    }
   ],
   "source": [
    "fig, ax = plt.subplots(1,1)\n",
    "fig.set_size_inches(12,8)\n",
    "filtered_df.groupby('stop_id').mean()['diff'].hist(ax=ax, bins = 50)\n",
    "ax.set_title(f'histogram średnich opóźnień na przystankach, {day}', fontsize = 24)\n",
    "ax.set_xlabel('seconds', fontsize = 16)\n",
    "ax.set_ylabel('count', fontsize = 16)"
   ]
  },
  {
   "cell_type": "markdown",
   "metadata": {},
   "source": [
    "### Histogram średnich opóźnień godzinowo"
   ]
  },
  {
   "cell_type": "code",
   "execution_count": null,
   "metadata": {},
   "outputs": [],
   "source": [
    "filtered_df = filtered_df\n",
    "\n",
    "filtered_df['day_after'] = filtered_df['arrival_time_x'].apply(lambda x: True if int(x.split(':')[0]) >= 24 else False)\n",
    "# tmp\n",
    "filtered_df['arrival_time_x'] = filtered_df[['arrival_time_x', 'day_after']].apply(lambda x: str(int(x.arrival_time_x.split(':')[0]) - 24) + ':' + x.arrival_time_x.split(':')[1] + ':' + x.arrival_time_x.split(':')[2] if x.day_after else x.arrival_time_x, axis = 1)\n",
    "filtered_df\n",
    "# # Convert 'arrival_time_x' to datetime objects\n",
    "\n",
    "# # Handle time values exceeding 24:00:00\n",
    "filtered_df['arrival_time_x'] = pd.to_datetime(filtered_df['arrival_time_x'], format='%H:%M:%S')\n",
    "filtered_df['arrival_time_x'] = filtered_df['arrival_time_x'] + pd.to_timedelta((filtered_df['day_after']).astype(int), unit='d')\n",
    "\n",
    "# Create a new column with 15-minute interval labels\n",
    "filtered_df['interval'] = filtered_df['arrival_time_x'].dt.floor('15T').dt.time\n"
   ]
  },
  {
   "cell_type": "code",
   "execution_count": 249,
   "metadata": {},
   "outputs": [
    {
     "data": {
      "text/plain": [
       "Text(0, 0.5, 'seconds')"
      ]
     },
     "execution_count": 249,
     "metadata": {},
     "output_type": "execute_result"
    },
    {
     "data": {
      "image/png": "[encoded data removed]",
      "text/plain": [
       "<Figure size 720x576 with 1 Axes>"
      ]
     },
     "metadata": {
      "needs_background": "light"
     },
     "output_type": "display_data"
    }
   ],
   "source": [
    "fig, ax = plt.subplots(1,1)\n",
    "fig.set_size_inches(10,8)\n",
    "filtered_df.groupby('interval').mean()['diff'].plot(ax=ax)\n",
    "ax.set_title(f'średnie opóźnienia w tym samym czasie, {day}', fontsize = 24)\n",
    "ax.set_xlabel('hour', fontsize = 16)\n",
    "ax.set_ylabel('seconds', fontsize = 16)"
   ]
  },
  {
   "cell_type": "markdown",
   "metadata": {},
   "source": [
    "### Analiza względem linii"
   ]
  },
  {
   "cell_type": "code",
   "execution_count": 261,
   "metadata": {},
   "outputs": [
    {
     "data": {
      "text/html": [
       "<div>\n",
       "<style scoped>\n",
       "    .dataframe tbody tr th:only-of-type {\n",
       "        vertical-align: middle;\n",
       "    }\n",
       "\n",
       "    .dataframe tbody tr th {\n",
       "        vertical-align: top;\n",
       "    }\n",
       "\n",
       "    .dataframe thead th {\n",
       "        text-align: right;\n",
       "    }\n",
       "</style>\n",
       "<table border=\"1\" class=\"dataframe\">\n",
       "  <thead>\n",
       "    <tr style=\"text-align: right;\">\n",
       "      <th></th>\n",
       "      <th>trip_id</th>\n",
       "      <th>arrival_time_x</th>\n",
       "      <th>departure_time_x</th>\n",
       "      <th>stop_id</th>\n",
       "      <th>stop_sequence_x</th>\n",
       "      <th>route_id</th>\n",
       "      <th>service_id</th>\n",
       "      <th>wheelchair_accessible</th>\n",
       "      <th>agency_id</th>\n",
       "      <th>route_short_name</th>\n",
       "      <th>route_long_name</th>\n",
       "      <th>route_type</th>\n",
       "      <th>arrival_time_y</th>\n",
       "      <th>departure_time_y</th>\n",
       "      <th>stop_sequence_y</th>\n",
       "      <th>diff</th>\n",
       "    </tr>\n",
       "  </thead>\n",
       "  <tbody>\n",
       "    <tr>\n",
       "      <th>0</th>\n",
       "      <td>1_020_1_0338</td>\n",
       "      <td>03:55:00</td>\n",
       "      <td>03:55:00</td>\n",
       "      <td>7091_07</td>\n",
       "      <td>1</td>\n",
       "      <td>1</td>\n",
       "      <td>1</td>\n",
       "      <td>1</td>\n",
       "      <td>ZTM</td>\n",
       "      <td>1</td>\n",
       "      <td>Annopol</td>\n",
       "      <td>0</td>\n",
       "      <td>03:55:24</td>\n",
       "      <td>03:55:24</td>\n",
       "      <td>1</td>\n",
       "      <td>24.0</td>\n",
       "    </tr>\n",
       "    <tr>\n",
       "      <th>1</th>\n",
       "      <td>1_020_1_0338</td>\n",
       "      <td>03:56:00</td>\n",
       "      <td>03:56:00</td>\n",
       "      <td>7081_03</td>\n",
       "      <td>2</td>\n",
       "      <td>1</td>\n",
       "      <td>1</td>\n",
       "      <td>1</td>\n",
       "      <td>ZTM</td>\n",
       "      <td>1</td>\n",
       "      <td>Annopol</td>\n",
       "      <td>0</td>\n",
       "      <td>03:57:25</td>\n",
       "      <td>03:57:35</td>\n",
       "      <td>2</td>\n",
       "      <td>85.0</td>\n",
       "    </tr>\n",
       "    <tr>\n",
       "      <th>2</th>\n",
       "      <td>1_020_1_0338</td>\n",
       "      <td>03:58:00</td>\n",
       "      <td>03:58:00</td>\n",
       "      <td>7019_07</td>\n",
       "      <td>3</td>\n",
       "      <td>1</td>\n",
       "      <td>1</td>\n",
       "      <td>1</td>\n",
       "      <td>ZTM</td>\n",
       "      <td>1</td>\n",
       "      <td>Annopol</td>\n",
       "      <td>0</td>\n",
       "      <td>03:58:41</td>\n",
       "      <td>03:58:51</td>\n",
       "      <td>3</td>\n",
       "      <td>41.0</td>\n",
       "    </tr>\n",
       "    <tr>\n",
       "      <th>3</th>\n",
       "      <td>1_020_1_0338</td>\n",
       "      <td>04:00:00</td>\n",
       "      <td>04:00:00</td>\n",
       "      <td>7054_05</td>\n",
       "      <td>4</td>\n",
       "      <td>1</td>\n",
       "      <td>1</td>\n",
       "      <td>1</td>\n",
       "      <td>ZTM</td>\n",
       "      <td>1</td>\n",
       "      <td>Annopol</td>\n",
       "      <td>0</td>\n",
       "      <td>03:59:56</td>\n",
       "      <td>04:00:07</td>\n",
       "      <td>4</td>\n",
       "      <td>-4.0</td>\n",
       "    </tr>\n",
       "    <tr>\n",
       "      <th>4</th>\n",
       "      <td>1_020_1_0338</td>\n",
       "      <td>04:01:00</td>\n",
       "      <td>04:01:00</td>\n",
       "      <td>7055_03</td>\n",
       "      <td>5</td>\n",
       "      <td>1</td>\n",
       "      <td>1</td>\n",
       "      <td>1</td>\n",
       "      <td>ZTM</td>\n",
       "      <td>1</td>\n",
       "      <td>Annopol</td>\n",
       "      <td>0</td>\n",
       "      <td>04:00:52</td>\n",
       "      <td>04:00:52</td>\n",
       "      <td>5</td>\n",
       "      <td>-8.0</td>\n",
       "    </tr>\n",
       "    <tr>\n",
       "      <th>...</th>\n",
       "      <td>...</td>\n",
       "      <td>...</td>\n",
       "      <td>...</td>\n",
       "      <td>...</td>\n",
       "      <td>...</td>\n",
       "      <td>...</td>\n",
       "      <td>...</td>\n",
       "      <td>...</td>\n",
       "      <td>...</td>\n",
       "      <td>...</td>\n",
       "      <td>...</td>\n",
       "      <td>...</td>\n",
       "      <td>...</td>\n",
       "      <td>...</td>\n",
       "      <td>...</td>\n",
       "      <td>...</td>\n",
       "    </tr>\n",
       "    <tr>\n",
       "      <th>774518</th>\n",
       "      <td>Z23_3_336_2011</td>\n",
       "      <td>20:24:00</td>\n",
       "      <td>20:24:00</td>\n",
       "      <td>5072_04</td>\n",
       "      <td>13</td>\n",
       "      <td>336</td>\n",
       "      <td>1</td>\n",
       "      <td>1</td>\n",
       "      <td>ZTM</td>\n",
       "      <td>Z23</td>\n",
       "      <td>Koło</td>\n",
       "      <td>3</td>\n",
       "      <td>20:24:12</td>\n",
       "      <td>20:24:24</td>\n",
       "      <td>13</td>\n",
       "      <td>12.0</td>\n",
       "    </tr>\n",
       "    <tr>\n",
       "      <th>774519</th>\n",
       "      <td>Z23_3_336_2028</td>\n",
       "      <td>20:28:00</td>\n",
       "      <td>20:28:00</td>\n",
       "      <td>5073_05</td>\n",
       "      <td>1</td>\n",
       "      <td>336</td>\n",
       "      <td>1</td>\n",
       "      <td>1</td>\n",
       "      <td>ZTM</td>\n",
       "      <td>Z23</td>\n",
       "      <td>Koło</td>\n",
       "      <td>3</td>\n",
       "      <td>20:28:21</td>\n",
       "      <td>20:28:21</td>\n",
       "      <td>1</td>\n",
       "      <td>21.0</td>\n",
       "    </tr>\n",
       "    <tr>\n",
       "      <th>774520</th>\n",
       "      <td>Z23_3_336_2028</td>\n",
       "      <td>20:29:00</td>\n",
       "      <td>20:29:00</td>\n",
       "      <td>5072_01</td>\n",
       "      <td>2</td>\n",
       "      <td>336</td>\n",
       "      <td>1</td>\n",
       "      <td>1</td>\n",
       "      <td>ZTM</td>\n",
       "      <td>Z23</td>\n",
       "      <td>Koło</td>\n",
       "      <td>3</td>\n",
       "      <td>20:28:39</td>\n",
       "      <td>20:28:39</td>\n",
       "      <td>2</td>\n",
       "      <td>-21.0</td>\n",
       "    </tr>\n",
       "    <tr>\n",
       "      <th>774521</th>\n",
       "      <td>Z23_3_336_2028</td>\n",
       "      <td>20:30:00</td>\n",
       "      <td>20:30:00</td>\n",
       "      <td>5071_01</td>\n",
       "      <td>3</td>\n",
       "      <td>336</td>\n",
       "      <td>1</td>\n",
       "      <td>1</td>\n",
       "      <td>ZTM</td>\n",
       "      <td>Z23</td>\n",
       "      <td>Koło</td>\n",
       "      <td>3</td>\n",
       "      <td>20:29:24</td>\n",
       "      <td>20:30:30</td>\n",
       "      <td>3</td>\n",
       "      <td>-36.0</td>\n",
       "    </tr>\n",
       "    <tr>\n",
       "      <th>774522</th>\n",
       "      <td>Z23_3_336_2028</td>\n",
       "      <td>20:33:00</td>\n",
       "      <td>20:33:00</td>\n",
       "      <td>5068_01</td>\n",
       "      <td>6</td>\n",
       "      <td>336</td>\n",
       "      <td>1</td>\n",
       "      <td>1</td>\n",
       "      <td>ZTM</td>\n",
       "      <td>Z23</td>\n",
       "      <td>Koło</td>\n",
       "      <td>3</td>\n",
       "      <td>20:37:47</td>\n",
       "      <td>20:37:47</td>\n",
       "      <td>6</td>\n",
       "      <td>287.0</td>\n",
       "    </tr>\n",
       "  </tbody>\n",
       "</table>\n",
       "<p>774523 rows × 16 columns</p>\n",
       "</div>"
      ],
      "text/plain": [
       "               trip_id arrival_time_x departure_time_x   stop_id  \\\n",
       "0         1_020_1_0338       03:55:00         03:55:00   7091_07   \n",
       "1         1_020_1_0338       03:56:00         03:56:00   7081_03   \n",
       "2         1_020_1_0338       03:58:00         03:58:00   7019_07   \n",
       "3         1_020_1_0338       04:00:00         04:00:00   7054_05   \n",
       "4         1_020_1_0338       04:01:00         04:01:00   7055_03   \n",
       "...                ...            ...              ...       ...   \n",
       "774518  Z23_3_336_2011       20:24:00         20:24:00   5072_04   \n",
       "774519  Z23_3_336_2028       20:28:00         20:28:00   5073_05   \n",
       "774520  Z23_3_336_2028       20:29:00         20:29:00   5072_01   \n",
       "774521  Z23_3_336_2028       20:30:00         20:30:00   5071_01   \n",
       "774522  Z23_3_336_2028       20:33:00         20:33:00   5068_01   \n",
       "\n",
       "        stop_sequence_x  route_id  service_id  wheelchair_accessible  \\\n",
       "0                     1         1           1                      1   \n",
       "1                     2         1           1                      1   \n",
       "2                     3         1           1                      1   \n",
       "3                     4         1           1                      1   \n",
       "4                     5         1           1                      1   \n",
       "...                 ...       ...         ...                    ...   \n",
       "774518               13       336           1                      1   \n",
       "774519                1       336           1                      1   \n",
       "774520                2       336           1                      1   \n",
       "774521                3       336           1                      1   \n",
       "774522                6       336           1                      1   \n",
       "\n",
       "       agency_id route_short_name route_long_name  route_type arrival_time_y  \\\n",
       "0            ZTM                1         Annopol           0       03:55:24   \n",
       "1            ZTM                1         Annopol           0       03:57:25   \n",
       "2            ZTM                1         Annopol           0       03:58:41   \n",
       "3            ZTM                1         Annopol           0       03:59:56   \n",
       "4            ZTM                1         Annopol           0       04:00:52   \n",
       "...          ...              ...             ...         ...            ...   \n",
       "774518       ZTM              Z23            Koło           3       20:24:12   \n",
       "774519       ZTM              Z23            Koło           3       20:28:21   \n",
       "774520       ZTM              Z23            Koło           3       20:28:39   \n",
       "774521       ZTM              Z23            Koło           3       20:29:24   \n",
       "774522       ZTM              Z23            Koło           3       20:37:47   \n",
       "\n",
       "       departure_time_y  stop_sequence_y   diff  \n",
       "0              03:55:24                1   24.0  \n",
       "1              03:57:35                2   85.0  \n",
       "2              03:58:51                3   41.0  \n",
       "3              04:00:07                4   -4.0  \n",
       "4              04:00:52                5   -8.0  \n",
       "...                 ...              ...    ...  \n",
       "774518         20:24:24               13   12.0  \n",
       "774519         20:28:21                1   21.0  \n",
       "774520         20:28:39                2  -21.0  \n",
       "774521         20:30:30                3  -36.0  \n",
       "774522         20:37:47                6  287.0  \n",
       "\n",
       "[774523 rows x 16 columns]"
      ]
     },
     "execution_count": 261,
     "metadata": {},
     "output_type": "execute_result"
    }
   ],
   "source": [
    "# merged_df = pd.DataFrame()\n",
    "# for date in common_dates:\n",
    "directory = \"../dane/gtfs-drive/\"\n",
    "filepath = directory + '2023-06-15' # konkretny plik wybieramy\n",
    "extension = \".gtfs\"\n",
    "routes_df = pd.read_csv(filepath + extension + \"/routes.txt\")\n",
    "stop_times_df = pd.read_csv(filepath + extension + \"/stop_times.txt\")\n",
    "trips_df = pd.read_csv(filepath + extension + \"/trips.txt\")\n",
    "rt_stop_times_df = pd.read_csv(filepath + '-rt.gtfs/stop_times.txt')\n",
    "merged_df = stop_times_df.merge(trips_df, on = 'trip_id').merge(routes_df, on = 'route_id').merge(rt_stop_times_df, on=['trip_id', 'stop_id'])\n",
    "merged_df['arrival_time_x'] = merged_df['arrival_time_x'].str.strip()\n",
    "merged_df['arrival_time_y'] = merged_df['arrival_time_y'].str.strip()\n",
    "\n",
    "# Create the past_midnight column\n",
    "\n",
    "merged_df['diff'] = pd.to_timedelta(merged_df['arrival_time_y'], errors='coerce') - pd.to_timedelta(merged_df['arrival_time_x'], errors='coerce')\n",
    "merged_df['diff'] = merged_df['diff'].apply(lambda x: pd.Timedelta.total_seconds(x))\n",
    "\n",
    "\n",
    "lower_quantile = merged_df['diff'].quantile(0.025)\n",
    "upper_quantile = merged_df['diff'].quantile(0.975)\n",
    "# Filter the dataframe to keep values within the 2.5% - 97.5% range\n",
    "filtered_df = merged_df[(merged_df['diff'] >= lower_quantile) & (merged_df['diff'] <= upper_quantile)]\n",
    "filtered_df "
   ]
  },
  {
   "cell_type": "code",
   "execution_count": 264,
   "metadata": {},
   "outputs": [
    {
     "data": {
      "text/plain": [
       "<AxesSubplot:title={'center':'średnie opóźnienia względem linii, 2022-06-15'}, xlabel='seconds', ylabel='count'>"
      ]
     },
     "execution_count": 264,
     "metadata": {},
     "output_type": "execute_result"
    },
    {
     "data": {
      "image/png": "[encoded data removed]",
      "text/plain": [
       "<Figure size 864x576 with 1 Axes>"
      ]
     },
     "metadata": {
      "needs_background": "light"
     },
     "output_type": "display_data"
    }
   ],
   "source": [
    "fig, ax = plt.subplots(1,1)\n",
    "fig.set_size_inches(12,8)\n",
    "ax.set_title(f'średnie opóźnienia względem linii, {day}', fontsize = 24)\n",
    "ax.set_xlabel('seconds', fontsize = 16)\n",
    "ax.set_ylabel('count', fontsize = 16)\n",
    "filtered_df.groupby('route_short_name').mean()['diff'].hist(bins = 30)"
   ]
  },
  {
   "cell_type": "code",
   "execution_count": 270,
   "metadata": {},
   "outputs": [
    {
     "name": "stderr",
     "output_type": "stream",
     "text": [
      "C:\\Users\\mipec\\AppData\\Local\\Temp\\ipykernel_16524\\616803441.py:3: SettingWithCopyWarning: \n",
      "A value is trying to be set on a copy of a slice from a DataFrame.\n",
      "Try using .loc[row_indexer,col_indexer] = value instead\n",
      "\n",
      "See the caveats in the documentation: https://pandas.pydata.org/pandas-docs/stable/user_guide/indexing.html#returning-a-view-versus-a-copy\n",
      "  filtered_df['route_type']=filtered_df['route_type'].replace([0,3], ['tramwaj', 'autobus'])\n"
     ]
    },
    {
     "data": {
      "image/png": "[encoded data removed]",
      "text/plain": [
       "<Figure size 864x576 with 1 Axes>"
      ]
     },
     "metadata": {
      "needs_background": "light"
     },
     "output_type": "display_data"
    }
   ],
   "source": [
    "fig, ax = plt.subplots()\n",
    "fig.set_size_inches(12,8)\n",
    "filtered_df['route_type'] = filtered_df['route_type'].replace([0,3], ['tramwaj', 'autobus'])\n",
    "filtered_df.groupby('route_type')\n",
    "for route_type, group in filtered_df.groupby('route_type'):\n",
    "    group['diff'].hist(ax=ax, label=route_type, alpha=0.5)\n",
    "\n",
    "# Add labels and legend\n",
    "ax.set_xlabel('sekundy')\n",
    "ax.set_ylabel('częstość')\n",
    "plt.legend(title='typ pojazdu')\n",
    "\n",
    "# Show the plot\n",
    "plt.show()"
   ]
  },
  {
   "cell_type": "markdown",
   "metadata": {},
   "source": [
    "### Analiza po przystankach i czasach przyjazdu"
   ]
  },
  {
   "cell_type": "code",
   "execution_count": 354,
   "metadata": {},
   "outputs": [
    {
     "name": "stderr",
     "output_type": "stream",
     "text": [
      "C:\\Users\\mipec\\AppData\\Local\\Temp\\ipykernel_16524\\697744876.py:25: SettingWithCopyWarning: \n",
      "A value is trying to be set on a copy of a slice from a DataFrame.\n",
      "Try using .loc[row_indexer,col_indexer] = value instead\n",
      "\n",
      "See the caveats in the documentation: https://pandas.pydata.org/pandas-docs/stable/user_guide/indexing.html#returning-a-view-versus-a-copy\n",
      "  filtered_df['day_after'] = filtered_df['arrival_time_x'].apply(lambda x: True if int(x.split(':')[0]) >= 24 else False)\n",
      "C:\\Users\\mipec\\AppData\\Local\\Temp\\ipykernel_16524\\697744876.py:27: SettingWithCopyWarning: \n",
      "A value is trying to be set on a copy of a slice from a DataFrame.\n",
      "Try using .loc[row_indexer,col_indexer] = value instead\n",
      "\n",
      "See the caveats in the documentation: https://pandas.pydata.org/pandas-docs/stable/user_guide/indexing.html#returning-a-view-versus-a-copy\n",
      "  filtered_df['arrival_time_x'] = filtered_df[['arrival_time_x', 'day_after']].apply(lambda x: str(int(x.arrival_time_x.split(':')[0]) - 24) + ':' + x.arrival_time_x.split(':')[1] + ':' + x.arrival_time_x.split(':')[2] if x.day_after else x.arrival_time_x, axis = 1)\n",
      "C:\\Users\\mipec\\AppData\\Local\\Temp\\ipykernel_16524\\697744876.py:32: SettingWithCopyWarning: \n",
      "A value is trying to be set on a copy of a slice from a DataFrame.\n",
      "Try using .loc[row_indexer,col_indexer] = value instead\n",
      "\n",
      "See the caveats in the documentation: https://pandas.pydata.org/pandas-docs/stable/user_guide/indexing.html#returning-a-view-versus-a-copy\n",
      "  filtered_df['arrival_time_x'] = pd.to_datetime(filtered_df['arrival_time_x'], format='%H:%M:%S')\n",
      "C:\\Users\\mipec\\AppData\\Local\\Temp\\ipykernel_16524\\697744876.py:33: SettingWithCopyWarning: \n",
      "A value is trying to be set on a copy of a slice from a DataFrame.\n",
      "Try using .loc[row_indexer,col_indexer] = value instead\n",
      "\n",
      "See the caveats in the documentation: https://pandas.pydata.org/pandas-docs/stable/user_guide/indexing.html#returning-a-view-versus-a-copy\n",
      "  filtered_df['arrival_time_x'] = filtered_df['arrival_time_x'] + pd.to_timedelta((filtered_df['day_after']).astype(int), unit='d')\n",
      "C:\\Users\\mipec\\AppData\\Local\\Temp\\ipykernel_16524\\697744876.py:34: SettingWithCopyWarning: \n",
      "A value is trying to be set on a copy of a slice from a DataFrame.\n",
      "Try using .loc[row_indexer,col_indexer] = value instead\n",
      "\n",
      "See the caveats in the documentation: https://pandas.pydata.org/pandas-docs/stable/user_guide/indexing.html#returning-a-view-versus-a-copy\n",
      "  filtered_df['interval'] = filtered_df['arrival_time_x'].dt.floor('30T').dt.time\n"
     ]
    },
    {
     "data": {
      "text/html": [
       "<div>\n",
       "<style scoped>\n",
       "    .dataframe tbody tr th:only-of-type {\n",
       "        vertical-align: middle;\n",
       "    }\n",
       "\n",
       "    .dataframe tbody tr th {\n",
       "        vertical-align: top;\n",
       "    }\n",
       "\n",
       "    .dataframe thead th {\n",
       "        text-align: right;\n",
       "    }\n",
       "</style>\n",
       "<table border=\"1\" class=\"dataframe\">\n",
       "  <thead>\n",
       "    <tr style=\"text-align: right;\">\n",
       "      <th></th>\n",
       "      <th>trip_id</th>\n",
       "      <th>arrival_time_x</th>\n",
       "      <th>departure_time_x</th>\n",
       "      <th>stop_id</th>\n",
       "      <th>stop_sequence_x</th>\n",
       "      <th>arrival_time_y</th>\n",
       "      <th>departure_time_y</th>\n",
       "      <th>stop_sequence_y</th>\n",
       "      <th>diff</th>\n",
       "      <th>day_after</th>\n",
       "      <th>interval</th>\n",
       "    </tr>\n",
       "  </thead>\n",
       "  <tbody>\n",
       "    <tr>\n",
       "      <th>0</th>\n",
       "      <td>1_021_1_0637</td>\n",
       "      <td>1900-01-01 06:59:00</td>\n",
       "      <td>06:59:00</td>\n",
       "      <td>4003_08</td>\n",
       "      <td>1</td>\n",
       "      <td>07:00:49</td>\n",
       "      <td>07:00:49</td>\n",
       "      <td>1</td>\n",
       "      <td>109.0</td>\n",
       "      <td>False</td>\n",
       "      <td>06:30:00</td>\n",
       "    </tr>\n",
       "    <tr>\n",
       "      <th>1</th>\n",
       "      <td>1_021_1_0637</td>\n",
       "      <td>1900-01-01 07:01:00</td>\n",
       "      <td>07:01:00</td>\n",
       "      <td>4121_04</td>\n",
       "      <td>2</td>\n",
       "      <td>07:00:49</td>\n",
       "      <td>07:01:14</td>\n",
       "      <td>2</td>\n",
       "      <td>-11.0</td>\n",
       "      <td>False</td>\n",
       "      <td>07:00:00</td>\n",
       "    </tr>\n",
       "    <tr>\n",
       "      <th>2</th>\n",
       "      <td>1_021_1_0637</td>\n",
       "      <td>1900-01-01 07:02:00</td>\n",
       "      <td>07:02:00</td>\n",
       "      <td>4004_04</td>\n",
       "      <td>3</td>\n",
       "      <td>07:01:49</td>\n",
       "      <td>07:01:59</td>\n",
       "      <td>3</td>\n",
       "      <td>-11.0</td>\n",
       "      <td>False</td>\n",
       "      <td>07:00:00</td>\n",
       "    </tr>\n",
       "    <tr>\n",
       "      <th>3</th>\n",
       "      <td>1_021_1_0637</td>\n",
       "      <td>1900-01-01 07:05:00</td>\n",
       "      <td>07:05:00</td>\n",
       "      <td>4005_07</td>\n",
       "      <td>4</td>\n",
       "      <td>07:05:09</td>\n",
       "      <td>07:05:09</td>\n",
       "      <td>4</td>\n",
       "      <td>9.0</td>\n",
       "      <td>False</td>\n",
       "      <td>07:00:00</td>\n",
       "    </tr>\n",
       "    <tr>\n",
       "      <th>4</th>\n",
       "      <td>1_021_1_0718</td>\n",
       "      <td>1900-01-01 07:18:00</td>\n",
       "      <td>07:18:00</td>\n",
       "      <td>4108_04</td>\n",
       "      <td>1</td>\n",
       "      <td>07:18:23</td>\n",
       "      <td>07:18:23</td>\n",
       "      <td>1</td>\n",
       "      <td>23.0</td>\n",
       "      <td>False</td>\n",
       "      <td>07:00:00</td>\n",
       "    </tr>\n",
       "    <tr>\n",
       "      <th>...</th>\n",
       "      <td>...</td>\n",
       "      <td>...</td>\n",
       "      <td>...</td>\n",
       "      <td>...</td>\n",
       "      <td>...</td>\n",
       "      <td>...</td>\n",
       "      <td>...</td>\n",
       "      <td>...</td>\n",
       "      <td>...</td>\n",
       "      <td>...</td>\n",
       "      <td>...</td>\n",
       "    </tr>\n",
       "    <tr>\n",
       "      <th>795150</th>\n",
       "      <td>N95_193_334_2257</td>\n",
       "      <td>1900-01-01 23:23:00</td>\n",
       "      <td>23:23:00</td>\n",
       "      <td>5042_01</td>\n",
       "      <td>30</td>\n",
       "      <td>23:24:37</td>\n",
       "      <td>23:24:37</td>\n",
       "      <td>30</td>\n",
       "      <td>97.0</td>\n",
       "      <td>False</td>\n",
       "      <td>23:00:00</td>\n",
       "    </tr>\n",
       "    <tr>\n",
       "      <th>795151</th>\n",
       "      <td>N95_193_334_2257</td>\n",
       "      <td>1900-01-01 23:24:00</td>\n",
       "      <td>23:24:00</td>\n",
       "      <td>5041_01</td>\n",
       "      <td>31</td>\n",
       "      <td>23:25:37</td>\n",
       "      <td>23:25:37</td>\n",
       "      <td>31</td>\n",
       "      <td>97.0</td>\n",
       "      <td>False</td>\n",
       "      <td>23:00:00</td>\n",
       "    </tr>\n",
       "    <tr>\n",
       "      <th>795152</th>\n",
       "      <td>N95_193_334_2257</td>\n",
       "      <td>1900-01-01 23:25:00</td>\n",
       "      <td>23:25:00</td>\n",
       "      <td>5040_01</td>\n",
       "      <td>32</td>\n",
       "      <td>23:26:35</td>\n",
       "      <td>23:26:35</td>\n",
       "      <td>32</td>\n",
       "      <td>95.0</td>\n",
       "      <td>False</td>\n",
       "      <td>23:00:00</td>\n",
       "    </tr>\n",
       "    <tr>\n",
       "      <th>795153</th>\n",
       "      <td>N95_193_334_2257</td>\n",
       "      <td>1900-01-01 23:26:00</td>\n",
       "      <td>23:26:00</td>\n",
       "      <td>5039_01</td>\n",
       "      <td>33</td>\n",
       "      <td>23:27:41</td>\n",
       "      <td>23:27:53</td>\n",
       "      <td>33</td>\n",
       "      <td>101.0</td>\n",
       "      <td>False</td>\n",
       "      <td>23:00:00</td>\n",
       "    </tr>\n",
       "    <tr>\n",
       "      <th>795154</th>\n",
       "      <td>N95_193_334_2257</td>\n",
       "      <td>1900-01-01 23:27:00</td>\n",
       "      <td>23:27:00</td>\n",
       "      <td>7088_01</td>\n",
       "      <td>34</td>\n",
       "      <td>23:29:18</td>\n",
       "      <td>23:29:18</td>\n",
       "      <td>34</td>\n",
       "      <td>138.0</td>\n",
       "      <td>False</td>\n",
       "      <td>23:00:00</td>\n",
       "    </tr>\n",
       "  </tbody>\n",
       "</table>\n",
       "<p>755652 rows × 11 columns</p>\n",
       "</div>"
      ],
      "text/plain": [
       "                 trip_id      arrival_time_x departure_time_x  stop_id  \\\n",
       "0           1_021_1_0637 1900-01-01 06:59:00         06:59:00  4003_08   \n",
       "1           1_021_1_0637 1900-01-01 07:01:00         07:01:00  4121_04   \n",
       "2           1_021_1_0637 1900-01-01 07:02:00         07:02:00  4004_04   \n",
       "3           1_021_1_0637 1900-01-01 07:05:00         07:05:00  4005_07   \n",
       "4           1_021_1_0718 1900-01-01 07:18:00         07:18:00  4108_04   \n",
       "...                  ...                 ...              ...      ...   \n",
       "795150  N95_193_334_2257 1900-01-01 23:23:00         23:23:00  5042_01   \n",
       "795151  N95_193_334_2257 1900-01-01 23:24:00         23:24:00  5041_01   \n",
       "795152  N95_193_334_2257 1900-01-01 23:25:00         23:25:00  5040_01   \n",
       "795153  N95_193_334_2257 1900-01-01 23:26:00         23:26:00  5039_01   \n",
       "795154  N95_193_334_2257 1900-01-01 23:27:00         23:27:00  7088_01   \n",
       "\n",
       "        stop_sequence_x arrival_time_y departure_time_y  stop_sequence_y  \\\n",
       "0                     1       07:00:49         07:00:49                1   \n",
       "1                     2       07:00:49         07:01:14                2   \n",
       "2                     3       07:01:49         07:01:59                3   \n",
       "3                     4       07:05:09         07:05:09                4   \n",
       "4                     1       07:18:23         07:18:23                1   \n",
       "...                 ...            ...              ...              ...   \n",
       "795150               30       23:24:37         23:24:37               30   \n",
       "795151               31       23:25:37         23:25:37               31   \n",
       "795152               32       23:26:35         23:26:35               32   \n",
       "795153               33       23:27:41         23:27:53               33   \n",
       "795154               34       23:29:18         23:29:18               34   \n",
       "\n",
       "         diff  day_after  interval  \n",
       "0       109.0      False  06:30:00  \n",
       "1       -11.0      False  07:00:00  \n",
       "2       -11.0      False  07:00:00  \n",
       "3         9.0      False  07:00:00  \n",
       "4        23.0      False  07:00:00  \n",
       "...       ...        ...       ...  \n",
       "795150   97.0      False  23:00:00  \n",
       "795151   97.0      False  23:00:00  \n",
       "795152   95.0      False  23:00:00  \n",
       "795153  101.0      False  23:00:00  \n",
       "795154  138.0      False  23:00:00  \n",
       "\n",
       "[755652 rows x 11 columns]"
      ]
     },
     "execution_count": 354,
     "metadata": {},
     "output_type": "execute_result"
    }
   ],
   "source": [
    "directory = \"../dane/gtfs-drive/\"\n",
    "day = \"2022-06-15\"# konkretny plik wybieramy\n",
    "filepath = directory +  day\n",
    "stop_times_df = pd.read_csv(filepath + '.gtfs/stop_times.txt')\n",
    "filepath += \"-rt.gtfs\"\n",
    "rt_stop_times_df = pd.read_csv(filepath + \"/stop_times.txt\")\n",
    "\n",
    "merged_df = stop_times_df.merge(rt_stop_times_df, on=['trip_id', 'stop_id'])\n",
    "\n",
    "# Remove leading and trailing whitespaces using str.strip()\n",
    "merged_df['arrival_time_x'] = merged_df['arrival_time_x'].str.strip()\n",
    "merged_df['arrival_time_y'] = merged_df['arrival_time_y'].str.strip()\n",
    "\n",
    "# Create the past_midnight column\n",
    "\n",
    "merged_df['diff'] = pd.to_timedelta(merged_df['arrival_time_y'], errors='coerce') - pd.to_timedelta(merged_df['arrival_time_x'], errors='coerce')\n",
    "merged_df['diff'] = merged_df['diff'].apply(lambda x: pd.Timedelta.total_seconds(x))\n",
    "merged_df['stop_id'] = merged_df['stop_id'].str.strip()\n",
    "\n",
    "lower_quantile = merged_df['diff'].quantile(0.025)\n",
    "upper_quantile = merged_df['diff'].quantile(0.975)\n",
    "# Filter the dataframe to keep values within the 2.5% - 97.5% range\n",
    "filtered_df = merged_df[(merged_df['diff'] >= lower_quantile) & (merged_df['diff'] <= upper_quantile)]\n",
    "\n",
    "filtered_df['day_after'] = filtered_df['arrival_time_x'].apply(lambda x: True if int(x.split(':')[0]) >= 24 else False)\n",
    "# tmp\n",
    "filtered_df['arrival_time_x'] = filtered_df[['arrival_time_x', 'day_after']].apply(lambda x: str(int(x.arrival_time_x.split(':')[0]) - 24) + ':' + x.arrival_time_x.split(':')[1] + ':' + x.arrival_time_x.split(':')[2] if x.day_after else x.arrival_time_x, axis = 1)\n",
    "filtered_df\n",
    "# # Convert 'arrival_time_x' to datetime objects\n",
    "\n",
    "# # Handle time values exceeding 24:00:00\n",
    "filtered_df['arrival_time_x'] = pd.to_datetime(filtered_df['arrival_time_x'], format='%H:%M:%S')\n",
    "filtered_df['arrival_time_x'] = filtered_df['arrival_time_x'] + pd.to_timedelta((filtered_df['day_after']).astype(int), unit='d')\n",
    "filtered_df['interval'] = filtered_df['arrival_time_x'].dt.floor('30T').dt.time\n",
    "filtered_df"
   ]
  },
  {
   "cell_type": "code",
   "execution_count": 373,
   "metadata": {},
   "outputs": [],
   "source": [
    "result = filtered_df.groupby(['interval', 'stop_id']).mean()['diff'].keys()\n",
    "subset = list(np.random.randint(0, len(result), 12)) # losowe 10 przystanków\n",
    "# subset\n",
    "result = result[subset]\n",
    "stop_ids = result.get_level_values('stop_id').tolist()\n",
    "names = stops_df[stops_df['stop_id'].isin(stop_ids)][['stop_name', 'stop_id']]"
   ]
  },
  {
   "cell_type": "code",
   "execution_count": 376,
   "metadata": {},
   "outputs": [
    {
     "data": {
      "image/png": "[encoded data removed]",
      "text/plain": [
       "<Figure size 1152x864 with 12 Axes>"
      ]
     },
     "metadata": {
      "needs_background": "light"
     },
     "output_type": "display_data"
    }
   ],
   "source": [
    "fig, ax = plt.subplots(3,4)\n",
    "fig.set_size_inches(16,12)\n",
    "for i, stop_id in enumerate(stop_ids):\n",
    "    # stop_id = ' 4003_08'\n",
    "\n",
    "    ax[i//4, i%4].set_title(f'{names[names[\"stop_id\"] == stop_id][\"stop_name\"].values[0]}', fontsize = 12)\n",
    "    ax[i//4, i%4].set_xlabel(xlabel = '', fontsize = 0)\n",
    "    filtered_df[filtered_df['stop_id'] == stop_id].groupby('interval').mean()['diff'].plot(ax=ax[i//4, i%4])"
   ]
  }
 ],
 "metadata": {
  "kernelspec": {
   "display_name": "Python 3",
   "language": "python",
   "name": "python3"
  },
  "language_info": {
   "codemirror_mode": {
    "name": "ipython",
    "version": 3
   },
   "file_extension": ".py",
   "mimetype": "text/x-python",
   "name": "python",
   "nbconvert_exporter": "python",
   "pygments_lexer": "ipython3",
   "version": "3.9.13"
  }
 },
 "nbformat": 4,
 "nbformat_minor": 2
}
